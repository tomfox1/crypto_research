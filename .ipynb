{
 "cells": [
  {
   "cell_type": "code",
   "execution_count": 50,
   "metadata": {},
   "outputs": [
    {
     "name": "stdout",
     "output_type": "stream",
     "text": [
      "Collecting matplotlib\n",
      "\u001b[?25l  Downloading https://files.pythonhosted.org/packages/0d/61/b741990b429341bac1af5f5c645ee7aaa3bbe7daf3418d283c92c4b5ee82/matplotlib-3.2.1-cp37-cp37m-macosx_10_9_x86_64.whl (12.4MB)\n",
      "\u001b[K    100% |████████████████████████████████| 12.5MB 1.1MB/s eta 0:00:01   45% |██████████████▊                 | 5.7MB 14.0MB/s eta 0:00:01\n",
      "\u001b[?25hRequirement already satisfied, skipping upgrade: python-dateutil>=2.1 in /anaconda3/lib/python3.7/site-packages (from matplotlib) (2.8.0)\n",
      "Requirement already satisfied, skipping upgrade: kiwisolver>=1.0.1 in /anaconda3/lib/python3.7/site-packages (from matplotlib) (1.0.1)\n",
      "Requirement already satisfied, skipping upgrade: numpy>=1.11 in /anaconda3/lib/python3.7/site-packages (from matplotlib) (1.16.2)\n",
      "Requirement already satisfied, skipping upgrade: pyparsing!=2.0.4,!=2.1.2,!=2.1.6,>=2.0.1 in /anaconda3/lib/python3.7/site-packages (from matplotlib) (2.3.1)\n",
      "Requirement already satisfied, skipping upgrade: cycler>=0.10 in /anaconda3/lib/python3.7/site-packages (from matplotlib) (0.10.0)\n",
      "Requirement already satisfied, skipping upgrade: six>=1.5 in /anaconda3/lib/python3.7/site-packages (from python-dateutil>=2.1->matplotlib) (1.12.0)\n",
      "Requirement already satisfied, skipping upgrade: setuptools in /anaconda3/lib/python3.7/site-packages (from kiwisolver>=1.0.1->matplotlib) (40.8.0)\n",
      "Installing collected packages: matplotlib\n",
      "  Found existing installation: matplotlib 3.0.3\n",
      "    Uninstalling matplotlib-3.0.3:\n",
      "      Successfully uninstalled matplotlib-3.0.3\n",
      "Successfully installed matplotlib-3.2.1\n"
     ]
    }
   ],
   "source": [
    "!pip install matplotlib --upgrade "
   ]
  },
  {
   "cell_type": "code",
   "execution_count": 277,
   "metadata": {},
   "outputs": [],
   "source": [
    "import pandas as pd\n",
    "import numpy as np \n",
    "import matplotlib.pyplot as plt \n",
    "import seaborn as sns \n",
    "import datetime"
   ]
  },
  {
   "cell_type": "code",
   "execution_count": 2,
   "metadata": {},
   "outputs": [
    {
     "data": {
      "text/plain": [
       "'3.2.1'"
      ]
     },
     "execution_count": 2,
     "metadata": {},
     "output_type": "execute_result"
    }
   ],
   "source": [
    "import matplotlib\n",
    "matplotlib.__version__"
   ]
  },
  {
   "cell_type": "code",
   "execution_count": 3,
   "metadata": {},
   "outputs": [],
   "source": [
    "pd.set_option('display.max_columns', None)\n",
    "pd.set_option('display.max_rows', None)"
   ]
  },
  {
   "cell_type": "code",
   "execution_count": 4,
   "metadata": {},
   "outputs": [],
   "source": [
    "btc = pd.read_csv('btc_april.csv')"
   ]
  },
  {
   "cell_type": "code",
   "execution_count": 5,
   "metadata": {},
   "outputs": [
    {
     "data": {
      "text/html": [
       "<div>\n",
       "<style scoped>\n",
       "    .dataframe tbody tr th:only-of-type {\n",
       "        vertical-align: middle;\n",
       "    }\n",
       "\n",
       "    .dataframe tbody tr th {\n",
       "        vertical-align: top;\n",
       "    }\n",
       "\n",
       "    .dataframe thead th {\n",
       "        text-align: right;\n",
       "    }\n",
       "</style>\n",
       "<table border=\"1\" class=\"dataframe\">\n",
       "  <thead>\n",
       "    <tr style=\"text-align: right;\">\n",
       "      <th></th>\n",
       "      <th>date</th>\n",
       "      <th>AdrActCnt</th>\n",
       "      <th>BlkCnt</th>\n",
       "      <th>BlkSizeByte</th>\n",
       "      <th>BlkSizeMeanByte</th>\n",
       "      <th>CapMVRVCur</th>\n",
       "      <th>CapMrktCurUSD</th>\n",
       "      <th>CapRealUSD</th>\n",
       "      <th>DiffMean</th>\n",
       "      <th>FeeMeanNtv</th>\n",
       "      <th>FeeMeanUSD</th>\n",
       "      <th>FeeMedNtv</th>\n",
       "      <th>FeeMedUSD</th>\n",
       "      <th>FeeTotNtv</th>\n",
       "      <th>FeeTotUSD</th>\n",
       "      <th>HashRate</th>\n",
       "      <th>IssContNtv</th>\n",
       "      <th>IssContPctAnn</th>\n",
       "      <th>IssContUSD</th>\n",
       "      <th>IssTotNtv</th>\n",
       "      <th>IssTotUSD</th>\n",
       "      <th>NVTAdj</th>\n",
       "      <th>NVTAdj90</th>\n",
       "      <th>PriceBTC</th>\n",
       "      <th>PriceUSD</th>\n",
       "      <th>ROI1yr</th>\n",
       "      <th>ROI30d</th>\n",
       "      <th>SplyCur</th>\n",
       "      <th>TxCnt</th>\n",
       "      <th>TxTfrCnt</th>\n",
       "      <th>TxTfrValAdjNtv</th>\n",
       "      <th>TxTfrValAdjUSD</th>\n",
       "      <th>TxTfrValMeanNtv</th>\n",
       "      <th>TxTfrValMeanUSD</th>\n",
       "      <th>TxTfrValMedNtv</th>\n",
       "      <th>TxTfrValMedUSD</th>\n",
       "      <th>TxTfrValNtv</th>\n",
       "      <th>TxTfrValUSD</th>\n",
       "      <th>VtyDayRet180d</th>\n",
       "      <th>VtyDayRet30d</th>\n",
       "      <th>VtyDayRet60d</th>\n",
       "    </tr>\n",
       "  </thead>\n",
       "  <tbody>\n",
       "    <tr>\n",
       "      <th>0</th>\n",
       "      <td>2009-01-03</td>\n",
       "      <td>0</td>\n",
       "      <td>0</td>\n",
       "      <td>0</td>\n",
       "      <td>NaN</td>\n",
       "      <td>NaN</td>\n",
       "      <td>NaN</td>\n",
       "      <td>0.0</td>\n",
       "      <td>NaN</td>\n",
       "      <td>NaN</td>\n",
       "      <td>NaN</td>\n",
       "      <td>NaN</td>\n",
       "      <td>NaN</td>\n",
       "      <td>0.0</td>\n",
       "      <td>NaN</td>\n",
       "      <td>NaN</td>\n",
       "      <td>NaN</td>\n",
       "      <td>NaN</td>\n",
       "      <td>NaN</td>\n",
       "      <td>NaN</td>\n",
       "      <td>NaN</td>\n",
       "      <td>NaN</td>\n",
       "      <td>NaN</td>\n",
       "      <td>1</td>\n",
       "      <td>NaN</td>\n",
       "      <td>NaN</td>\n",
       "      <td>NaN</td>\n",
       "      <td>0.0</td>\n",
       "      <td>0</td>\n",
       "      <td>0</td>\n",
       "      <td>0.0</td>\n",
       "      <td>NaN</td>\n",
       "      <td>NaN</td>\n",
       "      <td>NaN</td>\n",
       "      <td>NaN</td>\n",
       "      <td>NaN</td>\n",
       "      <td>0.0</td>\n",
       "      <td>NaN</td>\n",
       "      <td>NaN</td>\n",
       "      <td>NaN</td>\n",
       "      <td>NaN</td>\n",
       "    </tr>\n",
       "    <tr>\n",
       "      <th>1</th>\n",
       "      <td>2009-01-04</td>\n",
       "      <td>0</td>\n",
       "      <td>0</td>\n",
       "      <td>0</td>\n",
       "      <td>NaN</td>\n",
       "      <td>NaN</td>\n",
       "      <td>NaN</td>\n",
       "      <td>0.0</td>\n",
       "      <td>NaN</td>\n",
       "      <td>NaN</td>\n",
       "      <td>NaN</td>\n",
       "      <td>NaN</td>\n",
       "      <td>NaN</td>\n",
       "      <td>0.0</td>\n",
       "      <td>NaN</td>\n",
       "      <td>NaN</td>\n",
       "      <td>NaN</td>\n",
       "      <td>NaN</td>\n",
       "      <td>NaN</td>\n",
       "      <td>NaN</td>\n",
       "      <td>NaN</td>\n",
       "      <td>NaN</td>\n",
       "      <td>NaN</td>\n",
       "      <td>1</td>\n",
       "      <td>NaN</td>\n",
       "      <td>NaN</td>\n",
       "      <td>NaN</td>\n",
       "      <td>0.0</td>\n",
       "      <td>0</td>\n",
       "      <td>0</td>\n",
       "      <td>0.0</td>\n",
       "      <td>NaN</td>\n",
       "      <td>NaN</td>\n",
       "      <td>NaN</td>\n",
       "      <td>NaN</td>\n",
       "      <td>NaN</td>\n",
       "      <td>0.0</td>\n",
       "      <td>NaN</td>\n",
       "      <td>NaN</td>\n",
       "      <td>NaN</td>\n",
       "      <td>NaN</td>\n",
       "    </tr>\n",
       "    <tr>\n",
       "      <th>2</th>\n",
       "      <td>2009-01-05</td>\n",
       "      <td>0</td>\n",
       "      <td>0</td>\n",
       "      <td>0</td>\n",
       "      <td>NaN</td>\n",
       "      <td>NaN</td>\n",
       "      <td>NaN</td>\n",
       "      <td>0.0</td>\n",
       "      <td>NaN</td>\n",
       "      <td>NaN</td>\n",
       "      <td>NaN</td>\n",
       "      <td>NaN</td>\n",
       "      <td>NaN</td>\n",
       "      <td>0.0</td>\n",
       "      <td>NaN</td>\n",
       "      <td>NaN</td>\n",
       "      <td>NaN</td>\n",
       "      <td>NaN</td>\n",
       "      <td>NaN</td>\n",
       "      <td>NaN</td>\n",
       "      <td>NaN</td>\n",
       "      <td>NaN</td>\n",
       "      <td>NaN</td>\n",
       "      <td>1</td>\n",
       "      <td>NaN</td>\n",
       "      <td>NaN</td>\n",
       "      <td>NaN</td>\n",
       "      <td>0.0</td>\n",
       "      <td>0</td>\n",
       "      <td>0</td>\n",
       "      <td>0.0</td>\n",
       "      <td>NaN</td>\n",
       "      <td>NaN</td>\n",
       "      <td>NaN</td>\n",
       "      <td>NaN</td>\n",
       "      <td>NaN</td>\n",
       "      <td>0.0</td>\n",
       "      <td>NaN</td>\n",
       "      <td>NaN</td>\n",
       "      <td>NaN</td>\n",
       "      <td>NaN</td>\n",
       "    </tr>\n",
       "    <tr>\n",
       "      <th>3</th>\n",
       "      <td>2009-01-06</td>\n",
       "      <td>0</td>\n",
       "      <td>0</td>\n",
       "      <td>0</td>\n",
       "      <td>NaN</td>\n",
       "      <td>NaN</td>\n",
       "      <td>NaN</td>\n",
       "      <td>0.0</td>\n",
       "      <td>NaN</td>\n",
       "      <td>NaN</td>\n",
       "      <td>NaN</td>\n",
       "      <td>NaN</td>\n",
       "      <td>NaN</td>\n",
       "      <td>0.0</td>\n",
       "      <td>NaN</td>\n",
       "      <td>NaN</td>\n",
       "      <td>NaN</td>\n",
       "      <td>NaN</td>\n",
       "      <td>NaN</td>\n",
       "      <td>NaN</td>\n",
       "      <td>NaN</td>\n",
       "      <td>NaN</td>\n",
       "      <td>NaN</td>\n",
       "      <td>1</td>\n",
       "      <td>NaN</td>\n",
       "      <td>NaN</td>\n",
       "      <td>NaN</td>\n",
       "      <td>0.0</td>\n",
       "      <td>0</td>\n",
       "      <td>0</td>\n",
       "      <td>0.0</td>\n",
       "      <td>NaN</td>\n",
       "      <td>NaN</td>\n",
       "      <td>NaN</td>\n",
       "      <td>NaN</td>\n",
       "      <td>NaN</td>\n",
       "      <td>0.0</td>\n",
       "      <td>NaN</td>\n",
       "      <td>NaN</td>\n",
       "      <td>NaN</td>\n",
       "      <td>NaN</td>\n",
       "    </tr>\n",
       "    <tr>\n",
       "      <th>4</th>\n",
       "      <td>2009-01-07</td>\n",
       "      <td>0</td>\n",
       "      <td>0</td>\n",
       "      <td>0</td>\n",
       "      <td>NaN</td>\n",
       "      <td>NaN</td>\n",
       "      <td>NaN</td>\n",
       "      <td>0.0</td>\n",
       "      <td>NaN</td>\n",
       "      <td>NaN</td>\n",
       "      <td>NaN</td>\n",
       "      <td>NaN</td>\n",
       "      <td>NaN</td>\n",
       "      <td>0.0</td>\n",
       "      <td>NaN</td>\n",
       "      <td>NaN</td>\n",
       "      <td>NaN</td>\n",
       "      <td>NaN</td>\n",
       "      <td>NaN</td>\n",
       "      <td>NaN</td>\n",
       "      <td>NaN</td>\n",
       "      <td>NaN</td>\n",
       "      <td>NaN</td>\n",
       "      <td>1</td>\n",
       "      <td>NaN</td>\n",
       "      <td>NaN</td>\n",
       "      <td>NaN</td>\n",
       "      <td>0.0</td>\n",
       "      <td>0</td>\n",
       "      <td>0</td>\n",
       "      <td>0.0</td>\n",
       "      <td>NaN</td>\n",
       "      <td>NaN</td>\n",
       "      <td>NaN</td>\n",
       "      <td>NaN</td>\n",
       "      <td>NaN</td>\n",
       "      <td>0.0</td>\n",
       "      <td>NaN</td>\n",
       "      <td>NaN</td>\n",
       "      <td>NaN</td>\n",
       "      <td>NaN</td>\n",
       "    </tr>\n",
       "  </tbody>\n",
       "</table>\n",
       "</div>"
      ],
      "text/plain": [
       "         date  AdrActCnt  BlkCnt  BlkSizeByte  BlkSizeMeanByte  CapMVRVCur  \\\n",
       "0  2009-01-03          0       0            0              NaN         NaN   \n",
       "1  2009-01-04          0       0            0              NaN         NaN   \n",
       "2  2009-01-05          0       0            0              NaN         NaN   \n",
       "3  2009-01-06          0       0            0              NaN         NaN   \n",
       "4  2009-01-07          0       0            0              NaN         NaN   \n",
       "\n",
       "   CapMrktCurUSD  CapRealUSD  DiffMean  FeeMeanNtv  FeeMeanUSD  FeeMedNtv  \\\n",
       "0            NaN         0.0       NaN         NaN         NaN        NaN   \n",
       "1            NaN         0.0       NaN         NaN         NaN        NaN   \n",
       "2            NaN         0.0       NaN         NaN         NaN        NaN   \n",
       "3            NaN         0.0       NaN         NaN         NaN        NaN   \n",
       "4            NaN         0.0       NaN         NaN         NaN        NaN   \n",
       "\n",
       "   FeeMedUSD  FeeTotNtv  FeeTotUSD  HashRate  IssContNtv  IssContPctAnn  \\\n",
       "0        NaN        0.0        NaN       NaN         NaN            NaN   \n",
       "1        NaN        0.0        NaN       NaN         NaN            NaN   \n",
       "2        NaN        0.0        NaN       NaN         NaN            NaN   \n",
       "3        NaN        0.0        NaN       NaN         NaN            NaN   \n",
       "4        NaN        0.0        NaN       NaN         NaN            NaN   \n",
       "\n",
       "   IssContUSD  IssTotNtv  IssTotUSD  NVTAdj  NVTAdj90  PriceBTC  PriceUSD  \\\n",
       "0         NaN        NaN        NaN     NaN       NaN         1       NaN   \n",
       "1         NaN        NaN        NaN     NaN       NaN         1       NaN   \n",
       "2         NaN        NaN        NaN     NaN       NaN         1       NaN   \n",
       "3         NaN        NaN        NaN     NaN       NaN         1       NaN   \n",
       "4         NaN        NaN        NaN     NaN       NaN         1       NaN   \n",
       "\n",
       "   ROI1yr  ROI30d  SplyCur  TxCnt  TxTfrCnt  TxTfrValAdjNtv  TxTfrValAdjUSD  \\\n",
       "0     NaN     NaN      0.0      0         0             0.0             NaN   \n",
       "1     NaN     NaN      0.0      0         0             0.0             NaN   \n",
       "2     NaN     NaN      0.0      0         0             0.0             NaN   \n",
       "3     NaN     NaN      0.0      0         0             0.0             NaN   \n",
       "4     NaN     NaN      0.0      0         0             0.0             NaN   \n",
       "\n",
       "   TxTfrValMeanNtv  TxTfrValMeanUSD  TxTfrValMedNtv  TxTfrValMedUSD  \\\n",
       "0              NaN              NaN             NaN             NaN   \n",
       "1              NaN              NaN             NaN             NaN   \n",
       "2              NaN              NaN             NaN             NaN   \n",
       "3              NaN              NaN             NaN             NaN   \n",
       "4              NaN              NaN             NaN             NaN   \n",
       "\n",
       "   TxTfrValNtv  TxTfrValUSD  VtyDayRet180d  VtyDayRet30d  VtyDayRet60d  \n",
       "0          0.0          NaN            NaN           NaN           NaN  \n",
       "1          0.0          NaN            NaN           NaN           NaN  \n",
       "2          0.0          NaN            NaN           NaN           NaN  \n",
       "3          0.0          NaN            NaN           NaN           NaN  \n",
       "4          0.0          NaN            NaN           NaN           NaN  "
      ]
     },
     "execution_count": 5,
     "metadata": {},
     "output_type": "execute_result"
    }
   ],
   "source": [
    "btc.head()"
   ]
  },
  {
   "cell_type": "code",
   "execution_count": 6,
   "metadata": {},
   "outputs": [
    {
     "data": {
      "text/html": [
       "<div>\n",
       "<style scoped>\n",
       "    .dataframe tbody tr th:only-of-type {\n",
       "        vertical-align: middle;\n",
       "    }\n",
       "\n",
       "    .dataframe tbody tr th {\n",
       "        vertical-align: top;\n",
       "    }\n",
       "\n",
       "    .dataframe thead th {\n",
       "        text-align: right;\n",
       "    }\n",
       "</style>\n",
       "<table border=\"1\" class=\"dataframe\">\n",
       "  <thead>\n",
       "    <tr style=\"text-align: right;\">\n",
       "      <th></th>\n",
       "      <th>date</th>\n",
       "      <th>IssContNtv</th>\n",
       "    </tr>\n",
       "  </thead>\n",
       "  <tbody>\n",
       "    <tr>\n",
       "      <th>0</th>\n",
       "      <td>2009-01-03</td>\n",
       "      <td>NaN</td>\n",
       "    </tr>\n",
       "    <tr>\n",
       "      <th>1</th>\n",
       "      <td>2009-01-04</td>\n",
       "      <td>NaN</td>\n",
       "    </tr>\n",
       "    <tr>\n",
       "      <th>2</th>\n",
       "      <td>2009-01-05</td>\n",
       "      <td>NaN</td>\n",
       "    </tr>\n",
       "    <tr>\n",
       "      <th>3</th>\n",
       "      <td>2009-01-06</td>\n",
       "      <td>NaN</td>\n",
       "    </tr>\n",
       "    <tr>\n",
       "      <th>4</th>\n",
       "      <td>2009-01-07</td>\n",
       "      <td>NaN</td>\n",
       "    </tr>\n",
       "  </tbody>\n",
       "</table>\n",
       "</div>"
      ],
      "text/plain": [
       "         date  IssContNtv\n",
       "0  2009-01-03         NaN\n",
       "1  2009-01-04         NaN\n",
       "2  2009-01-05         NaN\n",
       "3  2009-01-06         NaN\n",
       "4  2009-01-07         NaN"
      ]
     },
     "execution_count": 6,
     "metadata": {},
     "output_type": "execute_result"
    }
   ],
   "source": [
    "#look at Issuance Count to determine exact dates where block reward halvings occured \n",
    "#1st halving: 2012-11-29\n",
    "#2nd halving: 2016-07-10\n",
    "# ~3rd halving: 2020-05-12 \n",
    "\n",
    "btc[['date', 'IssContNtv']].head()"
   ]
  },
  {
   "cell_type": "code",
   "execution_count": 7,
   "metadata": {},
   "outputs": [],
   "source": [
    "#we are only interested in btc volatility \n",
    "\n",
    "btc_vol = btc[['date', 'VtyDayRet180d', 'VtyDayRet60d', 'VtyDayRet30d']]"
   ]
  },
  {
   "cell_type": "code",
   "execution_count": 8,
   "metadata": {},
   "outputs": [
    {
     "data": {
      "text/html": [
       "<div>\n",
       "<style scoped>\n",
       "    .dataframe tbody tr th:only-of-type {\n",
       "        vertical-align: middle;\n",
       "    }\n",
       "\n",
       "    .dataframe tbody tr th {\n",
       "        vertical-align: top;\n",
       "    }\n",
       "\n",
       "    .dataframe thead th {\n",
       "        text-align: right;\n",
       "    }\n",
       "</style>\n",
       "<table border=\"1\" class=\"dataframe\">\n",
       "  <thead>\n",
       "    <tr style=\"text-align: right;\">\n",
       "      <th></th>\n",
       "      <th>date</th>\n",
       "      <th>VtyDayRet180d</th>\n",
       "      <th>VtyDayRet60d</th>\n",
       "      <th>VtyDayRet30d</th>\n",
       "    </tr>\n",
       "  </thead>\n",
       "  <tbody>\n",
       "    <tr>\n",
       "      <th>0</th>\n",
       "      <td>2009-01-03</td>\n",
       "      <td>NaN</td>\n",
       "      <td>NaN</td>\n",
       "      <td>NaN</td>\n",
       "    </tr>\n",
       "    <tr>\n",
       "      <th>1</th>\n",
       "      <td>2009-01-04</td>\n",
       "      <td>NaN</td>\n",
       "      <td>NaN</td>\n",
       "      <td>NaN</td>\n",
       "    </tr>\n",
       "    <tr>\n",
       "      <th>2</th>\n",
       "      <td>2009-01-05</td>\n",
       "      <td>NaN</td>\n",
       "      <td>NaN</td>\n",
       "      <td>NaN</td>\n",
       "    </tr>\n",
       "    <tr>\n",
       "      <th>3</th>\n",
       "      <td>2009-01-06</td>\n",
       "      <td>NaN</td>\n",
       "      <td>NaN</td>\n",
       "      <td>NaN</td>\n",
       "    </tr>\n",
       "    <tr>\n",
       "      <th>4</th>\n",
       "      <td>2009-01-07</td>\n",
       "      <td>NaN</td>\n",
       "      <td>NaN</td>\n",
       "      <td>NaN</td>\n",
       "    </tr>\n",
       "  </tbody>\n",
       "</table>\n",
       "</div>"
      ],
      "text/plain": [
       "         date  VtyDayRet180d  VtyDayRet60d  VtyDayRet30d\n",
       "0  2009-01-03            NaN           NaN           NaN\n",
       "1  2009-01-04            NaN           NaN           NaN\n",
       "2  2009-01-05            NaN           NaN           NaN\n",
       "3  2009-01-06            NaN           NaN           NaN\n",
       "4  2009-01-07            NaN           NaN           NaN"
      ]
     },
     "execution_count": 8,
     "metadata": {},
     "output_type": "execute_result"
    }
   ],
   "source": [
    "btc_vol.head() "
   ]
  },
  {
   "cell_type": "code",
   "execution_count": 9,
   "metadata": {},
   "outputs": [
    {
     "data": {
      "text/plain": [
       "date             0\n",
       "VtyDayRet180d    0\n",
       "VtyDayRet60d     0\n",
       "VtyDayRet30d     0\n",
       "dtype: int64"
      ]
     },
     "execution_count": 9,
     "metadata": {},
     "output_type": "execute_result"
    }
   ],
   "source": [
    "#checking for NaNs \n",
    "btc_vol = btc_vol.fillna(0)\n",
    "btc_vol.isna().sum()"
   ]
  },
  {
   "cell_type": "code",
   "execution_count": 10,
   "metadata": {},
   "outputs": [
    {
     "data": {
      "text/html": [
       "<div>\n",
       "<style scoped>\n",
       "    .dataframe tbody tr th:only-of-type {\n",
       "        vertical-align: middle;\n",
       "    }\n",
       "\n",
       "    .dataframe tbody tr th {\n",
       "        vertical-align: top;\n",
       "    }\n",
       "\n",
       "    .dataframe thead th {\n",
       "        text-align: right;\n",
       "    }\n",
       "</style>\n",
       "<table border=\"1\" class=\"dataframe\">\n",
       "  <thead>\n",
       "    <tr style=\"text-align: right;\">\n",
       "      <th></th>\n",
       "      <th>date</th>\n",
       "      <th>VtyDayRet180d</th>\n",
       "      <th>VtyDayRet60d</th>\n",
       "      <th>VtyDayRet30d</th>\n",
       "    </tr>\n",
       "  </thead>\n",
       "  <tbody>\n",
       "    <tr>\n",
       "      <th>0</th>\n",
       "      <td>2009-01-03</td>\n",
       "      <td>0.0</td>\n",
       "      <td>0.0</td>\n",
       "      <td>0.0</td>\n",
       "    </tr>\n",
       "    <tr>\n",
       "      <th>1</th>\n",
       "      <td>2009-01-04</td>\n",
       "      <td>0.0</td>\n",
       "      <td>0.0</td>\n",
       "      <td>0.0</td>\n",
       "    </tr>\n",
       "    <tr>\n",
       "      <th>2</th>\n",
       "      <td>2009-01-05</td>\n",
       "      <td>0.0</td>\n",
       "      <td>0.0</td>\n",
       "      <td>0.0</td>\n",
       "    </tr>\n",
       "    <tr>\n",
       "      <th>3</th>\n",
       "      <td>2009-01-06</td>\n",
       "      <td>0.0</td>\n",
       "      <td>0.0</td>\n",
       "      <td>0.0</td>\n",
       "    </tr>\n",
       "    <tr>\n",
       "      <th>4</th>\n",
       "      <td>2009-01-07</td>\n",
       "      <td>0.0</td>\n",
       "      <td>0.0</td>\n",
       "      <td>0.0</td>\n",
       "    </tr>\n",
       "  </tbody>\n",
       "</table>\n",
       "</div>"
      ],
      "text/plain": [
       "         date  VtyDayRet180d  VtyDayRet60d  VtyDayRet30d\n",
       "0  2009-01-03            0.0           0.0           0.0\n",
       "1  2009-01-04            0.0           0.0           0.0\n",
       "2  2009-01-05            0.0           0.0           0.0\n",
       "3  2009-01-06            0.0           0.0           0.0\n",
       "4  2009-01-07            0.0           0.0           0.0"
      ]
     },
     "execution_count": 10,
     "metadata": {},
     "output_type": "execute_result"
    }
   ],
   "source": [
    "btc_vol.head()"
   ]
  },
  {
   "cell_type": "code",
   "execution_count": 11,
   "metadata": {},
   "outputs": [],
   "source": [
    "#had to convert 'date' column to datetime since the 'str' format wasn't beind handled well by 'plt' or 'sns' \n",
    "\n",
    "btc_vol['date'] = pd.to_datetime(btc_vol['date'])"
   ]
  },
  {
   "cell_type": "code",
   "execution_count": 12,
   "metadata": {},
   "outputs": [
    {
     "name": "stderr",
     "output_type": "stream",
     "text": [
      "/anaconda3/lib/python3.7/site-packages/pandas/plotting/_converter.py:129: FutureWarning: Using an implicitly registered datetime converter for a matplotlib plotting method. The converter was registered by pandas on import. Future versions of pandas will require you to explicitly register matplotlib converters.\n",
      "\n",
      "To register the converters:\n",
      "\t>>> from pandas.plotting import register_matplotlib_converters\n",
      "\t>>> register_matplotlib_converters()\n",
      "  warnings.warn(msg, FutureWarning)\n"
     ]
    },
    {
     "data": {
      "image/png": "[encoded data removed]",
      "text/plain": [
       "<Figure size 432x288 with 1 Axes>"
      ]
     },
     "metadata": {
      "needs_background": "light"
     },
     "output_type": "display_data"
    }
   ],
   "source": [
    "ax = plt.plot(btc_vol['date'], btc_vol['VtyDayRet180d'])"
   ]
  },
  {
   "cell_type": "code",
   "execution_count": 13,
   "metadata": {},
   "outputs": [
    {
     "data": {
      "image/png": "[encoded data removed]",
      "text/plain": [
       "<Figure size 432x288 with 1 Axes>"
      ]
     },
     "metadata": {
      "needs_background": "light"
     },
     "output_type": "display_data"
    }
   ],
   "source": [
    "#using seaborn now \n",
    "vol_plot_fast = sns.lineplot(x='date', y='VtyDayRet30d', data=btc_vol)"
   ]
  },
  {
   "cell_type": "code",
   "execution_count": 14,
   "metadata": {},
   "outputs": [
    {
     "data": {
      "image/png": "[encoded data removed]",
      "text/plain": [
       "<Figure size 432x288 with 1 Axes>"
      ]
     },
     "metadata": {
      "needs_background": "light"
     },
     "output_type": "display_data"
    }
   ],
   "source": [
    "vol_plot_med = sns.lineplot(x='date', y='VtyDayRet60d', data=btc_vol)"
   ]
  },
  {
   "cell_type": "code",
   "execution_count": 15,
   "metadata": {},
   "outputs": [
    {
     "data": {
      "image/png": "[encoded data removed]",
      "text/plain": [
       "<Figure size 432x288 with 1 Axes>"
      ]
     },
     "metadata": {
      "needs_background": "light"
     },
     "output_type": "display_data"
    }
   ],
   "source": [
    "vol_plot_slow = sns.lineplot(x='date', y='VtyDayRet180d', data=btc_vol)"
   ]
  },
  {
   "cell_type": "code",
   "execution_count": 414,
   "metadata": {},
   "outputs": [],
   "source": [
    "#might be more useful to zoom in \n",
    "\n",
    "#divide df for period between inception and 1st halving \n",
    "#and from 1st halving to 2nd halving \n",
    "#and finally from 2nd halving to preent \n",
    "\n",
    "#creating masks \n",
    "halv_1 = btc_vol[btc_vol['date'] == '2012-11-28']\n",
    "halv_2 = btc_vol[btc_vol['date'] == '2016-07-09']"
   ]
  },
  {
   "cell_type": "code",
   "execution_count": 105,
   "metadata": {},
   "outputs": [],
   "source": [
    "vol_1st_halv = btc_vol[0:halv_1.index[0]+1]\n",
    "vol_2nd_halv = btc_vol[halv_1.index[0]:halv_2.index[0]+1]\n",
    "vol_pre = btc_vol[halv_2.index[0]:-1]"
   ]
  },
  {
   "cell_type": "code",
   "execution_count": 106,
   "metadata": {},
   "outputs": [
    {
     "data": {
      "text/html": [
       "<div>\n",
       "<style scoped>\n",
       "    .dataframe tbody tr th:only-of-type {\n",
       "        vertical-align: middle;\n",
       "    }\n",
       "\n",
       "    .dataframe tbody tr th {\n",
       "        vertical-align: top;\n",
       "    }\n",
       "\n",
       "    .dataframe thead th {\n",
       "        text-align: right;\n",
       "    }\n",
       "</style>\n",
       "<table border=\"1\" class=\"dataframe\">\n",
       "  <thead>\n",
       "    <tr style=\"text-align: right;\">\n",
       "      <th></th>\n",
       "      <th>date</th>\n",
       "      <th>VtyDayRet180d</th>\n",
       "      <th>VtyDayRet60d</th>\n",
       "      <th>VtyDayRet30d</th>\n",
       "    </tr>\n",
       "  </thead>\n",
       "  <tbody>\n",
       "    <tr>\n",
       "      <th>0</th>\n",
       "      <td>2009-01-03</td>\n",
       "      <td>0.0</td>\n",
       "      <td>0.0</td>\n",
       "      <td>0.0</td>\n",
       "    </tr>\n",
       "    <tr>\n",
       "      <th>1</th>\n",
       "      <td>2009-01-04</td>\n",
       "      <td>0.0</td>\n",
       "      <td>0.0</td>\n",
       "      <td>0.0</td>\n",
       "    </tr>\n",
       "    <tr>\n",
       "      <th>2</th>\n",
       "      <td>2009-01-05</td>\n",
       "      <td>0.0</td>\n",
       "      <td>0.0</td>\n",
       "      <td>0.0</td>\n",
       "    </tr>\n",
       "    <tr>\n",
       "      <th>3</th>\n",
       "      <td>2009-01-06</td>\n",
       "      <td>0.0</td>\n",
       "      <td>0.0</td>\n",
       "      <td>0.0</td>\n",
       "    </tr>\n",
       "    <tr>\n",
       "      <th>4</th>\n",
       "      <td>2009-01-07</td>\n",
       "      <td>0.0</td>\n",
       "      <td>0.0</td>\n",
       "      <td>0.0</td>\n",
       "    </tr>\n",
       "  </tbody>\n",
       "</table>\n",
       "</div>"
      ],
      "text/plain": [
       "        date  VtyDayRet180d  VtyDayRet60d  VtyDayRet30d\n",
       "0 2009-01-03            0.0           0.0           0.0\n",
       "1 2009-01-04            0.0           0.0           0.0\n",
       "2 2009-01-05            0.0           0.0           0.0\n",
       "3 2009-01-06            0.0           0.0           0.0\n",
       "4 2009-01-07            0.0           0.0           0.0"
      ]
     },
     "execution_count": 106,
     "metadata": {},
     "output_type": "execute_result"
    }
   ],
   "source": [
    "vol_1st_halv.head()"
   ]
  },
  {
   "cell_type": "code",
   "execution_count": 107,
   "metadata": {},
   "outputs": [
    {
     "data": {
      "text/html": [
       "<div>\n",
       "<style scoped>\n",
       "    .dataframe tbody tr th:only-of-type {\n",
       "        vertical-align: middle;\n",
       "    }\n",
       "\n",
       "    .dataframe tbody tr th {\n",
       "        vertical-align: top;\n",
       "    }\n",
       "\n",
       "    .dataframe thead th {\n",
       "        text-align: right;\n",
       "    }\n",
       "</style>\n",
       "<table border=\"1\" class=\"dataframe\">\n",
       "  <thead>\n",
       "    <tr style=\"text-align: right;\">\n",
       "      <th></th>\n",
       "      <th>date</th>\n",
       "      <th>VtyDayRet180d</th>\n",
       "      <th>VtyDayRet60d</th>\n",
       "      <th>VtyDayRet30d</th>\n",
       "    </tr>\n",
       "  </thead>\n",
       "  <tbody>\n",
       "    <tr>\n",
       "      <th>1425</th>\n",
       "      <td>2012-11-28</td>\n",
       "      <td>0.043315</td>\n",
       "      <td>0.022061</td>\n",
       "      <td>0.018460</td>\n",
       "    </tr>\n",
       "    <tr>\n",
       "      <th>1426</th>\n",
       "      <td>2012-11-29</td>\n",
       "      <td>0.043314</td>\n",
       "      <td>0.022129</td>\n",
       "      <td>0.018274</td>\n",
       "    </tr>\n",
       "    <tr>\n",
       "      <th>1427</th>\n",
       "      <td>2012-11-30</td>\n",
       "      <td>0.043307</td>\n",
       "      <td>0.022146</td>\n",
       "      <td>0.017831</td>\n",
       "    </tr>\n",
       "    <tr>\n",
       "      <th>1428</th>\n",
       "      <td>2012-12-01</td>\n",
       "      <td>0.043308</td>\n",
       "      <td>0.021721</td>\n",
       "      <td>0.014788</td>\n",
       "    </tr>\n",
       "    <tr>\n",
       "      <th>1429</th>\n",
       "      <td>2012-12-02</td>\n",
       "      <td>0.043272</td>\n",
       "      <td>0.021685</td>\n",
       "      <td>0.014778</td>\n",
       "    </tr>\n",
       "  </tbody>\n",
       "</table>\n",
       "</div>"
      ],
      "text/plain": [
       "           date  VtyDayRet180d  VtyDayRet60d  VtyDayRet30d\n",
       "1425 2012-11-28       0.043315      0.022061      0.018460\n",
       "1426 2012-11-29       0.043314      0.022129      0.018274\n",
       "1427 2012-11-30       0.043307      0.022146      0.017831\n",
       "1428 2012-12-01       0.043308      0.021721      0.014788\n",
       "1429 2012-12-02       0.043272      0.021685      0.014778"
      ]
     },
     "execution_count": 107,
     "metadata": {},
     "output_type": "execute_result"
    }
   ],
   "source": [
    "vol_2nd_halv.head()"
   ]
  },
  {
   "cell_type": "code",
   "execution_count": 108,
   "metadata": {},
   "outputs": [
    {
     "data": {
      "text/html": [
       "<div>\n",
       "<style scoped>\n",
       "    .dataframe tbody tr th:only-of-type {\n",
       "        vertical-align: middle;\n",
       "    }\n",
       "\n",
       "    .dataframe tbody tr th {\n",
       "        vertical-align: top;\n",
       "    }\n",
       "\n",
       "    .dataframe thead th {\n",
       "        text-align: right;\n",
       "    }\n",
       "</style>\n",
       "<table border=\"1\" class=\"dataframe\">\n",
       "  <thead>\n",
       "    <tr style=\"text-align: right;\">\n",
       "      <th></th>\n",
       "      <th>date</th>\n",
       "      <th>VtyDayRet180d</th>\n",
       "      <th>VtyDayRet60d</th>\n",
       "      <th>VtyDayRet30d</th>\n",
       "    </tr>\n",
       "  </thead>\n",
       "  <tbody>\n",
       "    <tr>\n",
       "      <th>2744</th>\n",
       "      <td>2016-07-09</td>\n",
       "      <td>0.031107</td>\n",
       "      <td>0.039965</td>\n",
       "      <td>0.050595</td>\n",
       "    </tr>\n",
       "    <tr>\n",
       "      <th>2745</th>\n",
       "      <td>2016-07-10</td>\n",
       "      <td>0.031079</td>\n",
       "      <td>0.039983</td>\n",
       "      <td>0.050612</td>\n",
       "    </tr>\n",
       "    <tr>\n",
       "      <th>2746</th>\n",
       "      <td>2016-07-11</td>\n",
       "      <td>0.031028</td>\n",
       "      <td>0.039988</td>\n",
       "      <td>0.050061</td>\n",
       "    </tr>\n",
       "    <tr>\n",
       "      <th>2747</th>\n",
       "      <td>2016-07-12</td>\n",
       "      <td>0.031090</td>\n",
       "      <td>0.040106</td>\n",
       "      <td>0.046743</td>\n",
       "    </tr>\n",
       "    <tr>\n",
       "      <th>2748</th>\n",
       "      <td>2016-07-13</td>\n",
       "      <td>0.028782</td>\n",
       "      <td>0.040222</td>\n",
       "      <td>0.045894</td>\n",
       "    </tr>\n",
       "  </tbody>\n",
       "</table>\n",
       "</div>"
      ],
      "text/plain": [
       "           date  VtyDayRet180d  VtyDayRet60d  VtyDayRet30d\n",
       "2744 2016-07-09       0.031107      0.039965      0.050595\n",
       "2745 2016-07-10       0.031079      0.039983      0.050612\n",
       "2746 2016-07-11       0.031028      0.039988      0.050061\n",
       "2747 2016-07-12       0.031090      0.040106      0.046743\n",
       "2748 2016-07-13       0.028782      0.040222      0.045894"
      ]
     },
     "execution_count": 108,
     "metadata": {},
     "output_type": "execute_result"
    }
   ],
   "source": [
    "vol_pre.head()"
   ]
  },
  {
   "cell_type": "code",
   "execution_count": 109,
   "metadata": {},
   "outputs": [
    {
     "data": {
      "image/png": "[encoded data removed]",
      "text/plain": [
       "<Figure size 1440x576 with 1 Axes>"
      ]
     },
     "metadata": {
      "needs_background": "light"
     },
     "output_type": "display_data"
    }
   ],
   "source": [
    "plt.figure(figsize=(20, 8))\n",
    "vol_halv1_plot = sns.lineplot(x='date', y='VtyDayRet180d', data=vol_1st_halv)"
   ]
  },
  {
   "cell_type": "code",
   "execution_count": 110,
   "metadata": {},
   "outputs": [
    {
     "data": {
      "image/png": "[encoded data removed]",
      "text/plain": [
       "<Figure size 1440x576 with 1 Axes>"
      ]
     },
     "metadata": {
      "needs_background": "light"
     },
     "output_type": "display_data"
    }
   ],
   "source": [
    "plt.figure(figsize=(20, 8))\n",
    "vol_halv2_plot = sns.lineplot(x='date', y='VtyDayRet180d', data=vol_2nd_halv)"
   ]
  },
  {
   "cell_type": "code",
   "execution_count": 111,
   "metadata": {},
   "outputs": [
    {
     "data": {
      "image/png": "[encoded data removed]",
      "text/plain": [
       "<Figure size 1440x576 with 1 Axes>"
      ]
     },
     "metadata": {
      "needs_background": "light"
     },
     "output_type": "display_data"
    }
   ],
   "source": [
    "plt.figure(figsize=(20, 8))\n",
    "vol_pre_plot = sns.lineplot(x='date', y='VtyDayRet180d', data=vol_pre)"
   ]
  },
  {
   "cell_type": "code",
   "execution_count": 112,
   "metadata": {},
   "outputs": [],
   "source": [
    "#let's further zoom in and analyze volatility 1 month prior and 1 month post 1st halving \n",
    "\n",
    "first_halv_prior_post =  btc_vol[halv_1.index[0]-30:halv_1.index[0]+31]"
   ]
  },
  {
   "cell_type": "code",
   "execution_count": 113,
   "metadata": {},
   "outputs": [
    {
     "data": {
      "text/html": [
       "<div>\n",
       "<style scoped>\n",
       "    .dataframe tbody tr th:only-of-type {\n",
       "        vertical-align: middle;\n",
       "    }\n",
       "\n",
       "    .dataframe tbody tr th {\n",
       "        vertical-align: top;\n",
       "    }\n",
       "\n",
       "    .dataframe thead th {\n",
       "        text-align: right;\n",
       "    }\n",
       "</style>\n",
       "<table border=\"1\" class=\"dataframe\">\n",
       "  <thead>\n",
       "    <tr style=\"text-align: right;\">\n",
       "      <th></th>\n",
       "      <th>date</th>\n",
       "      <th>VtyDayRet180d</th>\n",
       "      <th>VtyDayRet60d</th>\n",
       "      <th>VtyDayRet30d</th>\n",
       "    </tr>\n",
       "  </thead>\n",
       "  <tbody>\n",
       "    <tr>\n",
       "      <th>1395</th>\n",
       "      <td>2012-10-29</td>\n",
       "      <td>0.042805</td>\n",
       "      <td>0.022630</td>\n",
       "      <td>0.024427</td>\n",
       "    </tr>\n",
       "    <tr>\n",
       "      <th>1396</th>\n",
       "      <td>2012-10-30</td>\n",
       "      <td>0.042819</td>\n",
       "      <td>0.021382</td>\n",
       "      <td>0.024892</td>\n",
       "    </tr>\n",
       "    <tr>\n",
       "      <th>1397</th>\n",
       "      <td>2012-10-31</td>\n",
       "      <td>0.042842</td>\n",
       "      <td>0.021572</td>\n",
       "      <td>0.025499</td>\n",
       "    </tr>\n",
       "    <tr>\n",
       "      <th>1398</th>\n",
       "      <td>2012-11-01</td>\n",
       "      <td>0.043020</td>\n",
       "      <td>0.022380</td>\n",
       "      <td>0.025830</td>\n",
       "    </tr>\n",
       "    <tr>\n",
       "      <th>1399</th>\n",
       "      <td>2012-11-02</td>\n",
       "      <td>0.043027</td>\n",
       "      <td>0.022152</td>\n",
       "      <td>0.025612</td>\n",
       "    </tr>\n",
       "  </tbody>\n",
       "</table>\n",
       "</div>"
      ],
      "text/plain": [
       "           date  VtyDayRet180d  VtyDayRet60d  VtyDayRet30d\n",
       "1395 2012-10-29       0.042805      0.022630      0.024427\n",
       "1396 2012-10-30       0.042819      0.021382      0.024892\n",
       "1397 2012-10-31       0.042842      0.021572      0.025499\n",
       "1398 2012-11-01       0.043020      0.022380      0.025830\n",
       "1399 2012-11-02       0.043027      0.022152      0.025612"
      ]
     },
     "execution_count": 113,
     "metadata": {},
     "output_type": "execute_result"
    }
   ],
   "source": [
    "#30 days prior and 30 days post 1st halving \n",
    "\n",
    "first_halv_prior_post.head()"
   ]
  },
  {
   "cell_type": "code",
   "execution_count": 114,
   "metadata": {},
   "outputs": [
    {
     "data": {
      "text/plain": [
       "0.02677020575468653"
      ]
     },
     "execution_count": 114,
     "metadata": {},
     "output_type": "execute_result"
    }
   ],
   "source": [
    "max_vol = max(first_halv_prior_post['VtyDayRet30d'])\n",
    "max_vol"
   ]
  },
  {
   "cell_type": "code",
   "execution_count": 115,
   "metadata": {},
   "outputs": [
    {
     "data": {
      "text/html": [
       "<div>\n",
       "<style scoped>\n",
       "    .dataframe tbody tr th:only-of-type {\n",
       "        vertical-align: middle;\n",
       "    }\n",
       "\n",
       "    .dataframe tbody tr th {\n",
       "        vertical-align: top;\n",
       "    }\n",
       "\n",
       "    .dataframe thead th {\n",
       "        text-align: right;\n",
       "    }\n",
       "</style>\n",
       "<table border=\"1\" class=\"dataframe\">\n",
       "  <thead>\n",
       "    <tr style=\"text-align: right;\">\n",
       "      <th></th>\n",
       "      <th>VtyDayRet30d</th>\n",
       "    </tr>\n",
       "  </thead>\n",
       "  <tbody>\n",
       "    <tr>\n",
       "      <th>1419</th>\n",
       "      <td>0.02677</td>\n",
       "    </tr>\n",
       "  </tbody>\n",
       "</table>\n",
       "</div>"
      ],
      "text/plain": [
       "      VtyDayRet30d\n",
       "1419       0.02677"
      ]
     },
     "execution_count": 115,
     "metadata": {},
     "output_type": "execute_result"
    }
   ],
   "source": [
    "#creating mask in order to map index to date of max volatility \n",
    "\n",
    "max_v = first_halv_prior_post[['VtyDayRet30d']][first_halv_prior_post[['VtyDayRet30d']] == max_vol]\n",
    "max_v = max_v.dropna()\n",
    "max_v"
   ]
  },
  {
   "cell_type": "code",
   "execution_count": 116,
   "metadata": {},
   "outputs": [
    {
     "data": {
      "text/plain": [
       "1419"
      ]
     },
     "execution_count": 116,
     "metadata": {},
     "output_type": "execute_result"
    }
   ],
   "source": [
    "max_val_index = max_v.index[0]\n",
    "max_val_index"
   ]
  },
  {
   "cell_type": "code",
   "execution_count": 117,
   "metadata": {},
   "outputs": [
    {
     "data": {
      "text/plain": [
       "Timestamp('2012-11-22 00:00:00')"
      ]
     },
     "execution_count": 117,
     "metadata": {},
     "output_type": "execute_result"
    }
   ],
   "source": [
    "halv1 = first_halv_prior_post[['date', 'VtyDayRet30d']].loc[max_val_index][0]\n",
    "halv1"
   ]
  },
  {
   "cell_type": "code",
   "execution_count": 118,
   "metadata": {},
   "outputs": [
    {
     "data": {
      "image/png": "[encoded data removed]",
      "text/plain": [
       "<Figure size 1080x432 with 1 Axes>"
      ]
     },
     "metadata": {
      "needs_background": "light"
     },
     "output_type": "display_data"
    }
   ],
   "source": [
    "#red line shows us max volatility for the current period \n",
    "#blue line shows exact date of halving \n",
    "\n",
    "fig, ax = plt.subplots(figsize = (15,6))    \n",
    "fig.autofmt_xdate() \n",
    "plt.axvline(halv1, color='r', linestyle='--', lw=2)\n",
    "plt.axvline('2012-11-29', color='b', linestyle='--', lw=2)\n",
    "fig = sns.lineplot(x='date', y='VtyDayRet30d', data=first_halv_prior_post)"
   ]
  },
  {
   "cell_type": "code",
   "execution_count": 119,
   "metadata": {},
   "outputs": [],
   "source": [
    "#repeating the process from above to the data from the 2nd halving \n",
    "\n",
    "first_halv2_prior_post = btc_vol[halv_2.index[0]-30:halv_2.index[0]+31]"
   ]
  },
  {
   "cell_type": "code",
   "execution_count": 120,
   "metadata": {},
   "outputs": [
    {
     "data": {
      "text/html": [
       "<div>\n",
       "<style scoped>\n",
       "    .dataframe tbody tr th:only-of-type {\n",
       "        vertical-align: middle;\n",
       "    }\n",
       "\n",
       "    .dataframe tbody tr th {\n",
       "        vertical-align: top;\n",
       "    }\n",
       "\n",
       "    .dataframe thead th {\n",
       "        text-align: right;\n",
       "    }\n",
       "</style>\n",
       "<table border=\"1\" class=\"dataframe\">\n",
       "  <thead>\n",
       "    <tr style=\"text-align: right;\">\n",
       "      <th></th>\n",
       "      <th>date</th>\n",
       "      <th>VtyDayRet180d</th>\n",
       "      <th>VtyDayRet60d</th>\n",
       "      <th>VtyDayRet30d</th>\n",
       "    </tr>\n",
       "  </thead>\n",
       "  <tbody>\n",
       "    <tr>\n",
       "      <th>2714</th>\n",
       "      <td>2016-06-09</td>\n",
       "      <td>0.025711</td>\n",
       "      <td>0.021720</td>\n",
       "      <td>0.026091</td>\n",
       "    </tr>\n",
       "    <tr>\n",
       "      <th>2715</th>\n",
       "      <td>2016-06-10</td>\n",
       "      <td>0.025709</td>\n",
       "      <td>0.021718</td>\n",
       "      <td>0.026097</td>\n",
       "    </tr>\n",
       "    <tr>\n",
       "      <th>2716</th>\n",
       "      <td>2016-06-11</td>\n",
       "      <td>0.025862</td>\n",
       "      <td>0.022260</td>\n",
       "      <td>0.026853</td>\n",
       "    </tr>\n",
       "    <tr>\n",
       "      <th>2717</th>\n",
       "      <td>2016-06-12</td>\n",
       "      <td>0.026702</td>\n",
       "      <td>0.025423</td>\n",
       "      <td>0.031674</td>\n",
       "    </tr>\n",
       "    <tr>\n",
       "      <th>2718</th>\n",
       "      <td>2016-06-13</td>\n",
       "      <td>0.026868</td>\n",
       "      <td>0.025977</td>\n",
       "      <td>0.032293</td>\n",
       "    </tr>\n",
       "  </tbody>\n",
       "</table>\n",
       "</div>"
      ],
      "text/plain": [
       "           date  VtyDayRet180d  VtyDayRet60d  VtyDayRet30d\n",
       "2714 2016-06-09       0.025711      0.021720      0.026091\n",
       "2715 2016-06-10       0.025709      0.021718      0.026097\n",
       "2716 2016-06-11       0.025862      0.022260      0.026853\n",
       "2717 2016-06-12       0.026702      0.025423      0.031674\n",
       "2718 2016-06-13       0.026868      0.025977      0.032293"
      ]
     },
     "execution_count": 120,
     "metadata": {},
     "output_type": "execute_result"
    }
   ],
   "source": [
    "first_halv2_prior_post.head()"
   ]
  },
  {
   "cell_type": "code",
   "execution_count": 121,
   "metadata": {},
   "outputs": [
    {
     "data": {
      "text/plain": [
       "0.050743380855554084"
      ]
     },
     "execution_count": 121,
     "metadata": {},
     "output_type": "execute_result"
    }
   ],
   "source": [
    "max_vol2 = max(first_halv2_prior_post['VtyDayRet30d'])\n",
    "max_vol2"
   ]
  },
  {
   "cell_type": "code",
   "execution_count": 122,
   "metadata": {},
   "outputs": [
    {
     "data": {
      "text/html": [
       "<div>\n",
       "<style scoped>\n",
       "    .dataframe tbody tr th:only-of-type {\n",
       "        vertical-align: middle;\n",
       "    }\n",
       "\n",
       "    .dataframe tbody tr th {\n",
       "        vertical-align: top;\n",
       "    }\n",
       "\n",
       "    .dataframe thead th {\n",
       "        text-align: right;\n",
       "    }\n",
       "</style>\n",
       "<table border=\"1\" class=\"dataframe\">\n",
       "  <thead>\n",
       "    <tr style=\"text-align: right;\">\n",
       "      <th></th>\n",
       "      <th>VtyDayRet30d</th>\n",
       "    </tr>\n",
       "  </thead>\n",
       "  <tbody>\n",
       "    <tr>\n",
       "      <th>2731</th>\n",
       "      <td>0.050743</td>\n",
       "    </tr>\n",
       "  </tbody>\n",
       "</table>\n",
       "</div>"
      ],
      "text/plain": [
       "      VtyDayRet30d\n",
       "2731      0.050743"
      ]
     },
     "execution_count": 122,
     "metadata": {},
     "output_type": "execute_result"
    }
   ],
   "source": [
    "max_v2 = first_halv2_prior_post[['VtyDayRet30d']][first_halv2_prior_post[['VtyDayRet30d']] == max_vol2]\n",
    "max_v2 = max_v2.dropna()\n",
    "max_v2"
   ]
  },
  {
   "cell_type": "code",
   "execution_count": 123,
   "metadata": {},
   "outputs": [
    {
     "data": {
      "text/plain": [
       "2731"
      ]
     },
     "execution_count": 123,
     "metadata": {},
     "output_type": "execute_result"
    }
   ],
   "source": [
    "max_val2_index = max_v2.index[0]\n",
    "max_val2_index"
   ]
  },
  {
   "cell_type": "code",
   "execution_count": 124,
   "metadata": {},
   "outputs": [
    {
     "data": {
      "text/plain": [
       "Timestamp('2016-06-26 00:00:00')"
      ]
     },
     "execution_count": 124,
     "metadata": {},
     "output_type": "execute_result"
    }
   ],
   "source": [
    "halv2 = first_halv2_prior_post[['date', 'VtyDayRet30d']].loc[max_val2_index][0]\n",
    "halv2"
   ]
  },
  {
   "cell_type": "code",
   "execution_count": 125,
   "metadata": {},
   "outputs": [
    {
     "data": {
      "image/png": "[encoded data removed]",
      "text/plain": [
       "<Figure size 1080x432 with 1 Axes>"
      ]
     },
     "metadata": {
      "needs_background": "light"
     },
     "output_type": "display_data"
    }
   ],
   "source": [
    "#red line shows us max volatility for the current period \n",
    "#blue line shows exact date of halving \n",
    "\n",
    "fig, ax = plt.subplots(figsize = (15,6))    \n",
    "fig.autofmt_xdate() \n",
    "plt.axvline(halv2, color='r', linestyle='--', lw=2)\n",
    "plt.axvline('2016-07-10', color='b', linestyle='--', lw=2)\n",
    "fig = sns.lineplot(x='date', y='VtyDayRet30d', data=first_halv2_prior_post)"
   ]
  },
  {
   "cell_type": "code",
   "execution_count": 126,
   "metadata": {},
   "outputs": [],
   "source": [
    "#since we don't have the data yet for the 3rd halving we compute the last 30 days of btc volatility \n",
    "\n",
    "first_pre_prior_post =  btc_vol[-31:-1]"
   ]
  },
  {
   "cell_type": "code",
   "execution_count": 127,
   "metadata": {},
   "outputs": [
    {
     "data": {
      "text/html": [
       "<div>\n",
       "<style scoped>\n",
       "    .dataframe tbody tr th:only-of-type {\n",
       "        vertical-align: middle;\n",
       "    }\n",
       "\n",
       "    .dataframe tbody tr th {\n",
       "        vertical-align: top;\n",
       "    }\n",
       "\n",
       "    .dataframe thead th {\n",
       "        text-align: right;\n",
       "    }\n",
       "</style>\n",
       "<table border=\"1\" class=\"dataframe\">\n",
       "  <thead>\n",
       "    <tr style=\"text-align: right;\">\n",
       "      <th></th>\n",
       "      <th>date</th>\n",
       "      <th>VtyDayRet180d</th>\n",
       "      <th>VtyDayRet60d</th>\n",
       "      <th>VtyDayRet30d</th>\n",
       "    </tr>\n",
       "  </thead>\n",
       "  <tbody>\n",
       "    <tr>\n",
       "      <th>4102</th>\n",
       "      <td>2020-03-28</td>\n",
       "      <td>0.049850</td>\n",
       "      <td>0.074868</td>\n",
       "      <td>0.102913</td>\n",
       "    </tr>\n",
       "    <tr>\n",
       "      <th>4103</th>\n",
       "      <td>2020-03-29</td>\n",
       "      <td>0.050000</td>\n",
       "      <td>0.075107</td>\n",
       "      <td>0.103190</td>\n",
       "    </tr>\n",
       "    <tr>\n",
       "      <th>4104</th>\n",
       "      <td>2020-03-30</td>\n",
       "      <td>0.050428</td>\n",
       "      <td>0.075996</td>\n",
       "      <td>0.104759</td>\n",
       "    </tr>\n",
       "    <tr>\n",
       "      <th>4105</th>\n",
       "      <td>2020-03-31</td>\n",
       "      <td>0.050420</td>\n",
       "      <td>0.075989</td>\n",
       "      <td>0.104768</td>\n",
       "    </tr>\n",
       "    <tr>\n",
       "      <th>4106</th>\n",
       "      <td>2020-04-01</td>\n",
       "      <td>0.050477</td>\n",
       "      <td>0.076144</td>\n",
       "      <td>0.104622</td>\n",
       "    </tr>\n",
       "  </tbody>\n",
       "</table>\n",
       "</div>"
      ],
      "text/plain": [
       "           date  VtyDayRet180d  VtyDayRet60d  VtyDayRet30d\n",
       "4102 2020-03-28       0.049850      0.074868      0.102913\n",
       "4103 2020-03-29       0.050000      0.075107      0.103190\n",
       "4104 2020-03-30       0.050428      0.075996      0.104759\n",
       "4105 2020-03-31       0.050420      0.075989      0.104768\n",
       "4106 2020-04-01       0.050477      0.076144      0.104622"
      ]
     },
     "execution_count": 127,
     "metadata": {},
     "output_type": "execute_result"
    }
   ],
   "source": [
    "first_pre_prior_post.head()"
   ]
  },
  {
   "cell_type": "code",
   "execution_count": 128,
   "metadata": {},
   "outputs": [
    {
     "data": {
      "text/plain": [
       "0.10550153113606088"
      ]
     },
     "execution_count": 128,
     "metadata": {},
     "output_type": "execute_result"
    }
   ],
   "source": [
    "max_vol3 = max(first_pre_prior_post['VtyDayRet30d'])\n",
    "max_vol3"
   ]
  },
  {
   "cell_type": "code",
   "execution_count": 129,
   "metadata": {},
   "outputs": [
    {
     "data": {
      "text/html": [
       "<div>\n",
       "<style scoped>\n",
       "    .dataframe tbody tr th:only-of-type {\n",
       "        vertical-align: middle;\n",
       "    }\n",
       "\n",
       "    .dataframe tbody tr th {\n",
       "        vertical-align: top;\n",
       "    }\n",
       "\n",
       "    .dataframe thead th {\n",
       "        text-align: right;\n",
       "    }\n",
       "</style>\n",
       "<table border=\"1\" class=\"dataframe\">\n",
       "  <thead>\n",
       "    <tr style=\"text-align: right;\">\n",
       "      <th></th>\n",
       "      <th>VtyDayRet30d</th>\n",
       "    </tr>\n",
       "  </thead>\n",
       "  <tbody>\n",
       "    <tr>\n",
       "      <th>4111</th>\n",
       "      <td>0.105502</td>\n",
       "    </tr>\n",
       "  </tbody>\n",
       "</table>\n",
       "</div>"
      ],
      "text/plain": [
       "      VtyDayRet30d\n",
       "4111      0.105502"
      ]
     },
     "execution_count": 129,
     "metadata": {},
     "output_type": "execute_result"
    }
   ],
   "source": [
    "max_v3 = first_pre_prior_post[['VtyDayRet30d']][first_pre_prior_post[['VtyDayRet30d']] == max_vol3]\n",
    "max_v3 = max_v3.dropna()\n",
    "max_v3"
   ]
  },
  {
   "cell_type": "code",
   "execution_count": 130,
   "metadata": {},
   "outputs": [
    {
     "data": {
      "text/plain": [
       "4111"
      ]
     },
     "execution_count": 130,
     "metadata": {},
     "output_type": "execute_result"
    }
   ],
   "source": [
    "max_val3_index = max_v3.index[0]\n",
    "max_val3_index"
   ]
  },
  {
   "cell_type": "code",
   "execution_count": 131,
   "metadata": {},
   "outputs": [
    {
     "data": {
      "text/plain": [
       "Timestamp('2020-04-06 00:00:00')"
      ]
     },
     "execution_count": 131,
     "metadata": {},
     "output_type": "execute_result"
    }
   ],
   "source": [
    "halv3 = first_pre_prior_post[['date', 'VtyDayRet30d']].loc[max_val3_index][0]\n",
    "halv3"
   ]
  },
  {
   "cell_type": "code",
   "execution_count": 132,
   "metadata": {},
   "outputs": [
    {
     "data": {
      "image/png": "[encoded data removed]",
      "text/plain": [
       "<Figure size 1080x432 with 1 Axes>"
      ]
     },
     "metadata": {
      "needs_background": "light"
     },
     "output_type": "display_data"
    }
   ],
   "source": [
    "fig, ax = plt.subplots(figsize = (15,6))    \n",
    "fig.autofmt_xdate() \n",
    "plt.axvline(halv3, color='r', linestyle='--', lw=2)\n",
    "fig = sns.lineplot(x='date', y='VtyDayRet30d', data=first_pre_prior_post)"
   ]
  },
  {
   "cell_type": "code",
   "execution_count": null,
   "metadata": {},
   "outputs": [],
   "source": [
    "############################################################################################################\n",
    "############################################################################################################"
   ]
  },
  {
   "cell_type": "code",
   "execution_count": 133,
   "metadata": {},
   "outputs": [],
   "source": [
    "#let's further zoom out and analyze volatility 3 month prior and 3 month post 1st halving \n",
    "\n",
    "first_halv_prior_post =  btc_vol[halv_1.index[0]-90:halv_1.index[0]+91]"
   ]
  },
  {
   "cell_type": "code",
   "execution_count": 134,
   "metadata": {},
   "outputs": [
    {
     "data": {
      "text/html": [
       "<div>\n",
       "<style scoped>\n",
       "    .dataframe tbody tr th:only-of-type {\n",
       "        vertical-align: middle;\n",
       "    }\n",
       "\n",
       "    .dataframe tbody tr th {\n",
       "        vertical-align: top;\n",
       "    }\n",
       "\n",
       "    .dataframe thead th {\n",
       "        text-align: right;\n",
       "    }\n",
       "</style>\n",
       "<table border=\"1\" class=\"dataframe\">\n",
       "  <thead>\n",
       "    <tr style=\"text-align: right;\">\n",
       "      <th></th>\n",
       "      <th>date</th>\n",
       "      <th>VtyDayRet180d</th>\n",
       "      <th>VtyDayRet60d</th>\n",
       "      <th>VtyDayRet30d</th>\n",
       "    </tr>\n",
       "  </thead>\n",
       "  <tbody>\n",
       "    <tr>\n",
       "      <th>1335</th>\n",
       "      <td>2012-08-30</td>\n",
       "      <td>0.043265</td>\n",
       "      <td>0.068484</td>\n",
       "      <td>0.092851</td>\n",
       "    </tr>\n",
       "    <tr>\n",
       "      <th>1336</th>\n",
       "      <td>2012-08-31</td>\n",
       "      <td>0.043434</td>\n",
       "      <td>0.069032</td>\n",
       "      <td>0.093496</td>\n",
       "    </tr>\n",
       "    <tr>\n",
       "      <th>1337</th>\n",
       "      <td>2012-09-01</td>\n",
       "      <td>0.043402</td>\n",
       "      <td>0.068739</td>\n",
       "      <td>0.091733</td>\n",
       "    </tr>\n",
       "    <tr>\n",
       "      <th>1338</th>\n",
       "      <td>2012-09-02</td>\n",
       "      <td>0.043421</td>\n",
       "      <td>0.068763</td>\n",
       "      <td>0.091595</td>\n",
       "    </tr>\n",
       "    <tr>\n",
       "      <th>1339</th>\n",
       "      <td>2012-09-03</td>\n",
       "      <td>0.043444</td>\n",
       "      <td>0.068789</td>\n",
       "      <td>0.091741</td>\n",
       "    </tr>\n",
       "  </tbody>\n",
       "</table>\n",
       "</div>"
      ],
      "text/plain": [
       "           date  VtyDayRet180d  VtyDayRet60d  VtyDayRet30d\n",
       "1335 2012-08-30       0.043265      0.068484      0.092851\n",
       "1336 2012-08-31       0.043434      0.069032      0.093496\n",
       "1337 2012-09-01       0.043402      0.068739      0.091733\n",
       "1338 2012-09-02       0.043421      0.068763      0.091595\n",
       "1339 2012-09-03       0.043444      0.068789      0.091741"
      ]
     },
     "execution_count": 134,
     "metadata": {},
     "output_type": "execute_result"
    }
   ],
   "source": [
    "#90 days prior and 90 days post 1st halving \n",
    "\n",
    "first_halv_prior_post.head()"
   ]
  },
  {
   "cell_type": "code",
   "execution_count": 135,
   "metadata": {},
   "outputs": [
    {
     "data": {
      "text/plain": [
       "0.09349573613845767"
      ]
     },
     "execution_count": 135,
     "metadata": {},
     "output_type": "execute_result"
    }
   ],
   "source": [
    "max_vol = max(first_halv_prior_post['VtyDayRet30d'])\n",
    "max_vol"
   ]
  },
  {
   "cell_type": "code",
   "execution_count": 136,
   "metadata": {},
   "outputs": [
    {
     "data": {
      "text/html": [
       "<div>\n",
       "<style scoped>\n",
       "    .dataframe tbody tr th:only-of-type {\n",
       "        vertical-align: middle;\n",
       "    }\n",
       "\n",
       "    .dataframe tbody tr th {\n",
       "        vertical-align: top;\n",
       "    }\n",
       "\n",
       "    .dataframe thead th {\n",
       "        text-align: right;\n",
       "    }\n",
       "</style>\n",
       "<table border=\"1\" class=\"dataframe\">\n",
       "  <thead>\n",
       "    <tr style=\"text-align: right;\">\n",
       "      <th></th>\n",
       "      <th>VtyDayRet30d</th>\n",
       "    </tr>\n",
       "  </thead>\n",
       "  <tbody>\n",
       "    <tr>\n",
       "      <th>1336</th>\n",
       "      <td>0.093496</td>\n",
       "    </tr>\n",
       "  </tbody>\n",
       "</table>\n",
       "</div>"
      ],
      "text/plain": [
       "      VtyDayRet30d\n",
       "1336      0.093496"
      ]
     },
     "execution_count": 136,
     "metadata": {},
     "output_type": "execute_result"
    }
   ],
   "source": [
    "#creating mask in order to map index to date of max volatility \n",
    "\n",
    "max_v = first_halv_prior_post[['VtyDayRet30d']][first_halv_prior_post[['VtyDayRet30d']] == max_vol]\n",
    "max_v = max_v.dropna()\n",
    "max_v"
   ]
  },
  {
   "cell_type": "code",
   "execution_count": 137,
   "metadata": {},
   "outputs": [
    {
     "data": {
      "text/plain": [
       "1336"
      ]
     },
     "execution_count": 137,
     "metadata": {},
     "output_type": "execute_result"
    }
   ],
   "source": [
    "max_val_index = max_v.index[0]\n",
    "max_val_index"
   ]
  },
  {
   "cell_type": "code",
   "execution_count": 138,
   "metadata": {},
   "outputs": [
    {
     "data": {
      "text/plain": [
       "Timestamp('2012-08-31 00:00:00')"
      ]
     },
     "execution_count": 138,
     "metadata": {},
     "output_type": "execute_result"
    }
   ],
   "source": [
    "halv1 = first_halv_prior_post[['date', 'VtyDayRet30d']].loc[max_val_index][0]\n",
    "halv1"
   ]
  },
  {
   "cell_type": "code",
   "execution_count": 139,
   "metadata": {},
   "outputs": [
    {
     "data": {
      "image/png": "[encoded data removed]",
      "text/plain": [
       "<Figure size 1080x432 with 1 Axes>"
      ]
     },
     "metadata": {
      "needs_background": "light"
     },
     "output_type": "display_data"
    }
   ],
   "source": [
    "#red line shows us max volatility for the current period \n",
    "#blue line shows exact date of halving \n",
    "\n",
    "fig, ax = plt.subplots(figsize = (15,6))\n",
    "fig.autofmt_xdate()\n",
    "plt.axvline(halv1, color='r', linestyle='--', lw=2)\n",
    "plt.axvline('2012-11-29', color='b', linestyle='--', lw=2)\n",
    "fig = sns.lineplot(x='date', y='VtyDayRet30d', data=first_halv_prior_post)"
   ]
  },
  {
   "cell_type": "code",
   "execution_count": 140,
   "metadata": {},
   "outputs": [],
   "source": [
    "#repeating the process from above to the data from the 2nd halving \n",
    "\n",
    "first_halv2_prior_post = btc_vol[halv_2.index[0]-90:halv_2.index[0]+91]"
   ]
  },
  {
   "cell_type": "code",
   "execution_count": 141,
   "metadata": {},
   "outputs": [
    {
     "data": {
      "text/html": [
       "<div>\n",
       "<style scoped>\n",
       "    .dataframe tbody tr th:only-of-type {\n",
       "        vertical-align: middle;\n",
       "    }\n",
       "\n",
       "    .dataframe tbody tr th {\n",
       "        vertical-align: top;\n",
       "    }\n",
       "\n",
       "    .dataframe thead th {\n",
       "        text-align: right;\n",
       "    }\n",
       "</style>\n",
       "<table border=\"1\" class=\"dataframe\">\n",
       "  <thead>\n",
       "    <tr style=\"text-align: right;\">\n",
       "      <th></th>\n",
       "      <th>date</th>\n",
       "      <th>VtyDayRet180d</th>\n",
       "      <th>VtyDayRet60d</th>\n",
       "      <th>VtyDayRet30d</th>\n",
       "    </tr>\n",
       "  </thead>\n",
       "  <tbody>\n",
       "    <tr>\n",
       "      <th>2654</th>\n",
       "      <td>2016-04-10</td>\n",
       "      <td>0.032590</td>\n",
       "      <td>0.015152</td>\n",
       "      <td>0.009364</td>\n",
       "    </tr>\n",
       "    <tr>\n",
       "      <th>2655</th>\n",
       "      <td>2016-04-11</td>\n",
       "      <td>0.032585</td>\n",
       "      <td>0.015135</td>\n",
       "      <td>0.008355</td>\n",
       "    </tr>\n",
       "    <tr>\n",
       "      <th>2656</th>\n",
       "      <td>2016-04-12</td>\n",
       "      <td>0.032588</td>\n",
       "      <td>0.015110</td>\n",
       "      <td>0.008493</td>\n",
       "    </tr>\n",
       "    <tr>\n",
       "      <th>2657</th>\n",
       "      <td>2016-04-13</td>\n",
       "      <td>0.032526</td>\n",
       "      <td>0.014974</td>\n",
       "      <td>0.008500</td>\n",
       "    </tr>\n",
       "    <tr>\n",
       "      <th>2658</th>\n",
       "      <td>2016-04-14</td>\n",
       "      <td>0.032439</td>\n",
       "      <td>0.014017</td>\n",
       "      <td>0.008504</td>\n",
       "    </tr>\n",
       "  </tbody>\n",
       "</table>\n",
       "</div>"
      ],
      "text/plain": [
       "           date  VtyDayRet180d  VtyDayRet60d  VtyDayRet30d\n",
       "2654 2016-04-10       0.032590      0.015152      0.009364\n",
       "2655 2016-04-11       0.032585      0.015135      0.008355\n",
       "2656 2016-04-12       0.032588      0.015110      0.008493\n",
       "2657 2016-04-13       0.032526      0.014974      0.008500\n",
       "2658 2016-04-14       0.032439      0.014017      0.008504"
      ]
     },
     "execution_count": 141,
     "metadata": {},
     "output_type": "execute_result"
    }
   ],
   "source": [
    "first_halv2_prior_post.head()"
   ]
  },
  {
   "cell_type": "code",
   "execution_count": 142,
   "metadata": {},
   "outputs": [
    {
     "data": {
      "text/plain": [
       "0.050743380855554084"
      ]
     },
     "execution_count": 142,
     "metadata": {},
     "output_type": "execute_result"
    }
   ],
   "source": [
    "max_vol2 = max(first_halv2_prior_post['VtyDayRet30d'])\n",
    "max_vol2"
   ]
  },
  {
   "cell_type": "code",
   "execution_count": 143,
   "metadata": {},
   "outputs": [
    {
     "data": {
      "text/html": [
       "<div>\n",
       "<style scoped>\n",
       "    .dataframe tbody tr th:only-of-type {\n",
       "        vertical-align: middle;\n",
       "    }\n",
       "\n",
       "    .dataframe tbody tr th {\n",
       "        vertical-align: top;\n",
       "    }\n",
       "\n",
       "    .dataframe thead th {\n",
       "        text-align: right;\n",
       "    }\n",
       "</style>\n",
       "<table border=\"1\" class=\"dataframe\">\n",
       "  <thead>\n",
       "    <tr style=\"text-align: right;\">\n",
       "      <th></th>\n",
       "      <th>VtyDayRet30d</th>\n",
       "    </tr>\n",
       "  </thead>\n",
       "  <tbody>\n",
       "    <tr>\n",
       "      <th>2731</th>\n",
       "      <td>0.050743</td>\n",
       "    </tr>\n",
       "  </tbody>\n",
       "</table>\n",
       "</div>"
      ],
      "text/plain": [
       "      VtyDayRet30d\n",
       "2731      0.050743"
      ]
     },
     "execution_count": 143,
     "metadata": {},
     "output_type": "execute_result"
    }
   ],
   "source": [
    "max_v2 = first_halv2_prior_post[['VtyDayRet30d']][first_halv2_prior_post[['VtyDayRet30d']] == max_vol2]\n",
    "max_v2 = max_v2.dropna()\n",
    "max_v2"
   ]
  },
  {
   "cell_type": "code",
   "execution_count": 144,
   "metadata": {},
   "outputs": [
    {
     "data": {
      "text/plain": [
       "2731"
      ]
     },
     "execution_count": 144,
     "metadata": {},
     "output_type": "execute_result"
    }
   ],
   "source": [
    "max_val2_index = max_v2.index[0]\n",
    "max_val2_index"
   ]
  },
  {
   "cell_type": "code",
   "execution_count": 145,
   "metadata": {},
   "outputs": [
    {
     "data": {
      "text/plain": [
       "Timestamp('2016-06-26 00:00:00')"
      ]
     },
     "execution_count": 145,
     "metadata": {},
     "output_type": "execute_result"
    }
   ],
   "source": [
    "halv2 = first_halv2_prior_post[['date', 'VtyDayRet30d']].loc[max_val2_index][0]\n",
    "halv2"
   ]
  },
  {
   "cell_type": "code",
   "execution_count": 146,
   "metadata": {},
   "outputs": [
    {
     "data": {
      "image/png": "[encoded data removed]",
      "text/plain": [
       "<Figure size 1080x432 with 1 Axes>"
      ]
     },
     "metadata": {
      "needs_background": "light"
     },
     "output_type": "display_data"
    }
   ],
   "source": [
    "#red line shows us max volatility for the current period \n",
    "#blue line shows exact date of halving \n",
    "\n",
    "fig, ax = plt.subplots(figsize = (15,6))    \n",
    "fig.autofmt_xdate() \n",
    "plt.axvline(halv2, color='r', linestyle='--', lw=2)\n",
    "plt.axvline('2016-07-10', color='b', linestyle='--', lw=2)\n",
    "fig = sns.lineplot(x='date', y='VtyDayRet30d', data=first_halv2_prior_post)"
   ]
  },
  {
   "cell_type": "code",
   "execution_count": 147,
   "metadata": {},
   "outputs": [],
   "source": [
    "#since we don't have the data yet for the 3rd halving we compute the last 90 days of btc volatility \n",
    "\n",
    "first_pre_prior_post =  btc_vol[-91:-1]"
   ]
  },
  {
   "cell_type": "code",
   "execution_count": 148,
   "metadata": {},
   "outputs": [
    {
     "data": {
      "text/html": [
       "<div>\n",
       "<style scoped>\n",
       "    .dataframe tbody tr th:only-of-type {\n",
       "        vertical-align: middle;\n",
       "    }\n",
       "\n",
       "    .dataframe tbody tr th {\n",
       "        vertical-align: top;\n",
       "    }\n",
       "\n",
       "    .dataframe thead th {\n",
       "        text-align: right;\n",
       "    }\n",
       "</style>\n",
       "<table border=\"1\" class=\"dataframe\">\n",
       "  <thead>\n",
       "    <tr style=\"text-align: right;\">\n",
       "      <th></th>\n",
       "      <th>date</th>\n",
       "      <th>VtyDayRet180d</th>\n",
       "      <th>VtyDayRet60d</th>\n",
       "      <th>VtyDayRet30d</th>\n",
       "    </tr>\n",
       "  </thead>\n",
       "  <tbody>\n",
       "    <tr>\n",
       "      <th>4042</th>\n",
       "      <td>2020-01-28</td>\n",
       "      <td>0.031006</td>\n",
       "      <td>0.027723</td>\n",
       "      <td>0.029137</td>\n",
       "    </tr>\n",
       "    <tr>\n",
       "      <th>4043</th>\n",
       "      <td>2020-01-29</td>\n",
       "      <td>0.030991</td>\n",
       "      <td>0.027478</td>\n",
       "      <td>0.028616</td>\n",
       "    </tr>\n",
       "    <tr>\n",
       "      <th>4044</th>\n",
       "      <td>2020-01-30</td>\n",
       "      <td>0.030967</td>\n",
       "      <td>0.027414</td>\n",
       "      <td>0.028517</td>\n",
       "    </tr>\n",
       "    <tr>\n",
       "      <th>4045</th>\n",
       "      <td>2020-01-31</td>\n",
       "      <td>0.030962</td>\n",
       "      <td>0.027445</td>\n",
       "      <td>0.028854</td>\n",
       "    </tr>\n",
       "    <tr>\n",
       "      <th>4046</th>\n",
       "      <td>2020-02-01</td>\n",
       "      <td>0.030497</td>\n",
       "      <td>0.027435</td>\n",
       "      <td>0.027853</td>\n",
       "    </tr>\n",
       "  </tbody>\n",
       "</table>\n",
       "</div>"
      ],
      "text/plain": [
       "           date  VtyDayRet180d  VtyDayRet60d  VtyDayRet30d\n",
       "4042 2020-01-28       0.031006      0.027723      0.029137\n",
       "4043 2020-01-29       0.030991      0.027478      0.028616\n",
       "4044 2020-01-30       0.030967      0.027414      0.028517\n",
       "4045 2020-01-31       0.030962      0.027445      0.028854\n",
       "4046 2020-02-01       0.030497      0.027435      0.027853"
      ]
     },
     "execution_count": 148,
     "metadata": {},
     "output_type": "execute_result"
    }
   ],
   "source": [
    "first_pre_prior_post.head()"
   ]
  },
  {
   "cell_type": "code",
   "execution_count": 149,
   "metadata": {},
   "outputs": [
    {
     "data": {
      "text/plain": [
       "0.10550153113606088"
      ]
     },
     "execution_count": 149,
     "metadata": {},
     "output_type": "execute_result"
    }
   ],
   "source": [
    "max_vol3 = max(first_pre_prior_post['VtyDayRet30d'])\n",
    "max_vol3"
   ]
  },
  {
   "cell_type": "code",
   "execution_count": 150,
   "metadata": {},
   "outputs": [
    {
     "data": {
      "text/html": [
       "<div>\n",
       "<style scoped>\n",
       "    .dataframe tbody tr th:only-of-type {\n",
       "        vertical-align: middle;\n",
       "    }\n",
       "\n",
       "    .dataframe tbody tr th {\n",
       "        vertical-align: top;\n",
       "    }\n",
       "\n",
       "    .dataframe thead th {\n",
       "        text-align: right;\n",
       "    }\n",
       "</style>\n",
       "<table border=\"1\" class=\"dataframe\">\n",
       "  <thead>\n",
       "    <tr style=\"text-align: right;\">\n",
       "      <th></th>\n",
       "      <th>VtyDayRet30d</th>\n",
       "    </tr>\n",
       "  </thead>\n",
       "  <tbody>\n",
       "    <tr>\n",
       "      <th>4111</th>\n",
       "      <td>0.105502</td>\n",
       "    </tr>\n",
       "  </tbody>\n",
       "</table>\n",
       "</div>"
      ],
      "text/plain": [
       "      VtyDayRet30d\n",
       "4111      0.105502"
      ]
     },
     "execution_count": 150,
     "metadata": {},
     "output_type": "execute_result"
    }
   ],
   "source": [
    "max_v3 = first_pre_prior_post[['VtyDayRet30d']][first_pre_prior_post[['VtyDayRet30d']] == max_vol3]\n",
    "max_v3 = max_v3.dropna()\n",
    "max_v3"
   ]
  },
  {
   "cell_type": "code",
   "execution_count": 151,
   "metadata": {},
   "outputs": [
    {
     "data": {
      "text/plain": [
       "4111"
      ]
     },
     "execution_count": 151,
     "metadata": {},
     "output_type": "execute_result"
    }
   ],
   "source": [
    "max_val3_index = max_v3.index[0]\n",
    "max_val3_index"
   ]
  },
  {
   "cell_type": "code",
   "execution_count": 152,
   "metadata": {},
   "outputs": [
    {
     "data": {
      "text/plain": [
       "Timestamp('2020-04-06 00:00:00')"
      ]
     },
     "execution_count": 152,
     "metadata": {},
     "output_type": "execute_result"
    }
   ],
   "source": [
    "halv3 = first_pre_prior_post[['date', 'VtyDayRet30d']].loc[max_val3_index][0]\n",
    "halv3"
   ]
  },
  {
   "cell_type": "code",
   "execution_count": 153,
   "metadata": {},
   "outputs": [
    {
     "data": {
      "image/png": "[encoded data removed]",
      "text/plain": [
       "<Figure size 1080x432 with 1 Axes>"
      ]
     },
     "metadata": {
      "needs_background": "light"
     },
     "output_type": "display_data"
    }
   ],
   "source": [
    "fig, ax = plt.subplots(figsize = (15,6))    \n",
    "fig.autofmt_xdate() \n",
    "plt.axvline(halv3, color='r', linestyle='--', lw=2)\n",
    "fig = sns.lineplot(x='date', y='VtyDayRet30d', data=first_pre_prior_post)"
   ]
  },
  {
   "cell_type": "code",
   "execution_count": null,
   "metadata": {},
   "outputs": [],
   "source": [
    "############################################################################################################\n",
    "############################################################################################################"
   ]
  },
  {
   "cell_type": "code",
   "execution_count": 227,
   "metadata": {},
   "outputs": [],
   "source": [
    "#now let's analyze other hardforked coins: LTC, BCH, BSV, "
   ]
  },
  {
   "cell_type": "code",
   "execution_count": 382,
   "metadata": {},
   "outputs": [],
   "source": [
    "ltc = pd.read_csv('ltc_april.csv')"
   ]
  },
  {
   "cell_type": "code",
   "execution_count": 383,
   "metadata": {},
   "outputs": [
    {
     "data": {
      "text/html": [
       "<div>\n",
       "<style scoped>\n",
       "    .dataframe tbody tr th:only-of-type {\n",
       "        vertical-align: middle;\n",
       "    }\n",
       "\n",
       "    .dataframe tbody tr th {\n",
       "        vertical-align: top;\n",
       "    }\n",
       "\n",
       "    .dataframe thead th {\n",
       "        text-align: right;\n",
       "    }\n",
       "</style>\n",
       "<table border=\"1\" class=\"dataframe\">\n",
       "  <thead>\n",
       "    <tr style=\"text-align: right;\">\n",
       "      <th></th>\n",
       "      <th>time</th>\n",
       "      <th>AdrActCnt</th>\n",
       "      <th>BlkCnt</th>\n",
       "      <th>BlkSizeByte</th>\n",
       "      <th>BlkSizeMeanByte</th>\n",
       "      <th>CapMVRVCur</th>\n",
       "      <th>CapMrktCurUSD</th>\n",
       "      <th>CapRealUSD</th>\n",
       "      <th>DiffMean</th>\n",
       "      <th>FeeMeanNtv</th>\n",
       "      <th>FeeMeanUSD</th>\n",
       "      <th>FeeMedNtv</th>\n",
       "      <th>FeeMedUSD</th>\n",
       "      <th>FeeTotNtv</th>\n",
       "      <th>FeeTotUSD</th>\n",
       "      <th>HashRate</th>\n",
       "      <th>IssContNtv</th>\n",
       "      <th>IssContPctAnn</th>\n",
       "      <th>IssContUSD</th>\n",
       "      <th>IssTotNtv</th>\n",
       "      <th>IssTotUSD</th>\n",
       "      <th>NVTAdj</th>\n",
       "      <th>NVTAdj90</th>\n",
       "      <th>PriceBTC</th>\n",
       "      <th>PriceUSD</th>\n",
       "      <th>ROI1yr</th>\n",
       "      <th>ROI30d</th>\n",
       "      <th>SplyCur</th>\n",
       "      <th>TxCnt</th>\n",
       "      <th>TxTfrCnt</th>\n",
       "      <th>TxTfrValAdjNtv</th>\n",
       "      <th>TxTfrValAdjUSD</th>\n",
       "      <th>TxTfrValMeanNtv</th>\n",
       "      <th>TxTfrValMeanUSD</th>\n",
       "      <th>TxTfrValMedNtv</th>\n",
       "      <th>TxTfrValMedUSD</th>\n",
       "      <th>TxTfrValNtv</th>\n",
       "      <th>TxTfrValUSD</th>\n",
       "      <th>VtyDayRet180d</th>\n",
       "      <th>VtyDayRet30d</th>\n",
       "      <th>VtyDayRet60d</th>\n",
       "    </tr>\n",
       "  </thead>\n",
       "  <tbody>\n",
       "    <tr>\n",
       "      <th>0</th>\n",
       "      <td>2011-10-07T00:00:00.000Z</td>\n",
       "      <td>0.0</td>\n",
       "      <td>0.0</td>\n",
       "      <td>0.0</td>\n",
       "      <td>NaN</td>\n",
       "      <td>NaN</td>\n",
       "      <td>NaN</td>\n",
       "      <td>0.0</td>\n",
       "      <td>NaN</td>\n",
       "      <td>NaN</td>\n",
       "      <td>NaN</td>\n",
       "      <td>NaN</td>\n",
       "      <td>NaN</td>\n",
       "      <td>0.0</td>\n",
       "      <td>NaN</td>\n",
       "      <td>NaN</td>\n",
       "      <td>NaN</td>\n",
       "      <td>NaN</td>\n",
       "      <td>NaN</td>\n",
       "      <td>NaN</td>\n",
       "      <td>NaN</td>\n",
       "      <td>NaN</td>\n",
       "      <td>NaN</td>\n",
       "      <td>NaN</td>\n",
       "      <td>NaN</td>\n",
       "      <td>NaN</td>\n",
       "      <td>NaN</td>\n",
       "      <td>0.0</td>\n",
       "      <td>0.0</td>\n",
       "      <td>0.0</td>\n",
       "      <td>0.0</td>\n",
       "      <td>NaN</td>\n",
       "      <td>NaN</td>\n",
       "      <td>NaN</td>\n",
       "      <td>NaN</td>\n",
       "      <td>NaN</td>\n",
       "      <td>NaN</td>\n",
       "      <td>NaN</td>\n",
       "      <td>NaN</td>\n",
       "      <td>NaN</td>\n",
       "      <td>NaN</td>\n",
       "    </tr>\n",
       "  </tbody>\n",
       "</table>\n",
       "</div>"
      ],
      "text/plain": [
       "                       time  AdrActCnt  BlkCnt  BlkSizeByte  BlkSizeMeanByte  \\\n",
       "0  2011-10-07T00:00:00.000Z        0.0     0.0          0.0              NaN   \n",
       "\n",
       "   CapMVRVCur  CapMrktCurUSD  CapRealUSD  DiffMean  FeeMeanNtv  FeeMeanUSD  \\\n",
       "0         NaN            NaN         0.0       NaN         NaN         NaN   \n",
       "\n",
       "   FeeMedNtv  FeeMedUSD  FeeTotNtv  FeeTotUSD  HashRate  IssContNtv  \\\n",
       "0        NaN        NaN        0.0        NaN       NaN         NaN   \n",
       "\n",
       "   IssContPctAnn  IssContUSD  IssTotNtv  IssTotUSD  NVTAdj  NVTAdj90  \\\n",
       "0            NaN         NaN        NaN        NaN     NaN       NaN   \n",
       "\n",
       "   PriceBTC  PriceUSD  ROI1yr  ROI30d  SplyCur  TxCnt  TxTfrCnt  \\\n",
       "0       NaN       NaN     NaN     NaN      0.0    0.0       0.0   \n",
       "\n",
       "   TxTfrValAdjNtv  TxTfrValAdjUSD  TxTfrValMeanNtv  TxTfrValMeanUSD  \\\n",
       "0             0.0             NaN              NaN              NaN   \n",
       "\n",
       "   TxTfrValMedNtv  TxTfrValMedUSD  TxTfrValNtv  TxTfrValUSD  VtyDayRet180d  \\\n",
       "0             NaN             NaN          NaN          NaN            NaN   \n",
       "\n",
       "   VtyDayRet30d  VtyDayRet60d  \n",
       "0           NaN           NaN  "
      ]
     },
     "execution_count": 383,
     "metadata": {},
     "output_type": "execute_result"
    }
   ],
   "source": [
    "ltc.head(1)"
   ]
  },
  {
   "cell_type": "code",
   "execution_count": 384,
   "metadata": {},
   "outputs": [],
   "source": [
    "ltc = ltc.rename(columns={'time': 'date'})"
   ]
  },
  {
   "cell_type": "code",
   "execution_count": 385,
   "metadata": {},
   "outputs": [],
   "source": [
    "ltc['date'] = [i[0:10] for i in ltc['date']]"
   ]
  },
  {
   "cell_type": "code",
   "execution_count": 446,
   "metadata": {},
   "outputs": [],
   "source": [
    "ltc['date'] = pd.to_datetime(ltc['date'])"
   ]
  },
  {
   "cell_type": "code",
   "execution_count": 447,
   "metadata": {},
   "outputs": [
    {
     "data": {
      "text/html": [
       "<div>\n",
       "<style scoped>\n",
       "    .dataframe tbody tr th:only-of-type {\n",
       "        vertical-align: middle;\n",
       "    }\n",
       "\n",
       "    .dataframe tbody tr th {\n",
       "        vertical-align: top;\n",
       "    }\n",
       "\n",
       "    .dataframe thead th {\n",
       "        text-align: right;\n",
       "    }\n",
       "</style>\n",
       "<table border=\"1\" class=\"dataframe\">\n",
       "  <thead>\n",
       "    <tr style=\"text-align: right;\">\n",
       "      <th></th>\n",
       "      <th>date</th>\n",
       "      <th>AdrActCnt</th>\n",
       "      <th>BlkCnt</th>\n",
       "      <th>BlkSizeByte</th>\n",
       "      <th>BlkSizeMeanByte</th>\n",
       "      <th>CapMVRVCur</th>\n",
       "      <th>CapMrktCurUSD</th>\n",
       "      <th>CapRealUSD</th>\n",
       "      <th>DiffMean</th>\n",
       "      <th>FeeMeanNtv</th>\n",
       "      <th>FeeMeanUSD</th>\n",
       "      <th>FeeMedNtv</th>\n",
       "      <th>FeeMedUSD</th>\n",
       "      <th>FeeTotNtv</th>\n",
       "      <th>FeeTotUSD</th>\n",
       "      <th>HashRate</th>\n",
       "      <th>IssContNtv</th>\n",
       "      <th>IssContPctAnn</th>\n",
       "      <th>IssContUSD</th>\n",
       "      <th>IssTotNtv</th>\n",
       "      <th>IssTotUSD</th>\n",
       "      <th>NVTAdj</th>\n",
       "      <th>NVTAdj90</th>\n",
       "      <th>PriceBTC</th>\n",
       "      <th>PriceUSD</th>\n",
       "      <th>ROI1yr</th>\n",
       "      <th>ROI30d</th>\n",
       "      <th>SplyCur</th>\n",
       "      <th>TxCnt</th>\n",
       "      <th>TxTfrCnt</th>\n",
       "      <th>TxTfrValAdjNtv</th>\n",
       "      <th>TxTfrValAdjUSD</th>\n",
       "      <th>TxTfrValMeanNtv</th>\n",
       "      <th>TxTfrValMeanUSD</th>\n",
       "      <th>TxTfrValMedNtv</th>\n",
       "      <th>TxTfrValMedUSD</th>\n",
       "      <th>TxTfrValNtv</th>\n",
       "      <th>TxTfrValUSD</th>\n",
       "      <th>VtyDayRet180d</th>\n",
       "      <th>VtyDayRet30d</th>\n",
       "      <th>VtyDayRet60d</th>\n",
       "    </tr>\n",
       "  </thead>\n",
       "  <tbody>\n",
       "    <tr>\n",
       "      <th>0</th>\n",
       "      <td>2011-10-07</td>\n",
       "      <td>0.0</td>\n",
       "      <td>0.0</td>\n",
       "      <td>0.0</td>\n",
       "      <td>NaN</td>\n",
       "      <td>NaN</td>\n",
       "      <td>NaN</td>\n",
       "      <td>0.0</td>\n",
       "      <td>NaN</td>\n",
       "      <td>NaN</td>\n",
       "      <td>NaN</td>\n",
       "      <td>NaN</td>\n",
       "      <td>NaN</td>\n",
       "      <td>0.0</td>\n",
       "      <td>NaN</td>\n",
       "      <td>NaN</td>\n",
       "      <td>NaN</td>\n",
       "      <td>NaN</td>\n",
       "      <td>NaN</td>\n",
       "      <td>NaN</td>\n",
       "      <td>NaN</td>\n",
       "      <td>NaN</td>\n",
       "      <td>NaN</td>\n",
       "      <td>NaN</td>\n",
       "      <td>NaN</td>\n",
       "      <td>NaN</td>\n",
       "      <td>NaN</td>\n",
       "      <td>0.0</td>\n",
       "      <td>0.0</td>\n",
       "      <td>0.0</td>\n",
       "      <td>0.0</td>\n",
       "      <td>NaN</td>\n",
       "      <td>NaN</td>\n",
       "      <td>NaN</td>\n",
       "      <td>NaN</td>\n",
       "      <td>NaN</td>\n",
       "      <td>NaN</td>\n",
       "      <td>NaN</td>\n",
       "      <td>NaN</td>\n",
       "      <td>NaN</td>\n",
       "      <td>NaN</td>\n",
       "    </tr>\n",
       "  </tbody>\n",
       "</table>\n",
       "</div>"
      ],
      "text/plain": [
       "        date  AdrActCnt  BlkCnt  BlkSizeByte  BlkSizeMeanByte  CapMVRVCur  \\\n",
       "0 2011-10-07        0.0     0.0          0.0              NaN         NaN   \n",
       "\n",
       "   CapMrktCurUSD  CapRealUSD  DiffMean  FeeMeanNtv  FeeMeanUSD  FeeMedNtv  \\\n",
       "0            NaN         0.0       NaN         NaN         NaN        NaN   \n",
       "\n",
       "   FeeMedUSD  FeeTotNtv  FeeTotUSD  HashRate  IssContNtv  IssContPctAnn  \\\n",
       "0        NaN        0.0        NaN       NaN         NaN            NaN   \n",
       "\n",
       "   IssContUSD  IssTotNtv  IssTotUSD  NVTAdj  NVTAdj90  PriceBTC  PriceUSD  \\\n",
       "0         NaN        NaN        NaN     NaN       NaN       NaN       NaN   \n",
       "\n",
       "   ROI1yr  ROI30d  SplyCur  TxCnt  TxTfrCnt  TxTfrValAdjNtv  TxTfrValAdjUSD  \\\n",
       "0     NaN     NaN      0.0    0.0       0.0             0.0             NaN   \n",
       "\n",
       "   TxTfrValMeanNtv  TxTfrValMeanUSD  TxTfrValMedNtv  TxTfrValMedUSD  \\\n",
       "0              NaN              NaN             NaN             NaN   \n",
       "\n",
       "   TxTfrValNtv  TxTfrValUSD  VtyDayRet180d  VtyDayRet30d  VtyDayRet60d  \n",
       "0          NaN          NaN            NaN           NaN           NaN  "
      ]
     },
     "execution_count": 447,
     "metadata": {},
     "output_type": "execute_result"
    }
   ],
   "source": [
    "ltc.head(1)"
   ]
  },
  {
   "cell_type": "code",
   "execution_count": 448,
   "metadata": {},
   "outputs": [
    {
     "data": {
      "text/html": [
       "<div>\n",
       "<style scoped>\n",
       "    .dataframe tbody tr th:only-of-type {\n",
       "        vertical-align: middle;\n",
       "    }\n",
       "\n",
       "    .dataframe tbody tr th {\n",
       "        vertical-align: top;\n",
       "    }\n",
       "\n",
       "    .dataframe thead th {\n",
       "        text-align: right;\n",
       "    }\n",
       "</style>\n",
       "<table border=\"1\" class=\"dataframe\">\n",
       "  <thead>\n",
       "    <tr style=\"text-align: right;\">\n",
       "      <th></th>\n",
       "      <th>date</th>\n",
       "      <th>BlkCnt</th>\n",
       "      <th>IssContNtv</th>\n",
       "    </tr>\n",
       "  </thead>\n",
       "  <tbody>\n",
       "    <tr>\n",
       "      <th>0</th>\n",
       "      <td>2011-10-07</td>\n",
       "      <td>0.0</td>\n",
       "      <td>NaN</td>\n",
       "    </tr>\n",
       "  </tbody>\n",
       "</table>\n",
       "</div>"
      ],
      "text/plain": [
       "        date  BlkCnt  IssContNtv\n",
       "0 2011-10-07     0.0         NaN"
      ]
     },
     "execution_count": 448,
     "metadata": {},
     "output_type": "execute_result"
    }
   ],
   "source": [
    "#confirm halving dates \n",
    "ltc[['date', 'BlkCnt', 'IssContNtv']].head(1)"
   ]
  },
  {
   "cell_type": "code",
   "execution_count": 449,
   "metadata": {},
   "outputs": [],
   "source": [
    "#we are only interested in btc volatility \n",
    "\n",
    "ltc_vol = ltc[['date', 'VtyDayRet180d', 'VtyDayRet60d', 'VtyDayRet30d']]"
   ]
  },
  {
   "cell_type": "code",
   "execution_count": 450,
   "metadata": {},
   "outputs": [
    {
     "data": {
      "text/plain": [
       "pandas._libs.tslibs.timestamps.Timestamp"
      ]
     },
     "execution_count": 450,
     "metadata": {},
     "output_type": "execute_result"
    }
   ],
   "source": [
    "type(ltc_vol['date'][0])"
   ]
  },
  {
   "cell_type": "code",
   "execution_count": 460,
   "metadata": {},
   "outputs": [],
   "source": [
    "#might be more useful to zoom in \n",
    "\n",
    "#divide df for period between inception and 1st halving \n",
    "#and from 1st halving to 2nd halving \n",
    "#and finally from 2nd halving to preent \n",
    "\n",
    "#creating masks \n",
    "ltc_halv_1 = ltc_vol[ltc_vol['date'] == '2015-08-25']\n",
    "ltc_halv_2 = ltc_vol[ltc_vol['date'] == '2019-08-05'] "
   ]
  },
  {
   "cell_type": "code",
   "execution_count": 461,
   "metadata": {},
   "outputs": [],
   "source": [
    "vol_1st_halv = ltc_vol[0:ltc_halv_1.index[0]+1]\n",
    "vol_2nd_halv = ltc_vol[ltc_halv_1.index[0]:ltc_halv_2.index[0]+1]\n",
    "vol_pre = ltc_vol[ltc_halv_2.index[0]:-1]"
   ]
  },
  {
   "cell_type": "code",
   "execution_count": 462,
   "metadata": {},
   "outputs": [],
   "source": [
    "#let's further zoom in and analyze volatility 1 month prior and 1 month post 1st halving \n",
    "\n",
    "first_halv_prior_post =  ltc_vol[ltc_halv_1.index[0]-30:ltc_halv_1.index[0]+31]"
   ]
  },
  {
   "cell_type": "code",
   "execution_count": 463,
   "metadata": {},
   "outputs": [
    {
     "data": {
      "text/html": [
       "<div>\n",
       "<style scoped>\n",
       "    .dataframe tbody tr th:only-of-type {\n",
       "        vertical-align: middle;\n",
       "    }\n",
       "\n",
       "    .dataframe tbody tr th {\n",
       "        vertical-align: top;\n",
       "    }\n",
       "\n",
       "    .dataframe thead th {\n",
       "        text-align: right;\n",
       "    }\n",
       "</style>\n",
       "<table border=\"1\" class=\"dataframe\">\n",
       "  <thead>\n",
       "    <tr style=\"text-align: right;\">\n",
       "      <th></th>\n",
       "      <th>date</th>\n",
       "      <th>VtyDayRet180d</th>\n",
       "      <th>VtyDayRet60d</th>\n",
       "      <th>VtyDayRet30d</th>\n",
       "    </tr>\n",
       "  </thead>\n",
       "  <tbody>\n",
       "    <tr>\n",
       "      <th>1388</th>\n",
       "      <td>2015-07-26</td>\n",
       "      <td>0.070941</td>\n",
       "      <td>0.113684</td>\n",
       "      <td>0.144803</td>\n",
       "    </tr>\n",
       "    <tr>\n",
       "      <th>1389</th>\n",
       "      <td>2015-07-27</td>\n",
       "      <td>0.070447</td>\n",
       "      <td>0.113659</td>\n",
       "      <td>0.144268</td>\n",
       "    </tr>\n",
       "    <tr>\n",
       "      <th>1390</th>\n",
       "      <td>2015-07-28</td>\n",
       "      <td>0.070701</td>\n",
       "      <td>0.114000</td>\n",
       "      <td>0.144809</td>\n",
       "    </tr>\n",
       "    <tr>\n",
       "      <th>1391</th>\n",
       "      <td>2015-07-29</td>\n",
       "      <td>0.070848</td>\n",
       "      <td>0.114286</td>\n",
       "      <td>0.141531</td>\n",
       "    </tr>\n",
       "    <tr>\n",
       "      <th>1392</th>\n",
       "      <td>2015-07-30</td>\n",
       "      <td>0.070921</td>\n",
       "      <td>0.113787</td>\n",
       "      <td>0.140874</td>\n",
       "    </tr>\n",
       "  </tbody>\n",
       "</table>\n",
       "</div>"
      ],
      "text/plain": [
       "           date  VtyDayRet180d  VtyDayRet60d  VtyDayRet30d\n",
       "1388 2015-07-26       0.070941      0.113684      0.144803\n",
       "1389 2015-07-27       0.070447      0.113659      0.144268\n",
       "1390 2015-07-28       0.070701      0.114000      0.144809\n",
       "1391 2015-07-29       0.070848      0.114286      0.141531\n",
       "1392 2015-07-30       0.070921      0.113787      0.140874"
      ]
     },
     "execution_count": 463,
     "metadata": {},
     "output_type": "execute_result"
    }
   ],
   "source": [
    "#30 days prior and 30 days post 1st halving \n",
    "\n",
    "first_halv_prior_post.head()"
   ]
  },
  {
   "cell_type": "code",
   "execution_count": 464,
   "metadata": {},
   "outputs": [
    {
     "data": {
      "text/plain": [
       "0.14480892693875688"
      ]
     },
     "execution_count": 464,
     "metadata": {},
     "output_type": "execute_result"
    }
   ],
   "source": [
    "max_vol = max(first_halv_prior_post['VtyDayRet30d'])\n",
    "max_vol"
   ]
  },
  {
   "cell_type": "code",
   "execution_count": 465,
   "metadata": {},
   "outputs": [
    {
     "data": {
      "text/html": [
       "<div>\n",
       "<style scoped>\n",
       "    .dataframe tbody tr th:only-of-type {\n",
       "        vertical-align: middle;\n",
       "    }\n",
       "\n",
       "    .dataframe tbody tr th {\n",
       "        vertical-align: top;\n",
       "    }\n",
       "\n",
       "    .dataframe thead th {\n",
       "        text-align: right;\n",
       "    }\n",
       "</style>\n",
       "<table border=\"1\" class=\"dataframe\">\n",
       "  <thead>\n",
       "    <tr style=\"text-align: right;\">\n",
       "      <th></th>\n",
       "      <th>VtyDayRet30d</th>\n",
       "    </tr>\n",
       "  </thead>\n",
       "  <tbody>\n",
       "    <tr>\n",
       "      <th>1390</th>\n",
       "      <td>0.144809</td>\n",
       "    </tr>\n",
       "  </tbody>\n",
       "</table>\n",
       "</div>"
      ],
      "text/plain": [
       "      VtyDayRet30d\n",
       "1390      0.144809"
      ]
     },
     "execution_count": 465,
     "metadata": {},
     "output_type": "execute_result"
    }
   ],
   "source": [
    "#creating mask in order to map index to date of max volatility \n",
    "\n",
    "max_v = first_halv_prior_post[['VtyDayRet30d']][first_halv_prior_post[['VtyDayRet30d']] == max_vol]\n",
    "max_v = max_v.dropna()\n",
    "max_v"
   ]
  },
  {
   "cell_type": "code",
   "execution_count": 466,
   "metadata": {},
   "outputs": [
    {
     "data": {
      "text/plain": [
       "1390"
      ]
     },
     "execution_count": 466,
     "metadata": {},
     "output_type": "execute_result"
    }
   ],
   "source": [
    "max_val_index = max_v.index[0]\n",
    "max_val_index"
   ]
  },
  {
   "cell_type": "code",
   "execution_count": 467,
   "metadata": {},
   "outputs": [
    {
     "data": {
      "text/plain": [
       "Timestamp('2015-07-28 00:00:00')"
      ]
     },
     "execution_count": 467,
     "metadata": {},
     "output_type": "execute_result"
    }
   ],
   "source": [
    "halv1 = first_halv_prior_post[['date', 'VtyDayRet30d']].loc[max_val_index][0]\n",
    "halv1"
   ]
  },
  {
   "cell_type": "code",
   "execution_count": 470,
   "metadata": {},
   "outputs": [
    {
     "data": {
      "image/png": "[encoded data removed]",
      "text/plain": [
       "<Figure size 1080x432 with 1 Axes>"
      ]
     },
     "metadata": {
      "needs_background": "light"
     },
     "output_type": "display_data"
    }
   ],
   "source": [
    "#red line shows us max volatility for the current period \n",
    "#blue line shows exact date of halving \n",
    "\n",
    "fig, ax = plt.subplots(figsize = (15,6))    \n",
    "fig.autofmt_xdate() \n",
    "plt.axvline(halv1, color='r', linestyle='--', lw=2)\n",
    "plt.axvline('2015-08-25', color='b', linestyle='--', lw=2)\n",
    "fig = sns.lineplot(x='date', y='VtyDayRet30d', data=first_halv_prior_post)"
   ]
  },
  {
   "cell_type": "code",
   "execution_count": 471,
   "metadata": {},
   "outputs": [],
   "source": [
    "#repeating the process from above to the data from the 2nd halving \n",
    "\n",
    "first_halv2_prior_post = ltc_vol[ltc_halv_2.index[0]-30:ltc_halv_2.index[0]+31]"
   ]
  },
  {
   "cell_type": "code",
   "execution_count": 472,
   "metadata": {},
   "outputs": [
    {
     "data": {
      "text/html": [
       "<div>\n",
       "<style scoped>\n",
       "    .dataframe tbody tr th:only-of-type {\n",
       "        vertical-align: middle;\n",
       "    }\n",
       "\n",
       "    .dataframe tbody tr th {\n",
       "        vertical-align: top;\n",
       "    }\n",
       "\n",
       "    .dataframe thead th {\n",
       "        text-align: right;\n",
       "    }\n",
       "</style>\n",
       "<table border=\"1\" class=\"dataframe\">\n",
       "  <thead>\n",
       "    <tr style=\"text-align: right;\">\n",
       "      <th></th>\n",
       "      <th>date</th>\n",
       "      <th>VtyDayRet180d</th>\n",
       "      <th>VtyDayRet60d</th>\n",
       "      <th>VtyDayRet30d</th>\n",
       "    </tr>\n",
       "  </thead>\n",
       "  <tbody>\n",
       "    <tr>\n",
       "      <th>2829</th>\n",
       "      <td>2019-07-06</td>\n",
       "      <td>0.055000</td>\n",
       "      <td>0.058689</td>\n",
       "      <td>0.050074</td>\n",
       "    </tr>\n",
       "    <tr>\n",
       "      <th>2830</th>\n",
       "      <td>2019-07-07</td>\n",
       "      <td>0.054941</td>\n",
       "      <td>0.058678</td>\n",
       "      <td>0.049091</td>\n",
       "    </tr>\n",
       "    <tr>\n",
       "      <th>2831</th>\n",
       "      <td>2019-07-08</td>\n",
       "      <td>0.054956</td>\n",
       "      <td>0.058735</td>\n",
       "      <td>0.049397</td>\n",
       "    </tr>\n",
       "    <tr>\n",
       "      <th>2832</th>\n",
       "      <td>2019-07-09</td>\n",
       "      <td>0.053795</td>\n",
       "      <td>0.058847</td>\n",
       "      <td>0.049467</td>\n",
       "    </tr>\n",
       "    <tr>\n",
       "      <th>2833</th>\n",
       "      <td>2019-07-10</td>\n",
       "      <td>0.054201</td>\n",
       "      <td>0.055616</td>\n",
       "      <td>0.047682</td>\n",
       "    </tr>\n",
       "  </tbody>\n",
       "</table>\n",
       "</div>"
      ],
      "text/plain": [
       "           date  VtyDayRet180d  VtyDayRet60d  VtyDayRet30d\n",
       "2829 2019-07-06       0.055000      0.058689      0.050074\n",
       "2830 2019-07-07       0.054941      0.058678      0.049091\n",
       "2831 2019-07-08       0.054956      0.058735      0.049397\n",
       "2832 2019-07-09       0.053795      0.058847      0.049467\n",
       "2833 2019-07-10       0.054201      0.055616      0.047682"
      ]
     },
     "execution_count": 472,
     "metadata": {},
     "output_type": "execute_result"
    }
   ],
   "source": [
    "first_halv2_prior_post.head()"
   ]
  },
  {
   "cell_type": "code",
   "execution_count": 473,
   "metadata": {},
   "outputs": [
    {
     "data": {
      "text/plain": [
       "0.06661427402129658"
      ]
     },
     "execution_count": 473,
     "metadata": {},
     "output_type": "execute_result"
    }
   ],
   "source": [
    "max_vol2 = max(first_halv2_prior_post['VtyDayRet30d'])\n",
    "max_vol2"
   ]
  },
  {
   "cell_type": "code",
   "execution_count": 474,
   "metadata": {},
   "outputs": [
    {
     "data": {
      "text/html": [
       "<div>\n",
       "<style scoped>\n",
       "    .dataframe tbody tr th:only-of-type {\n",
       "        vertical-align: middle;\n",
       "    }\n",
       "\n",
       "    .dataframe tbody tr th {\n",
       "        vertical-align: top;\n",
       "    }\n",
       "\n",
       "    .dataframe thead th {\n",
       "        text-align: right;\n",
       "    }\n",
       "</style>\n",
       "<table border=\"1\" class=\"dataframe\">\n",
       "  <thead>\n",
       "    <tr style=\"text-align: right;\">\n",
       "      <th></th>\n",
       "      <th>VtyDayRet30d</th>\n",
       "    </tr>\n",
       "  </thead>\n",
       "  <tbody>\n",
       "    <tr>\n",
       "      <th>2847</th>\n",
       "      <td>0.066614</td>\n",
       "    </tr>\n",
       "  </tbody>\n",
       "</table>\n",
       "</div>"
      ],
      "text/plain": [
       "      VtyDayRet30d\n",
       "2847      0.066614"
      ]
     },
     "execution_count": 474,
     "metadata": {},
     "output_type": "execute_result"
    }
   ],
   "source": [
    "max_v2 = first_halv2_prior_post[['VtyDayRet30d']][first_halv2_prior_post[['VtyDayRet30d']] == max_vol2]\n",
    "max_v2 = max_v2.dropna()\n",
    "max_v2"
   ]
  },
  {
   "cell_type": "code",
   "execution_count": 475,
   "metadata": {},
   "outputs": [
    {
     "data": {
      "text/plain": [
       "2847"
      ]
     },
     "execution_count": 475,
     "metadata": {},
     "output_type": "execute_result"
    }
   ],
   "source": [
    "max_val2_index = max_v2.index[0]\n",
    "max_val2_index"
   ]
  },
  {
   "cell_type": "code",
   "execution_count": 476,
   "metadata": {},
   "outputs": [
    {
     "data": {
      "text/plain": [
       "Timestamp('2019-07-24 00:00:00')"
      ]
     },
     "execution_count": 476,
     "metadata": {},
     "output_type": "execute_result"
    }
   ],
   "source": [
    "halv2 = first_halv2_prior_post[['date', 'VtyDayRet30d']].loc[max_val2_index][0]\n",
    "halv2"
   ]
  },
  {
   "cell_type": "code",
   "execution_count": 478,
   "metadata": {},
   "outputs": [
    {
     "data": {
      "image/png": "[encoded data removed]",
      "text/plain": [
       "<Figure size 1080x432 with 1 Axes>"
      ]
     },
     "metadata": {
      "needs_background": "light"
     },
     "output_type": "display_data"
    }
   ],
   "source": [
    "#red line shows us max volatility for the current period \n",
    "#blue line shows exact date of halving \n",
    "\n",
    "fig, ax = plt.subplots(figsize = (15,6))    \n",
    "fig.autofmt_xdate() \n",
    "plt.axvline(halv2, color='r', linestyle='--', lw=2)\n",
    "plt.axvline('2019-08-05', color='b', linestyle='--', lw=2)\n",
    "fig = sns.lineplot(x='date', y='VtyDayRet30d', data=first_halv2_prior_post)"
   ]
  },
  {
   "cell_type": "code",
   "execution_count": 479,
   "metadata": {},
   "outputs": [],
   "source": [
    "#let's further zoom out and analyze volatility 3 month prior and 3 month post 1st halving \n",
    "\n",
    "first_halv_prior_post =  ltc_vol[ltc_halv_1.index[0]-90:ltc_halv_1.index[0]+91]"
   ]
  },
  {
   "cell_type": "code",
   "execution_count": 480,
   "metadata": {},
   "outputs": [
    {
     "data": {
      "text/html": [
       "<div>\n",
       "<style scoped>\n",
       "    .dataframe tbody tr th:only-of-type {\n",
       "        vertical-align: middle;\n",
       "    }\n",
       "\n",
       "    .dataframe tbody tr th {\n",
       "        vertical-align: top;\n",
       "    }\n",
       "\n",
       "    .dataframe thead th {\n",
       "        text-align: right;\n",
       "    }\n",
       "</style>\n",
       "<table border=\"1\" class=\"dataframe\">\n",
       "  <thead>\n",
       "    <tr style=\"text-align: right;\">\n",
       "      <th></th>\n",
       "      <th>date</th>\n",
       "      <th>VtyDayRet180d</th>\n",
       "      <th>VtyDayRet60d</th>\n",
       "      <th>VtyDayRet30d</th>\n",
       "    </tr>\n",
       "  </thead>\n",
       "  <tbody>\n",
       "    <tr>\n",
       "      <th>1328</th>\n",
       "      <td>2015-05-27</td>\n",
       "      <td>0.052739</td>\n",
       "      <td>0.033501</td>\n",
       "      <td>0.041445</td>\n",
       "    </tr>\n",
       "    <tr>\n",
       "      <th>1329</th>\n",
       "      <td>2015-05-28</td>\n",
       "      <td>0.052739</td>\n",
       "      <td>0.033277</td>\n",
       "      <td>0.041433</td>\n",
       "    </tr>\n",
       "    <tr>\n",
       "      <th>1330</th>\n",
       "      <td>2015-05-29</td>\n",
       "      <td>0.052739</td>\n",
       "      <td>0.033217</td>\n",
       "      <td>0.041416</td>\n",
       "    </tr>\n",
       "    <tr>\n",
       "      <th>1331</th>\n",
       "      <td>2015-05-30</td>\n",
       "      <td>0.052762</td>\n",
       "      <td>0.033240</td>\n",
       "      <td>0.040886</td>\n",
       "    </tr>\n",
       "    <tr>\n",
       "      <th>1332</th>\n",
       "      <td>2015-05-31</td>\n",
       "      <td>0.053101</td>\n",
       "      <td>0.035141</td>\n",
       "      <td>0.044088</td>\n",
       "    </tr>\n",
       "  </tbody>\n",
       "</table>\n",
       "</div>"
      ],
      "text/plain": [
       "           date  VtyDayRet180d  VtyDayRet60d  VtyDayRet30d\n",
       "1328 2015-05-27       0.052739      0.033501      0.041445\n",
       "1329 2015-05-28       0.052739      0.033277      0.041433\n",
       "1330 2015-05-29       0.052739      0.033217      0.041416\n",
       "1331 2015-05-30       0.052762      0.033240      0.040886\n",
       "1332 2015-05-31       0.053101      0.035141      0.044088"
      ]
     },
     "execution_count": 480,
     "metadata": {},
     "output_type": "execute_result"
    }
   ],
   "source": [
    "#90 days prior and 90 days post 1st halving \n",
    "\n",
    "first_halv_prior_post.head()"
   ]
  },
  {
   "cell_type": "code",
   "execution_count": 481,
   "metadata": {},
   "outputs": [
    {
     "data": {
      "text/plain": [
       "0.15086537391228755"
      ]
     },
     "execution_count": 481,
     "metadata": {},
     "output_type": "execute_result"
    }
   ],
   "source": [
    "max_vol = max(first_halv_prior_post['VtyDayRet30d'])\n",
    "max_vol"
   ]
  },
  {
   "cell_type": "code",
   "execution_count": 482,
   "metadata": {},
   "outputs": [
    {
     "data": {
      "text/html": [
       "<div>\n",
       "<style scoped>\n",
       "    .dataframe tbody tr th:only-of-type {\n",
       "        vertical-align: middle;\n",
       "    }\n",
       "\n",
       "    .dataframe tbody tr th {\n",
       "        vertical-align: top;\n",
       "    }\n",
       "\n",
       "    .dataframe thead th {\n",
       "        text-align: right;\n",
       "    }\n",
       "</style>\n",
       "<table border=\"1\" class=\"dataframe\">\n",
       "  <thead>\n",
       "    <tr style=\"text-align: right;\">\n",
       "      <th></th>\n",
       "      <th>VtyDayRet30d</th>\n",
       "    </tr>\n",
       "  </thead>\n",
       "  <tbody>\n",
       "    <tr>\n",
       "      <th>1377</th>\n",
       "      <td>0.150865</td>\n",
       "    </tr>\n",
       "  </tbody>\n",
       "</table>\n",
       "</div>"
      ],
      "text/plain": [
       "      VtyDayRet30d\n",
       "1377      0.150865"
      ]
     },
     "execution_count": 482,
     "metadata": {},
     "output_type": "execute_result"
    }
   ],
   "source": [
    "#creating mask in order to map index to date of max volatility \n",
    "\n",
    "max_v = first_halv_prior_post[['VtyDayRet30d']][first_halv_prior_post[['VtyDayRet30d']] == max_vol]\n",
    "max_v = max_v.dropna()\n",
    "max_v"
   ]
  },
  {
   "cell_type": "code",
   "execution_count": 483,
   "metadata": {},
   "outputs": [
    {
     "data": {
      "text/plain": [
       "1377"
      ]
     },
     "execution_count": 483,
     "metadata": {},
     "output_type": "execute_result"
    }
   ],
   "source": [
    "max_val_index = max_v.index[0]\n",
    "max_val_index"
   ]
  },
  {
   "cell_type": "code",
   "execution_count": 484,
   "metadata": {},
   "outputs": [
    {
     "data": {
      "text/plain": [
       "Timestamp('2015-07-15 00:00:00')"
      ]
     },
     "execution_count": 484,
     "metadata": {},
     "output_type": "execute_result"
    }
   ],
   "source": [
    "halv1 = first_halv_prior_post[['date', 'VtyDayRet30d']].loc[max_val_index][0]\n",
    "halv1"
   ]
  },
  {
   "cell_type": "code",
   "execution_count": 486,
   "metadata": {},
   "outputs": [
    {
     "data": {
      "image/png": "[encoded data removed]",
      "text/plain": [
       "<Figure size 1080x432 with 1 Axes>"
      ]
     },
     "metadata": {
      "needs_background": "light"
     },
     "output_type": "display_data"
    }
   ],
   "source": [
    "#red line shows us max volatility for the current period \n",
    "#blue line shows exact date of halving \n",
    "\n",
    "fig, ax = plt.subplots(figsize = (15,6))\n",
    "fig.autofmt_xdate()\n",
    "plt.axvline(halv1, color='r', linestyle='--', lw=2)\n",
    "plt.axvline('2015-08-25', color='b', linestyle='--', lw=2)\n",
    "fig = sns.lineplot(x='date', y='VtyDayRet30d', data=first_halv_prior_post)"
   ]
  },
  {
   "cell_type": "code",
   "execution_count": null,
   "metadata": {},
   "outputs": [],
   "source": [
    "############################################################################################################"
   ]
  },
  {
   "cell_type": "code",
   "execution_count": 488,
   "metadata": {},
   "outputs": [],
   "source": [
    "#let's further zoom out and analyze volatility 3 month prior and 3 month post 1st halving \n",
    "\n",
    "first_halv2_prior_post =  ltc_vol[ltc_halv_2.index[0]-90:ltc_halv_2.index[0]+91]"
   ]
  },
  {
   "cell_type": "code",
   "execution_count": 489,
   "metadata": {},
   "outputs": [
    {
     "data": {
      "text/html": [
       "<div>\n",
       "<style scoped>\n",
       "    .dataframe tbody tr th:only-of-type {\n",
       "        vertical-align: middle;\n",
       "    }\n",
       "\n",
       "    .dataframe tbody tr th {\n",
       "        vertical-align: top;\n",
       "    }\n",
       "\n",
       "    .dataframe thead th {\n",
       "        text-align: right;\n",
       "    }\n",
       "</style>\n",
       "<table border=\"1\" class=\"dataframe\">\n",
       "  <thead>\n",
       "    <tr style=\"text-align: right;\">\n",
       "      <th></th>\n",
       "      <th>date</th>\n",
       "      <th>VtyDayRet180d</th>\n",
       "      <th>VtyDayRet60d</th>\n",
       "      <th>VtyDayRet30d</th>\n",
       "    </tr>\n",
       "  </thead>\n",
       "  <tbody>\n",
       "    <tr>\n",
       "      <th>2769</th>\n",
       "      <td>2019-05-07</td>\n",
       "      <td>0.057643</td>\n",
       "      <td>0.047831</td>\n",
       "      <td>0.040059</td>\n",
       "    </tr>\n",
       "    <tr>\n",
       "      <th>2770</th>\n",
       "      <td>2019-05-08</td>\n",
       "      <td>0.057637</td>\n",
       "      <td>0.047691</td>\n",
       "      <td>0.039876</td>\n",
       "    </tr>\n",
       "    <tr>\n",
       "      <th>2771</th>\n",
       "      <td>2019-05-09</td>\n",
       "      <td>0.057637</td>\n",
       "      <td>0.047655</td>\n",
       "      <td>0.039605</td>\n",
       "    </tr>\n",
       "    <tr>\n",
       "      <th>2772</th>\n",
       "      <td>2019-05-10</td>\n",
       "      <td>0.057681</td>\n",
       "      <td>0.047634</td>\n",
       "      <td>0.040285</td>\n",
       "    </tr>\n",
       "    <tr>\n",
       "      <th>2773</th>\n",
       "      <td>2019-05-11</td>\n",
       "      <td>0.059279</td>\n",
       "      <td>0.052960</td>\n",
       "      <td>0.049101</td>\n",
       "    </tr>\n",
       "  </tbody>\n",
       "</table>\n",
       "</div>"
      ],
      "text/plain": [
       "           date  VtyDayRet180d  VtyDayRet60d  VtyDayRet30d\n",
       "2769 2019-05-07       0.057643      0.047831      0.040059\n",
       "2770 2019-05-08       0.057637      0.047691      0.039876\n",
       "2771 2019-05-09       0.057637      0.047655      0.039605\n",
       "2772 2019-05-10       0.057681      0.047634      0.040285\n",
       "2773 2019-05-11       0.059279      0.052960      0.049101"
      ]
     },
     "execution_count": 489,
     "metadata": {},
     "output_type": "execute_result"
    }
   ],
   "source": [
    "#90 days prior and 90 days post 1st halving \n",
    "\n",
    "first_halv2_prior_post.head()"
   ]
  },
  {
   "cell_type": "code",
   "execution_count": 497,
   "metadata": {},
   "outputs": [
    {
     "data": {
      "text/plain": [
       "0.06725602497783836"
      ]
     },
     "execution_count": 497,
     "metadata": {},
     "output_type": "execute_result"
    }
   ],
   "source": [
    "max_vol = max(first_halv2_prior_post['VtyDayRet30d'])\n",
    "max_vol"
   ]
  },
  {
   "cell_type": "code",
   "execution_count": 498,
   "metadata": {},
   "outputs": [
    {
     "data": {
      "text/html": [
       "<div>\n",
       "<style scoped>\n",
       "    .dataframe tbody tr th:only-of-type {\n",
       "        vertical-align: middle;\n",
       "    }\n",
       "\n",
       "    .dataframe tbody tr th {\n",
       "        vertical-align: top;\n",
       "    }\n",
       "\n",
       "    .dataframe thead th {\n",
       "        text-align: right;\n",
       "    }\n",
       "</style>\n",
       "<table border=\"1\" class=\"dataframe\">\n",
       "  <thead>\n",
       "    <tr style=\"text-align: right;\">\n",
       "      <th></th>\n",
       "      <th>VtyDayRet30d</th>\n",
       "    </tr>\n",
       "  </thead>\n",
       "  <tbody>\n",
       "    <tr>\n",
       "      <th>2802</th>\n",
       "      <td>0.067256</td>\n",
       "    </tr>\n",
       "  </tbody>\n",
       "</table>\n",
       "</div>"
      ],
      "text/plain": [
       "      VtyDayRet30d\n",
       "2802      0.067256"
      ]
     },
     "execution_count": 498,
     "metadata": {},
     "output_type": "execute_result"
    }
   ],
   "source": [
    "#creating mask in order to map index to date of max volatility \n",
    "\n",
    "max_v = first_halv2_prior_post[['VtyDayRet30d']][first_halv2_prior_post[['VtyDayRet30d']] == max_vol]\n",
    "max_v = max_v.dropna()\n",
    "max_v"
   ]
  },
  {
   "cell_type": "code",
   "execution_count": 499,
   "metadata": {},
   "outputs": [
    {
     "data": {
      "text/plain": [
       "2802"
      ]
     },
     "execution_count": 499,
     "metadata": {},
     "output_type": "execute_result"
    }
   ],
   "source": [
    "max_val_index = max_v.index[0]\n",
    "max_val_index"
   ]
  },
  {
   "cell_type": "code",
   "execution_count": 500,
   "metadata": {},
   "outputs": [
    {
     "data": {
      "text/plain": [
       "Timestamp('2019-06-09 00:00:00')"
      ]
     },
     "execution_count": 500,
     "metadata": {},
     "output_type": "execute_result"
    }
   ],
   "source": [
    "halv2 = first_halv2_prior_post[['date', 'VtyDayRet30d']].loc[max_val_index][0]\n",
    "halv2"
   ]
  },
  {
   "cell_type": "code",
   "execution_count": 503,
   "metadata": {},
   "outputs": [
    {
     "data": {
      "image/png": "[encoded data removed]",
      "text/plain": [
       "<Figure size 1080x432 with 1 Axes>"
      ]
     },
     "metadata": {
      "needs_background": "light"
     },
     "output_type": "display_data"
    }
   ],
   "source": [
    "#red line shows us max volatility for the current period \n",
    "#blue line shows exact date of halving \n",
    "\n",
    "fig, ax = plt.subplots(figsize = (15,6))\n",
    "fig.autofmt_xdate()\n",
    "plt.axvline(halv2, color='r', linestyle='--', lw=2)\n",
    "plt.axvline('2019-08-05', color='b', linestyle='--', lw=2)\n",
    "fig = sns.lineplot(x='date', y='VtyDayRet30d', data=first_halv2_prior_post)"
   ]
  }
 ],
 "metadata": {
  "kernelspec": {
   "display_name": "Python 3",
   "language": "python",
   "name": "python3"
  },
  "language_info": {
   "codemirror_mode": {
    "name": "ipython",
    "version": 3
   },
   "file_extension": ".py",
   "mimetype": "text/x-python",
   "name": "python",
   "nbconvert_exporter": "python",
   "pygments_lexer": "ipython3",
   "version": "3.7.3"
  }
 },
 "nbformat": 4,
 "nbformat_minor": 2
}
