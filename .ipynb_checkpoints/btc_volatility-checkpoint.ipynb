{
 "cells": [
  {
   "cell_type": "code",
   "execution_count": 1,
   "metadata": {},
   "outputs": [],
   "source": [
    "# #updating matplotlib since the previous version was not rendering 'x tick labels' correctly \n",
    "\n",
    "# !pip install matplotlib --upgrade "
   ]
  },
  {
   "cell_type": "code",
   "execution_count": 2,
   "metadata": {},
   "outputs": [],
   "source": [
    "#standard python libs for data manipulation \n",
    "import pandas as pd\n",
    "import numpy as np \n",
    "import matplotlib.pyplot as plt \n",
    "import seaborn as sns \n",
    "import datetime\n",
    "import statistics as stats "
   ]
  },
  {
   "cell_type": "code",
   "execution_count": 3,
   "metadata": {},
   "outputs": [
    {
     "data": {
      "text/plain": [
       "'3.2.1'"
      ]
     },
     "execution_count": 3,
     "metadata": {},
     "output_type": "execute_result"
    }
   ],
   "source": [
    "import matplotlib\n",
    "matplotlib.__version__"
   ]
  },
  {
   "cell_type": "code",
   "execution_count": 4,
   "metadata": {},
   "outputs": [],
   "source": [
    "pd.set_option('display.max_columns', None)\n",
    "pd.set_option('display.max_rows', None)"
   ]
  },
  {
   "cell_type": "code",
   "execution_count": 5,
   "metadata": {},
   "outputs": [],
   "source": [
    "btc = pd.read_csv('btc_april.csv')"
   ]
  },
  {
   "cell_type": "code",
   "execution_count": 6,
   "metadata": {},
   "outputs": [
    {
     "data": {
      "text/html": [
       "<div>\n",
       "<style scoped>\n",
       "    .dataframe tbody tr th:only-of-type {\n",
       "        vertical-align: middle;\n",
       "    }\n",
       "\n",
       "    .dataframe tbody tr th {\n",
       "        vertical-align: top;\n",
       "    }\n",
       "\n",
       "    .dataframe thead th {\n",
       "        text-align: right;\n",
       "    }\n",
       "</style>\n",
       "<table border=\"1\" class=\"dataframe\">\n",
       "  <thead>\n",
       "    <tr style=\"text-align: right;\">\n",
       "      <th></th>\n",
       "      <th>date</th>\n",
       "      <th>AdrActCnt</th>\n",
       "      <th>BlkCnt</th>\n",
       "      <th>BlkSizeByte</th>\n",
       "      <th>BlkSizeMeanByte</th>\n",
       "      <th>CapMVRVCur</th>\n",
       "      <th>CapMrktCurUSD</th>\n",
       "      <th>CapRealUSD</th>\n",
       "      <th>DiffMean</th>\n",
       "      <th>FeeMeanNtv</th>\n",
       "      <th>FeeMeanUSD</th>\n",
       "      <th>FeeMedNtv</th>\n",
       "      <th>FeeMedUSD</th>\n",
       "      <th>FeeTotNtv</th>\n",
       "      <th>FeeTotUSD</th>\n",
       "      <th>HashRate</th>\n",
       "      <th>IssContNtv</th>\n",
       "      <th>IssContPctAnn</th>\n",
       "      <th>IssContUSD</th>\n",
       "      <th>IssTotNtv</th>\n",
       "      <th>IssTotUSD</th>\n",
       "      <th>NVTAdj</th>\n",
       "      <th>NVTAdj90</th>\n",
       "      <th>PriceBTC</th>\n",
       "      <th>PriceUSD</th>\n",
       "      <th>ROI1yr</th>\n",
       "      <th>ROI30d</th>\n",
       "      <th>SplyCur</th>\n",
       "      <th>TxCnt</th>\n",
       "      <th>TxTfrCnt</th>\n",
       "      <th>TxTfrValAdjNtv</th>\n",
       "      <th>TxTfrValAdjUSD</th>\n",
       "      <th>TxTfrValMeanNtv</th>\n",
       "      <th>TxTfrValMeanUSD</th>\n",
       "      <th>TxTfrValMedNtv</th>\n",
       "      <th>TxTfrValMedUSD</th>\n",
       "      <th>TxTfrValNtv</th>\n",
       "      <th>TxTfrValUSD</th>\n",
       "      <th>VtyDayRet180d</th>\n",
       "      <th>VtyDayRet30d</th>\n",
       "      <th>VtyDayRet60d</th>\n",
       "    </tr>\n",
       "  </thead>\n",
       "  <tbody>\n",
       "    <tr>\n",
       "      <th>0</th>\n",
       "      <td>2009-01-03</td>\n",
       "      <td>0</td>\n",
       "      <td>0</td>\n",
       "      <td>0</td>\n",
       "      <td>NaN</td>\n",
       "      <td>NaN</td>\n",
       "      <td>NaN</td>\n",
       "      <td>0.0</td>\n",
       "      <td>NaN</td>\n",
       "      <td>NaN</td>\n",
       "      <td>NaN</td>\n",
       "      <td>NaN</td>\n",
       "      <td>NaN</td>\n",
       "      <td>0.0</td>\n",
       "      <td>NaN</td>\n",
       "      <td>NaN</td>\n",
       "      <td>NaN</td>\n",
       "      <td>NaN</td>\n",
       "      <td>NaN</td>\n",
       "      <td>NaN</td>\n",
       "      <td>NaN</td>\n",
       "      <td>NaN</td>\n",
       "      <td>NaN</td>\n",
       "      <td>1</td>\n",
       "      <td>NaN</td>\n",
       "      <td>NaN</td>\n",
       "      <td>NaN</td>\n",
       "      <td>0.0</td>\n",
       "      <td>0</td>\n",
       "      <td>0</td>\n",
       "      <td>0.0</td>\n",
       "      <td>NaN</td>\n",
       "      <td>NaN</td>\n",
       "      <td>NaN</td>\n",
       "      <td>NaN</td>\n",
       "      <td>NaN</td>\n",
       "      <td>0.0</td>\n",
       "      <td>NaN</td>\n",
       "      <td>NaN</td>\n",
       "      <td>NaN</td>\n",
       "      <td>NaN</td>\n",
       "    </tr>\n",
       "    <tr>\n",
       "      <th>1</th>\n",
       "      <td>2009-01-04</td>\n",
       "      <td>0</td>\n",
       "      <td>0</td>\n",
       "      <td>0</td>\n",
       "      <td>NaN</td>\n",
       "      <td>NaN</td>\n",
       "      <td>NaN</td>\n",
       "      <td>0.0</td>\n",
       "      <td>NaN</td>\n",
       "      <td>NaN</td>\n",
       "      <td>NaN</td>\n",
       "      <td>NaN</td>\n",
       "      <td>NaN</td>\n",
       "      <td>0.0</td>\n",
       "      <td>NaN</td>\n",
       "      <td>NaN</td>\n",
       "      <td>NaN</td>\n",
       "      <td>NaN</td>\n",
       "      <td>NaN</td>\n",
       "      <td>NaN</td>\n",
       "      <td>NaN</td>\n",
       "      <td>NaN</td>\n",
       "      <td>NaN</td>\n",
       "      <td>1</td>\n",
       "      <td>NaN</td>\n",
       "      <td>NaN</td>\n",
       "      <td>NaN</td>\n",
       "      <td>0.0</td>\n",
       "      <td>0</td>\n",
       "      <td>0</td>\n",
       "      <td>0.0</td>\n",
       "      <td>NaN</td>\n",
       "      <td>NaN</td>\n",
       "      <td>NaN</td>\n",
       "      <td>NaN</td>\n",
       "      <td>NaN</td>\n",
       "      <td>0.0</td>\n",
       "      <td>NaN</td>\n",
       "      <td>NaN</td>\n",
       "      <td>NaN</td>\n",
       "      <td>NaN</td>\n",
       "    </tr>\n",
       "    <tr>\n",
       "      <th>2</th>\n",
       "      <td>2009-01-05</td>\n",
       "      <td>0</td>\n",
       "      <td>0</td>\n",
       "      <td>0</td>\n",
       "      <td>NaN</td>\n",
       "      <td>NaN</td>\n",
       "      <td>NaN</td>\n",
       "      <td>0.0</td>\n",
       "      <td>NaN</td>\n",
       "      <td>NaN</td>\n",
       "      <td>NaN</td>\n",
       "      <td>NaN</td>\n",
       "      <td>NaN</td>\n",
       "      <td>0.0</td>\n",
       "      <td>NaN</td>\n",
       "      <td>NaN</td>\n",
       "      <td>NaN</td>\n",
       "      <td>NaN</td>\n",
       "      <td>NaN</td>\n",
       "      <td>NaN</td>\n",
       "      <td>NaN</td>\n",
       "      <td>NaN</td>\n",
       "      <td>NaN</td>\n",
       "      <td>1</td>\n",
       "      <td>NaN</td>\n",
       "      <td>NaN</td>\n",
       "      <td>NaN</td>\n",
       "      <td>0.0</td>\n",
       "      <td>0</td>\n",
       "      <td>0</td>\n",
       "      <td>0.0</td>\n",
       "      <td>NaN</td>\n",
       "      <td>NaN</td>\n",
       "      <td>NaN</td>\n",
       "      <td>NaN</td>\n",
       "      <td>NaN</td>\n",
       "      <td>0.0</td>\n",
       "      <td>NaN</td>\n",
       "      <td>NaN</td>\n",
       "      <td>NaN</td>\n",
       "      <td>NaN</td>\n",
       "    </tr>\n",
       "    <tr>\n",
       "      <th>3</th>\n",
       "      <td>2009-01-06</td>\n",
       "      <td>0</td>\n",
       "      <td>0</td>\n",
       "      <td>0</td>\n",
       "      <td>NaN</td>\n",
       "      <td>NaN</td>\n",
       "      <td>NaN</td>\n",
       "      <td>0.0</td>\n",
       "      <td>NaN</td>\n",
       "      <td>NaN</td>\n",
       "      <td>NaN</td>\n",
       "      <td>NaN</td>\n",
       "      <td>NaN</td>\n",
       "      <td>0.0</td>\n",
       "      <td>NaN</td>\n",
       "      <td>NaN</td>\n",
       "      <td>NaN</td>\n",
       "      <td>NaN</td>\n",
       "      <td>NaN</td>\n",
       "      <td>NaN</td>\n",
       "      <td>NaN</td>\n",
       "      <td>NaN</td>\n",
       "      <td>NaN</td>\n",
       "      <td>1</td>\n",
       "      <td>NaN</td>\n",
       "      <td>NaN</td>\n",
       "      <td>NaN</td>\n",
       "      <td>0.0</td>\n",
       "      <td>0</td>\n",
       "      <td>0</td>\n",
       "      <td>0.0</td>\n",
       "      <td>NaN</td>\n",
       "      <td>NaN</td>\n",
       "      <td>NaN</td>\n",
       "      <td>NaN</td>\n",
       "      <td>NaN</td>\n",
       "      <td>0.0</td>\n",
       "      <td>NaN</td>\n",
       "      <td>NaN</td>\n",
       "      <td>NaN</td>\n",
       "      <td>NaN</td>\n",
       "    </tr>\n",
       "    <tr>\n",
       "      <th>4</th>\n",
       "      <td>2009-01-07</td>\n",
       "      <td>0</td>\n",
       "      <td>0</td>\n",
       "      <td>0</td>\n",
       "      <td>NaN</td>\n",
       "      <td>NaN</td>\n",
       "      <td>NaN</td>\n",
       "      <td>0.0</td>\n",
       "      <td>NaN</td>\n",
       "      <td>NaN</td>\n",
       "      <td>NaN</td>\n",
       "      <td>NaN</td>\n",
       "      <td>NaN</td>\n",
       "      <td>0.0</td>\n",
       "      <td>NaN</td>\n",
       "      <td>NaN</td>\n",
       "      <td>NaN</td>\n",
       "      <td>NaN</td>\n",
       "      <td>NaN</td>\n",
       "      <td>NaN</td>\n",
       "      <td>NaN</td>\n",
       "      <td>NaN</td>\n",
       "      <td>NaN</td>\n",
       "      <td>1</td>\n",
       "      <td>NaN</td>\n",
       "      <td>NaN</td>\n",
       "      <td>NaN</td>\n",
       "      <td>0.0</td>\n",
       "      <td>0</td>\n",
       "      <td>0</td>\n",
       "      <td>0.0</td>\n",
       "      <td>NaN</td>\n",
       "      <td>NaN</td>\n",
       "      <td>NaN</td>\n",
       "      <td>NaN</td>\n",
       "      <td>NaN</td>\n",
       "      <td>0.0</td>\n",
       "      <td>NaN</td>\n",
       "      <td>NaN</td>\n",
       "      <td>NaN</td>\n",
       "      <td>NaN</td>\n",
       "    </tr>\n",
       "  </tbody>\n",
       "</table>\n",
       "</div>"
      ],
      "text/plain": [
       "         date  AdrActCnt  BlkCnt  BlkSizeByte  BlkSizeMeanByte  CapMVRVCur  \\\n",
       "0  2009-01-03          0       0            0              NaN         NaN   \n",
       "1  2009-01-04          0       0            0              NaN         NaN   \n",
       "2  2009-01-05          0       0            0              NaN         NaN   \n",
       "3  2009-01-06          0       0            0              NaN         NaN   \n",
       "4  2009-01-07          0       0            0              NaN         NaN   \n",
       "\n",
       "   CapMrktCurUSD  CapRealUSD  DiffMean  FeeMeanNtv  FeeMeanUSD  FeeMedNtv  \\\n",
       "0            NaN         0.0       NaN         NaN         NaN        NaN   \n",
       "1            NaN         0.0       NaN         NaN         NaN        NaN   \n",
       "2            NaN         0.0       NaN         NaN         NaN        NaN   \n",
       "3            NaN         0.0       NaN         NaN         NaN        NaN   \n",
       "4            NaN         0.0       NaN         NaN         NaN        NaN   \n",
       "\n",
       "   FeeMedUSD  FeeTotNtv  FeeTotUSD  HashRate  IssContNtv  IssContPctAnn  \\\n",
       "0        NaN        0.0        NaN       NaN         NaN            NaN   \n",
       "1        NaN        0.0        NaN       NaN         NaN            NaN   \n",
       "2        NaN        0.0        NaN       NaN         NaN            NaN   \n",
       "3        NaN        0.0        NaN       NaN         NaN            NaN   \n",
       "4        NaN        0.0        NaN       NaN         NaN            NaN   \n",
       "\n",
       "   IssContUSD  IssTotNtv  IssTotUSD  NVTAdj  NVTAdj90  PriceBTC  PriceUSD  \\\n",
       "0         NaN        NaN        NaN     NaN       NaN         1       NaN   \n",
       "1         NaN        NaN        NaN     NaN       NaN         1       NaN   \n",
       "2         NaN        NaN        NaN     NaN       NaN         1       NaN   \n",
       "3         NaN        NaN        NaN     NaN       NaN         1       NaN   \n",
       "4         NaN        NaN        NaN     NaN       NaN         1       NaN   \n",
       "\n",
       "   ROI1yr  ROI30d  SplyCur  TxCnt  TxTfrCnt  TxTfrValAdjNtv  TxTfrValAdjUSD  \\\n",
       "0     NaN     NaN      0.0      0         0             0.0             NaN   \n",
       "1     NaN     NaN      0.0      0         0             0.0             NaN   \n",
       "2     NaN     NaN      0.0      0         0             0.0             NaN   \n",
       "3     NaN     NaN      0.0      0         0             0.0             NaN   \n",
       "4     NaN     NaN      0.0      0         0             0.0             NaN   \n",
       "\n",
       "   TxTfrValMeanNtv  TxTfrValMeanUSD  TxTfrValMedNtv  TxTfrValMedUSD  \\\n",
       "0              NaN              NaN             NaN             NaN   \n",
       "1              NaN              NaN             NaN             NaN   \n",
       "2              NaN              NaN             NaN             NaN   \n",
       "3              NaN              NaN             NaN             NaN   \n",
       "4              NaN              NaN             NaN             NaN   \n",
       "\n",
       "   TxTfrValNtv  TxTfrValUSD  VtyDayRet180d  VtyDayRet30d  VtyDayRet60d  \n",
       "0          0.0          NaN            NaN           NaN           NaN  \n",
       "1          0.0          NaN            NaN           NaN           NaN  \n",
       "2          0.0          NaN            NaN           NaN           NaN  \n",
       "3          0.0          NaN            NaN           NaN           NaN  \n",
       "4          0.0          NaN            NaN           NaN           NaN  "
      ]
     },
     "execution_count": 6,
     "metadata": {},
     "output_type": "execute_result"
    }
   ],
   "source": [
    "btc.head()"
   ]
  },
  {
   "cell_type": "code",
   "execution_count": 7,
   "metadata": {},
   "outputs": [
    {
     "data": {
      "text/html": [
       "<div>\n",
       "<style scoped>\n",
       "    .dataframe tbody tr th:only-of-type {\n",
       "        vertical-align: middle;\n",
       "    }\n",
       "\n",
       "    .dataframe tbody tr th {\n",
       "        vertical-align: top;\n",
       "    }\n",
       "\n",
       "    .dataframe thead th {\n",
       "        text-align: right;\n",
       "    }\n",
       "</style>\n",
       "<table border=\"1\" class=\"dataframe\">\n",
       "  <thead>\n",
       "    <tr style=\"text-align: right;\">\n",
       "      <th></th>\n",
       "      <th>date</th>\n",
       "      <th>IssContNtv</th>\n",
       "    </tr>\n",
       "  </thead>\n",
       "  <tbody>\n",
       "    <tr>\n",
       "      <th>0</th>\n",
       "      <td>2009-01-03</td>\n",
       "      <td>NaN</td>\n",
       "    </tr>\n",
       "    <tr>\n",
       "      <th>1</th>\n",
       "      <td>2009-01-04</td>\n",
       "      <td>NaN</td>\n",
       "    </tr>\n",
       "    <tr>\n",
       "      <th>2</th>\n",
       "      <td>2009-01-05</td>\n",
       "      <td>NaN</td>\n",
       "    </tr>\n",
       "    <tr>\n",
       "      <th>3</th>\n",
       "      <td>2009-01-06</td>\n",
       "      <td>NaN</td>\n",
       "    </tr>\n",
       "    <tr>\n",
       "      <th>4</th>\n",
       "      <td>2009-01-07</td>\n",
       "      <td>NaN</td>\n",
       "    </tr>\n",
       "  </tbody>\n",
       "</table>\n",
       "</div>"
      ],
      "text/plain": [
       "         date  IssContNtv\n",
       "0  2009-01-03         NaN\n",
       "1  2009-01-04         NaN\n",
       "2  2009-01-05         NaN\n",
       "3  2009-01-06         NaN\n",
       "4  2009-01-07         NaN"
      ]
     },
     "execution_count": 7,
     "metadata": {},
     "output_type": "execute_result"
    }
   ],
   "source": [
    "#look at Issuance Count to determine exact dates where block reward halvings occured \n",
    "#1st halving: 2012-11-28\n",
    "#2nd halving: 2016-07-9\n",
    "# ~3rd halving: 2020-05-12 \n",
    "\n",
    "btc[['date', 'IssContNtv']].head()"
   ]
  },
  {
   "cell_type": "code",
   "execution_count": 8,
   "metadata": {},
   "outputs": [],
   "source": [
    "#we are only interested in btc volatility \n",
    "\n",
    "btc_vol = btc[['date', 'VtyDayRet180d', 'VtyDayRet60d', 'VtyDayRet30d']]"
   ]
  },
  {
   "cell_type": "code",
   "execution_count": 9,
   "metadata": {},
   "outputs": [
    {
     "data": {
      "text/html": [
       "<div>\n",
       "<style scoped>\n",
       "    .dataframe tbody tr th:only-of-type {\n",
       "        vertical-align: middle;\n",
       "    }\n",
       "\n",
       "    .dataframe tbody tr th {\n",
       "        vertical-align: top;\n",
       "    }\n",
       "\n",
       "    .dataframe thead th {\n",
       "        text-align: right;\n",
       "    }\n",
       "</style>\n",
       "<table border=\"1\" class=\"dataframe\">\n",
       "  <thead>\n",
       "    <tr style=\"text-align: right;\">\n",
       "      <th></th>\n",
       "      <th>date</th>\n",
       "      <th>VtyDayRet180d</th>\n",
       "      <th>VtyDayRet60d</th>\n",
       "      <th>VtyDayRet30d</th>\n",
       "    </tr>\n",
       "  </thead>\n",
       "  <tbody>\n",
       "    <tr>\n",
       "      <th>0</th>\n",
       "      <td>2009-01-03</td>\n",
       "      <td>NaN</td>\n",
       "      <td>NaN</td>\n",
       "      <td>NaN</td>\n",
       "    </tr>\n",
       "    <tr>\n",
       "      <th>1</th>\n",
       "      <td>2009-01-04</td>\n",
       "      <td>NaN</td>\n",
       "      <td>NaN</td>\n",
       "      <td>NaN</td>\n",
       "    </tr>\n",
       "    <tr>\n",
       "      <th>2</th>\n",
       "      <td>2009-01-05</td>\n",
       "      <td>NaN</td>\n",
       "      <td>NaN</td>\n",
       "      <td>NaN</td>\n",
       "    </tr>\n",
       "    <tr>\n",
       "      <th>3</th>\n",
       "      <td>2009-01-06</td>\n",
       "      <td>NaN</td>\n",
       "      <td>NaN</td>\n",
       "      <td>NaN</td>\n",
       "    </tr>\n",
       "    <tr>\n",
       "      <th>4</th>\n",
       "      <td>2009-01-07</td>\n",
       "      <td>NaN</td>\n",
       "      <td>NaN</td>\n",
       "      <td>NaN</td>\n",
       "    </tr>\n",
       "  </tbody>\n",
       "</table>\n",
       "</div>"
      ],
      "text/plain": [
       "         date  VtyDayRet180d  VtyDayRet60d  VtyDayRet30d\n",
       "0  2009-01-03            NaN           NaN           NaN\n",
       "1  2009-01-04            NaN           NaN           NaN\n",
       "2  2009-01-05            NaN           NaN           NaN\n",
       "3  2009-01-06            NaN           NaN           NaN\n",
       "4  2009-01-07            NaN           NaN           NaN"
      ]
     },
     "execution_count": 9,
     "metadata": {},
     "output_type": "execute_result"
    }
   ],
   "source": [
    "btc_vol.head() "
   ]
  },
  {
   "cell_type": "code",
   "execution_count": 10,
   "metadata": {},
   "outputs": [
    {
     "data": {
      "text/plain": [
       "date             0\n",
       "VtyDayRet180d    0\n",
       "VtyDayRet60d     0\n",
       "VtyDayRet30d     0\n",
       "dtype: int64"
      ]
     },
     "execution_count": 10,
     "metadata": {},
     "output_type": "execute_result"
    }
   ],
   "source": [
    "#checking for NaNs \n",
    "btc_vol = btc_vol.fillna(0)\n",
    "btc_vol.isna().sum()"
   ]
  },
  {
   "cell_type": "code",
   "execution_count": 11,
   "metadata": {},
   "outputs": [
    {
     "data": {
      "text/html": [
       "<div>\n",
       "<style scoped>\n",
       "    .dataframe tbody tr th:only-of-type {\n",
       "        vertical-align: middle;\n",
       "    }\n",
       "\n",
       "    .dataframe tbody tr th {\n",
       "        vertical-align: top;\n",
       "    }\n",
       "\n",
       "    .dataframe thead th {\n",
       "        text-align: right;\n",
       "    }\n",
       "</style>\n",
       "<table border=\"1\" class=\"dataframe\">\n",
       "  <thead>\n",
       "    <tr style=\"text-align: right;\">\n",
       "      <th></th>\n",
       "      <th>date</th>\n",
       "      <th>VtyDayRet180d</th>\n",
       "      <th>VtyDayRet60d</th>\n",
       "      <th>VtyDayRet30d</th>\n",
       "    </tr>\n",
       "  </thead>\n",
       "  <tbody>\n",
       "    <tr>\n",
       "      <th>0</th>\n",
       "      <td>2009-01-03</td>\n",
       "      <td>0.0</td>\n",
       "      <td>0.0</td>\n",
       "      <td>0.0</td>\n",
       "    </tr>\n",
       "    <tr>\n",
       "      <th>1</th>\n",
       "      <td>2009-01-04</td>\n",
       "      <td>0.0</td>\n",
       "      <td>0.0</td>\n",
       "      <td>0.0</td>\n",
       "    </tr>\n",
       "    <tr>\n",
       "      <th>2</th>\n",
       "      <td>2009-01-05</td>\n",
       "      <td>0.0</td>\n",
       "      <td>0.0</td>\n",
       "      <td>0.0</td>\n",
       "    </tr>\n",
       "    <tr>\n",
       "      <th>3</th>\n",
       "      <td>2009-01-06</td>\n",
       "      <td>0.0</td>\n",
       "      <td>0.0</td>\n",
       "      <td>0.0</td>\n",
       "    </tr>\n",
       "    <tr>\n",
       "      <th>4</th>\n",
       "      <td>2009-01-07</td>\n",
       "      <td>0.0</td>\n",
       "      <td>0.0</td>\n",
       "      <td>0.0</td>\n",
       "    </tr>\n",
       "  </tbody>\n",
       "</table>\n",
       "</div>"
      ],
      "text/plain": [
       "         date  VtyDayRet180d  VtyDayRet60d  VtyDayRet30d\n",
       "0  2009-01-03            0.0           0.0           0.0\n",
       "1  2009-01-04            0.0           0.0           0.0\n",
       "2  2009-01-05            0.0           0.0           0.0\n",
       "3  2009-01-06            0.0           0.0           0.0\n",
       "4  2009-01-07            0.0           0.0           0.0"
      ]
     },
     "execution_count": 11,
     "metadata": {},
     "output_type": "execute_result"
    }
   ],
   "source": [
    "btc_vol.head()"
   ]
  },
  {
   "cell_type": "code",
   "execution_count": 12,
   "metadata": {},
   "outputs": [
    {
     "data": {
      "text/plain": [
       "3.8482203096940633"
      ]
     },
     "execution_count": 12,
     "metadata": {},
     "output_type": "execute_result"
    }
   ],
   "source": [
    "#For readability let's represent volatility as a % \n",
    "btc_vol['volatility_30'] = btc_vol['VtyDayRet30d']*100\n",
    "btc_vol['volatility_60'] = btc_vol['VtyDayRet60d']*100\n",
    "btc_vol['volatility_180'] = btc_vol['VtyDayRet180d']*100\n",
    "\n",
    "avg_vol_30 = stats.mean(btc_vol['volatility_30'])\n",
    "avg_vol_30"
   ]
  },
  {
   "cell_type": "code",
   "execution_count": 13,
   "metadata": {},
   "outputs": [],
   "source": [
    "#had to convert 'date' column to datetime since the 'str' format wasn't beind handled well by 'plt' or 'sns' \n",
    "\n",
    "btc_vol['date'] = pd.to_datetime(btc_vol['date'])"
   ]
  },
  {
   "cell_type": "code",
   "execution_count": 14,
   "metadata": {},
   "outputs": [
    {
     "data": {
      "text/plain": [
       "0   2009-01-03\n",
       "1   2009-01-04\n",
       "2   2009-01-05\n",
       "3   2009-01-06\n",
       "4   2009-01-07\n",
       "Name: date, dtype: datetime64[ns]"
      ]
     },
     "execution_count": 14,
     "metadata": {},
     "output_type": "execute_result"
    }
   ],
   "source": [
    "btc_vol['date'].head()"
   ]
  },
  {
   "cell_type": "code",
   "execution_count": 15,
   "metadata": {},
   "outputs": [
    {
     "name": "stderr",
     "output_type": "stream",
     "text": [
      "/anaconda3/lib/python3.7/site-packages/pandas/plotting/_converter.py:129: FutureWarning: Using an implicitly registered datetime converter for a matplotlib plotting method. The converter was registered by pandas on import. Future versions of pandas will require you to explicitly register matplotlib converters.\n",
      "\n",
      "To register the converters:\n",
      "\t>>> from pandas.plotting import register_matplotlib_converters\n",
      "\t>>> register_matplotlib_converters()\n",
      "  warnings.warn(msg, FutureWarning)\n"
     ]
    },
    {
     "data": {
      "text/plain": [
       "Text(2008-04-01, 19.8, '%')"
      ]
     },
     "execution_count": 15,
     "metadata": {},
     "output_type": "execute_result"
    },
    {
     "data": {
      "image/png": "[encoded data removed]",
      "text/plain": [
       "<Figure size 720x432 with 1 Axes>"
      ]
     },
     "metadata": {
      "needs_background": "light"
     },
     "output_type": "display_data"
    }
   ],
   "source": [
    "#Trying out some pretty formatting for graphs that are going to be published \n",
    "#only graphs that are going to be published have been formatted \n",
    "\n",
    "fig, ax = plt.subplots(figsize = (10,6))    \n",
    "\n",
    "fig = plt.plot(btc_vol['date'], btc_vol['volatility_30'])\n",
    "\n",
    "\n",
    "ax.set_title('Bitcoin 30d Volatility Since Inception')\n",
    "ax.set_xlabel('Date')\n",
    "ax.set_ylabel('Volatility (%)')\n",
    "\n",
    "plt.axhline(avg_vol_30, color='r', linestyle='--', lw=2, label='mean')\n",
    "plt.legend()\n",
    "plt.text('2008-04-01',19.8, '%', size=7)"
   ]
  },
  {
   "cell_type": "code",
   "execution_count": 16,
   "metadata": {},
   "outputs": [
    {
     "data": {
      "image/png": "[encoded data removed]",
      "text/plain": [
       "<Figure size 432x288 with 1 Axes>"
      ]
     },
     "metadata": {
      "needs_background": "light"
     },
     "output_type": "display_data"
    }
   ],
   "source": [
    "#using seaborn now \n",
    "vol_plot_fast = sns.lineplot(x='date', y='volatility_30', data=btc_vol)"
   ]
  },
  {
   "cell_type": "code",
   "execution_count": 17,
   "metadata": {},
   "outputs": [
    {
     "data": {
      "image/png": "[encoded data removed]",
      "text/plain": [
       "<Figure size 432x288 with 1 Axes>"
      ]
     },
     "metadata": {
      "needs_background": "light"
     },
     "output_type": "display_data"
    }
   ],
   "source": [
    "vol_plot_med = sns.lineplot(x='date', y='volatility_60', data=btc_vol)"
   ]
  },
  {
   "cell_type": "code",
   "execution_count": 18,
   "metadata": {},
   "outputs": [
    {
     "data": {
      "image/png": "[encoded data removed]",
      "text/plain": [
       "<Figure size 432x288 with 1 Axes>"
      ]
     },
     "metadata": {
      "needs_background": "light"
     },
     "output_type": "display_data"
    }
   ],
   "source": [
    "#increasing the days smoothes out the value, we shall use 30d vol for the 3 month plots \n",
    "\n",
    "vol_plot_slow = sns.lineplot(x='date', y='volatility_180', data=btc_vol)"
   ]
  },
  {
   "cell_type": "code",
   "execution_count": 19,
   "metadata": {},
   "outputs": [],
   "source": [
    "#might be more useful to zoom in \n",
    "\n",
    "#divide df for period between inception and 1st halving \n",
    "#and from 1st halving to 2nd halving \n",
    "#and finally from 2nd halving to present \n",
    "\n",
    "#creating masks \n",
    "halv_1 = btc_vol[btc_vol['date'] == '2012-11-28']\n",
    "halv_2 = btc_vol[btc_vol['date'] == '2016-07-09']"
   ]
  },
  {
   "cell_type": "code",
   "execution_count": 20,
   "metadata": {},
   "outputs": [],
   "source": [
    "vol_1st_halv = btc_vol[0:halv_1.index[0]+1]\n",
    "vol_2nd_halv = btc_vol[halv_1.index[0]:halv_2.index[0]+1]\n",
    "vol_pre = btc_vol[halv_2.index[0]:-1]"
   ]
  },
  {
   "cell_type": "code",
   "execution_count": 21,
   "metadata": {},
   "outputs": [
    {
     "data": {
      "text/html": [
       "<div>\n",
       "<style scoped>\n",
       "    .dataframe tbody tr th:only-of-type {\n",
       "        vertical-align: middle;\n",
       "    }\n",
       "\n",
       "    .dataframe tbody tr th {\n",
       "        vertical-align: top;\n",
       "    }\n",
       "\n",
       "    .dataframe thead th {\n",
       "        text-align: right;\n",
       "    }\n",
       "</style>\n",
       "<table border=\"1\" class=\"dataframe\">\n",
       "  <thead>\n",
       "    <tr style=\"text-align: right;\">\n",
       "      <th></th>\n",
       "      <th>date</th>\n",
       "      <th>VtyDayRet180d</th>\n",
       "      <th>VtyDayRet60d</th>\n",
       "      <th>VtyDayRet30d</th>\n",
       "      <th>volatility_30</th>\n",
       "      <th>volatility_60</th>\n",
       "      <th>volatility_180</th>\n",
       "    </tr>\n",
       "  </thead>\n",
       "  <tbody>\n",
       "    <tr>\n",
       "      <th>0</th>\n",
       "      <td>2009-01-03</td>\n",
       "      <td>0.0</td>\n",
       "      <td>0.0</td>\n",
       "      <td>0.0</td>\n",
       "      <td>0.0</td>\n",
       "      <td>0.0</td>\n",
       "      <td>0.0</td>\n",
       "    </tr>\n",
       "    <tr>\n",
       "      <th>1</th>\n",
       "      <td>2009-01-04</td>\n",
       "      <td>0.0</td>\n",
       "      <td>0.0</td>\n",
       "      <td>0.0</td>\n",
       "      <td>0.0</td>\n",
       "      <td>0.0</td>\n",
       "      <td>0.0</td>\n",
       "    </tr>\n",
       "    <tr>\n",
       "      <th>2</th>\n",
       "      <td>2009-01-05</td>\n",
       "      <td>0.0</td>\n",
       "      <td>0.0</td>\n",
       "      <td>0.0</td>\n",
       "      <td>0.0</td>\n",
       "      <td>0.0</td>\n",
       "      <td>0.0</td>\n",
       "    </tr>\n",
       "    <tr>\n",
       "      <th>3</th>\n",
       "      <td>2009-01-06</td>\n",
       "      <td>0.0</td>\n",
       "      <td>0.0</td>\n",
       "      <td>0.0</td>\n",
       "      <td>0.0</td>\n",
       "      <td>0.0</td>\n",
       "      <td>0.0</td>\n",
       "    </tr>\n",
       "    <tr>\n",
       "      <th>4</th>\n",
       "      <td>2009-01-07</td>\n",
       "      <td>0.0</td>\n",
       "      <td>0.0</td>\n",
       "      <td>0.0</td>\n",
       "      <td>0.0</td>\n",
       "      <td>0.0</td>\n",
       "      <td>0.0</td>\n",
       "    </tr>\n",
       "  </tbody>\n",
       "</table>\n",
       "</div>"
      ],
      "text/plain": [
       "        date  VtyDayRet180d  VtyDayRet60d  VtyDayRet30d  volatility_30  \\\n",
       "0 2009-01-03            0.0           0.0           0.0            0.0   \n",
       "1 2009-01-04            0.0           0.0           0.0            0.0   \n",
       "2 2009-01-05            0.0           0.0           0.0            0.0   \n",
       "3 2009-01-06            0.0           0.0           0.0            0.0   \n",
       "4 2009-01-07            0.0           0.0           0.0            0.0   \n",
       "\n",
       "   volatility_60  volatility_180  \n",
       "0            0.0             0.0  \n",
       "1            0.0             0.0  \n",
       "2            0.0             0.0  \n",
       "3            0.0             0.0  \n",
       "4            0.0             0.0  "
      ]
     },
     "execution_count": 21,
     "metadata": {},
     "output_type": "execute_result"
    }
   ],
   "source": [
    "vol_1st_halv.head()"
   ]
  },
  {
   "cell_type": "code",
   "execution_count": 22,
   "metadata": {},
   "outputs": [
    {
     "data": {
      "text/html": [
       "<div>\n",
       "<style scoped>\n",
       "    .dataframe tbody tr th:only-of-type {\n",
       "        vertical-align: middle;\n",
       "    }\n",
       "\n",
       "    .dataframe tbody tr th {\n",
       "        vertical-align: top;\n",
       "    }\n",
       "\n",
       "    .dataframe thead th {\n",
       "        text-align: right;\n",
       "    }\n",
       "</style>\n",
       "<table border=\"1\" class=\"dataframe\">\n",
       "  <thead>\n",
       "    <tr style=\"text-align: right;\">\n",
       "      <th></th>\n",
       "      <th>date</th>\n",
       "      <th>VtyDayRet180d</th>\n",
       "      <th>VtyDayRet60d</th>\n",
       "      <th>VtyDayRet30d</th>\n",
       "      <th>volatility_30</th>\n",
       "      <th>volatility_60</th>\n",
       "      <th>volatility_180</th>\n",
       "    </tr>\n",
       "  </thead>\n",
       "  <tbody>\n",
       "    <tr>\n",
       "      <th>1425</th>\n",
       "      <td>2012-11-28</td>\n",
       "      <td>0.043315</td>\n",
       "      <td>0.022061</td>\n",
       "      <td>0.018460</td>\n",
       "      <td>1.845972</td>\n",
       "      <td>2.206062</td>\n",
       "      <td>4.331520</td>\n",
       "    </tr>\n",
       "    <tr>\n",
       "      <th>1426</th>\n",
       "      <td>2012-11-29</td>\n",
       "      <td>0.043314</td>\n",
       "      <td>0.022129</td>\n",
       "      <td>0.018274</td>\n",
       "      <td>1.827415</td>\n",
       "      <td>2.212853</td>\n",
       "      <td>4.331450</td>\n",
       "    </tr>\n",
       "    <tr>\n",
       "      <th>1427</th>\n",
       "      <td>2012-11-30</td>\n",
       "      <td>0.043307</td>\n",
       "      <td>0.022146</td>\n",
       "      <td>0.017831</td>\n",
       "      <td>1.783149</td>\n",
       "      <td>2.214644</td>\n",
       "      <td>4.330732</td>\n",
       "    </tr>\n",
       "    <tr>\n",
       "      <th>1428</th>\n",
       "      <td>2012-12-01</td>\n",
       "      <td>0.043308</td>\n",
       "      <td>0.021721</td>\n",
       "      <td>0.014788</td>\n",
       "      <td>1.478844</td>\n",
       "      <td>2.172120</td>\n",
       "      <td>4.330756</td>\n",
       "    </tr>\n",
       "    <tr>\n",
       "      <th>1429</th>\n",
       "      <td>2012-12-02</td>\n",
       "      <td>0.043272</td>\n",
       "      <td>0.021685</td>\n",
       "      <td>0.014778</td>\n",
       "      <td>1.477826</td>\n",
       "      <td>2.168510</td>\n",
       "      <td>4.327174</td>\n",
       "    </tr>\n",
       "  </tbody>\n",
       "</table>\n",
       "</div>"
      ],
      "text/plain": [
       "           date  VtyDayRet180d  VtyDayRet60d  VtyDayRet30d  volatility_30  \\\n",
       "1425 2012-11-28       0.043315      0.022061      0.018460       1.845972   \n",
       "1426 2012-11-29       0.043314      0.022129      0.018274       1.827415   \n",
       "1427 2012-11-30       0.043307      0.022146      0.017831       1.783149   \n",
       "1428 2012-12-01       0.043308      0.021721      0.014788       1.478844   \n",
       "1429 2012-12-02       0.043272      0.021685      0.014778       1.477826   \n",
       "\n",
       "      volatility_60  volatility_180  \n",
       "1425       2.206062        4.331520  \n",
       "1426       2.212853        4.331450  \n",
       "1427       2.214644        4.330732  \n",
       "1428       2.172120        4.330756  \n",
       "1429       2.168510        4.327174  "
      ]
     },
     "execution_count": 22,
     "metadata": {},
     "output_type": "execute_result"
    }
   ],
   "source": [
    "vol_2nd_halv.head()"
   ]
  },
  {
   "cell_type": "code",
   "execution_count": 23,
   "metadata": {},
   "outputs": [
    {
     "data": {
      "text/html": [
       "<div>\n",
       "<style scoped>\n",
       "    .dataframe tbody tr th:only-of-type {\n",
       "        vertical-align: middle;\n",
       "    }\n",
       "\n",
       "    .dataframe tbody tr th {\n",
       "        vertical-align: top;\n",
       "    }\n",
       "\n",
       "    .dataframe thead th {\n",
       "        text-align: right;\n",
       "    }\n",
       "</style>\n",
       "<table border=\"1\" class=\"dataframe\">\n",
       "  <thead>\n",
       "    <tr style=\"text-align: right;\">\n",
       "      <th></th>\n",
       "      <th>date</th>\n",
       "      <th>VtyDayRet180d</th>\n",
       "      <th>VtyDayRet60d</th>\n",
       "      <th>VtyDayRet30d</th>\n",
       "      <th>volatility_30</th>\n",
       "      <th>volatility_60</th>\n",
       "      <th>volatility_180</th>\n",
       "    </tr>\n",
       "  </thead>\n",
       "  <tbody>\n",
       "    <tr>\n",
       "      <th>2744</th>\n",
       "      <td>2016-07-09</td>\n",
       "      <td>0.031107</td>\n",
       "      <td>0.039965</td>\n",
       "      <td>0.050595</td>\n",
       "      <td>5.059525</td>\n",
       "      <td>3.996530</td>\n",
       "      <td>3.110713</td>\n",
       "    </tr>\n",
       "    <tr>\n",
       "      <th>2745</th>\n",
       "      <td>2016-07-10</td>\n",
       "      <td>0.031079</td>\n",
       "      <td>0.039983</td>\n",
       "      <td>0.050612</td>\n",
       "      <td>5.061166</td>\n",
       "      <td>3.998288</td>\n",
       "      <td>3.107903</td>\n",
       "    </tr>\n",
       "    <tr>\n",
       "      <th>2746</th>\n",
       "      <td>2016-07-11</td>\n",
       "      <td>0.031028</td>\n",
       "      <td>0.039988</td>\n",
       "      <td>0.050061</td>\n",
       "      <td>5.006134</td>\n",
       "      <td>3.998821</td>\n",
       "      <td>3.102815</td>\n",
       "    </tr>\n",
       "    <tr>\n",
       "      <th>2747</th>\n",
       "      <td>2016-07-12</td>\n",
       "      <td>0.031090</td>\n",
       "      <td>0.040106</td>\n",
       "      <td>0.046743</td>\n",
       "      <td>4.674261</td>\n",
       "      <td>4.010640</td>\n",
       "      <td>3.109047</td>\n",
       "    </tr>\n",
       "    <tr>\n",
       "      <th>2748</th>\n",
       "      <td>2016-07-13</td>\n",
       "      <td>0.028782</td>\n",
       "      <td>0.040222</td>\n",
       "      <td>0.045894</td>\n",
       "      <td>4.589399</td>\n",
       "      <td>4.022210</td>\n",
       "      <td>2.878177</td>\n",
       "    </tr>\n",
       "  </tbody>\n",
       "</table>\n",
       "</div>"
      ],
      "text/plain": [
       "           date  VtyDayRet180d  VtyDayRet60d  VtyDayRet30d  volatility_30  \\\n",
       "2744 2016-07-09       0.031107      0.039965      0.050595       5.059525   \n",
       "2745 2016-07-10       0.031079      0.039983      0.050612       5.061166   \n",
       "2746 2016-07-11       0.031028      0.039988      0.050061       5.006134   \n",
       "2747 2016-07-12       0.031090      0.040106      0.046743       4.674261   \n",
       "2748 2016-07-13       0.028782      0.040222      0.045894       4.589399   \n",
       "\n",
       "      volatility_60  volatility_180  \n",
       "2744       3.996530        3.110713  \n",
       "2745       3.998288        3.107903  \n",
       "2746       3.998821        3.102815  \n",
       "2747       4.010640        3.109047  \n",
       "2748       4.022210        2.878177  "
      ]
     },
     "execution_count": 23,
     "metadata": {},
     "output_type": "execute_result"
    }
   ],
   "source": [
    "vol_pre.head()"
   ]
  },
  {
   "cell_type": "code",
   "execution_count": 24,
   "metadata": {
    "scrolled": true
   },
   "outputs": [
    {
     "data": {
      "image/png": "[encoded data removed]",
      "text/plain": [
       "<Figure size 720x360 with 1 Axes>"
      ]
     },
     "metadata": {
      "needs_background": "light"
     },
     "output_type": "display_data"
    }
   ],
   "source": [
    "plt.figure(figsize=(10, 5))\n",
    "vol_halv1_plot = sns.lineplot(x='date', y='VtyDayRet180d', data=vol_1st_halv)"
   ]
  },
  {
   "cell_type": "code",
   "execution_count": 25,
   "metadata": {},
   "outputs": [
    {
     "data": {
      "image/png": "[encoded data removed]",
      "text/plain": [
       "<Figure size 720x360 with 1 Axes>"
      ]
     },
     "metadata": {
      "needs_background": "light"
     },
     "output_type": "display_data"
    }
   ],
   "source": [
    "plt.figure(figsize=(10, 5))\n",
    "vol_halv2_plot = sns.lineplot(x='date', y='VtyDayRet180d', data=vol_2nd_halv)"
   ]
  },
  {
   "cell_type": "code",
   "execution_count": 26,
   "metadata": {},
   "outputs": [
    {
     "data": {
      "image/png": "[encoded data removed]",
      "text/plain": [
       "<Figure size 720x360 with 1 Axes>"
      ]
     },
     "metadata": {
      "needs_background": "light"
     },
     "output_type": "display_data"
    }
   ],
   "source": [
    "plt.figure(figsize=(10, 5))\n",
    "vol_pre_plot = sns.lineplot(x='date', y='VtyDayRet180d', data=vol_pre)"
   ]
  },
  {
   "cell_type": "code",
   "execution_count": 27,
   "metadata": {},
   "outputs": [],
   "source": [
    "#let's further zoom in and analyze volatility 1 month prior and 1 month post 1st halving \n",
    "\n",
    "first_halv_prior_post =  btc_vol[halv_1.index[0]-30:halv_1.index[0]+31]"
   ]
  },
  {
   "cell_type": "code",
   "execution_count": 28,
   "metadata": {
    "scrolled": true
   },
   "outputs": [
    {
     "data": {
      "text/html": [
       "<div>\n",
       "<style scoped>\n",
       "    .dataframe tbody tr th:only-of-type {\n",
       "        vertical-align: middle;\n",
       "    }\n",
       "\n",
       "    .dataframe tbody tr th {\n",
       "        vertical-align: top;\n",
       "    }\n",
       "\n",
       "    .dataframe thead th {\n",
       "        text-align: right;\n",
       "    }\n",
       "</style>\n",
       "<table border=\"1\" class=\"dataframe\">\n",
       "  <thead>\n",
       "    <tr style=\"text-align: right;\">\n",
       "      <th></th>\n",
       "      <th>date</th>\n",
       "      <th>VtyDayRet180d</th>\n",
       "      <th>VtyDayRet60d</th>\n",
       "      <th>VtyDayRet30d</th>\n",
       "      <th>volatility_30</th>\n",
       "      <th>volatility_60</th>\n",
       "      <th>volatility_180</th>\n",
       "    </tr>\n",
       "  </thead>\n",
       "  <tbody>\n",
       "    <tr>\n",
       "      <th>1395</th>\n",
       "      <td>2012-10-29</td>\n",
       "      <td>0.042805</td>\n",
       "      <td>0.022630</td>\n",
       "      <td>0.024427</td>\n",
       "      <td>2.442714</td>\n",
       "      <td>2.262962</td>\n",
       "      <td>4.280458</td>\n",
       "    </tr>\n",
       "    <tr>\n",
       "      <th>1396</th>\n",
       "      <td>2012-10-30</td>\n",
       "      <td>0.042819</td>\n",
       "      <td>0.021382</td>\n",
       "      <td>0.024892</td>\n",
       "      <td>2.489183</td>\n",
       "      <td>2.138179</td>\n",
       "      <td>4.281875</td>\n",
       "    </tr>\n",
       "    <tr>\n",
       "      <th>1397</th>\n",
       "      <td>2012-10-31</td>\n",
       "      <td>0.042842</td>\n",
       "      <td>0.021572</td>\n",
       "      <td>0.025499</td>\n",
       "      <td>2.549897</td>\n",
       "      <td>2.157179</td>\n",
       "      <td>4.284211</td>\n",
       "    </tr>\n",
       "    <tr>\n",
       "      <th>1398</th>\n",
       "      <td>2012-11-01</td>\n",
       "      <td>0.043020</td>\n",
       "      <td>0.022380</td>\n",
       "      <td>0.025830</td>\n",
       "      <td>2.582999</td>\n",
       "      <td>2.238023</td>\n",
       "      <td>4.301981</td>\n",
       "    </tr>\n",
       "    <tr>\n",
       "      <th>1399</th>\n",
       "      <td>2012-11-02</td>\n",
       "      <td>0.043027</td>\n",
       "      <td>0.022152</td>\n",
       "      <td>0.025612</td>\n",
       "      <td>2.561170</td>\n",
       "      <td>2.215200</td>\n",
       "      <td>4.302687</td>\n",
       "    </tr>\n",
       "  </tbody>\n",
       "</table>\n",
       "</div>"
      ],
      "text/plain": [
       "           date  VtyDayRet180d  VtyDayRet60d  VtyDayRet30d  volatility_30  \\\n",
       "1395 2012-10-29       0.042805      0.022630      0.024427       2.442714   \n",
       "1396 2012-10-30       0.042819      0.021382      0.024892       2.489183   \n",
       "1397 2012-10-31       0.042842      0.021572      0.025499       2.549897   \n",
       "1398 2012-11-01       0.043020      0.022380      0.025830       2.582999   \n",
       "1399 2012-11-02       0.043027      0.022152      0.025612       2.561170   \n",
       "\n",
       "      volatility_60  volatility_180  \n",
       "1395       2.262962        4.280458  \n",
       "1396       2.138179        4.281875  \n",
       "1397       2.157179        4.284211  \n",
       "1398       2.238023        4.301981  \n",
       "1399       2.215200        4.302687  "
      ]
     },
     "execution_count": 28,
     "metadata": {},
     "output_type": "execute_result"
    }
   ],
   "source": [
    "#30 days prior and 30 days post 1st halving \n",
    "\n",
    "first_halv_prior_post.head()"
   ]
  },
  {
   "cell_type": "code",
   "execution_count": 29,
   "metadata": {},
   "outputs": [
    {
     "data": {
      "text/plain": [
       "0.02677020575468653"
      ]
     },
     "execution_count": 29,
     "metadata": {},
     "output_type": "execute_result"
    }
   ],
   "source": [
    "max_vol = max(first_halv_prior_post['VtyDayRet30d'])\n",
    "max_vol"
   ]
  },
  {
   "cell_type": "code",
   "execution_count": 30,
   "metadata": {},
   "outputs": [
    {
     "data": {
      "text/html": [
       "<div>\n",
       "<style scoped>\n",
       "    .dataframe tbody tr th:only-of-type {\n",
       "        vertical-align: middle;\n",
       "    }\n",
       "\n",
       "    .dataframe tbody tr th {\n",
       "        vertical-align: top;\n",
       "    }\n",
       "\n",
       "    .dataframe thead th {\n",
       "        text-align: right;\n",
       "    }\n",
       "</style>\n",
       "<table border=\"1\" class=\"dataframe\">\n",
       "  <thead>\n",
       "    <tr style=\"text-align: right;\">\n",
       "      <th></th>\n",
       "      <th>VtyDayRet30d</th>\n",
       "    </tr>\n",
       "  </thead>\n",
       "  <tbody>\n",
       "    <tr>\n",
       "      <th>1419</th>\n",
       "      <td>0.02677</td>\n",
       "    </tr>\n",
       "  </tbody>\n",
       "</table>\n",
       "</div>"
      ],
      "text/plain": [
       "      VtyDayRet30d\n",
       "1419       0.02677"
      ]
     },
     "execution_count": 30,
     "metadata": {},
     "output_type": "execute_result"
    }
   ],
   "source": [
    "#creating mask in order to map index to date of max volatility \n",
    "\n",
    "max_v = first_halv_prior_post[['VtyDayRet30d']][first_halv_prior_post[['VtyDayRet30d']] == max_vol]\n",
    "max_v = max_v.dropna()\n",
    "max_v"
   ]
  },
  {
   "cell_type": "code",
   "execution_count": 31,
   "metadata": {},
   "outputs": [
    {
     "data": {
      "text/plain": [
       "1419"
      ]
     },
     "execution_count": 31,
     "metadata": {},
     "output_type": "execute_result"
    }
   ],
   "source": [
    "max_val_index = max_v.index[0]\n",
    "max_val_index"
   ]
  },
  {
   "cell_type": "code",
   "execution_count": 32,
   "metadata": {},
   "outputs": [
    {
     "data": {
      "text/plain": [
       "Timestamp('2012-11-22 00:00:00')"
      ]
     },
     "execution_count": 32,
     "metadata": {},
     "output_type": "execute_result"
    }
   ],
   "source": [
    "halv1 = first_halv_prior_post[['date', 'VtyDayRet30d']].loc[max_val_index][0]\n",
    "halv1"
   ]
  },
  {
   "cell_type": "code",
   "execution_count": 33,
   "metadata": {},
   "outputs": [],
   "source": [
    "############################################################"
   ]
  },
  {
   "cell_type": "code",
   "execution_count": 34,
   "metadata": {},
   "outputs": [
    {
     "data": {
      "image/png": "[encoded data removed]",
      "text/plain": [
       "<Figure size 1008x432 with 1 Axes>"
      ]
     },
     "metadata": {
      "needs_background": "light"
     },
     "output_type": "display_data"
    }
   ],
   "source": [
    "#red line shows us max volatility for the current period \n",
    "#blue line shows exact date of halving \n",
    "\n",
    "fig, ax = plt.subplots(figsize = (14,6))    \n",
    "fig.autofmt_xdate() \n",
    "\n",
    "plt.axvline(halv1, color='g', linestyle='--', lw=2, label='Period of Max Volatility')\n",
    "plt.axvline('2012-11-28', color='b', linestyle='--', lw=2, label=\"Bitcoin's 1st Halving\")\n",
    "\n",
    " \n",
    "\n",
    "fig = sns.lineplot(x='date', y='volatility_30', data=first_halv_prior_post)\n",
    "\n",
    "ax.set_title('Bitcoin 30d Volatility 1 Month Prior & 1 Month Post Halving', size=14)\n",
    "ax.set_xlabel('Date', size=12)\n",
    "ax.set_ylabel('Volatility (%)', size=12)\n",
    "\n",
    "plt.legend();"
   ]
  },
  {
   "cell_type": "code",
   "execution_count": 35,
   "metadata": {},
   "outputs": [],
   "source": [
    "#repeating the process from above to the data from the 2nd halving \n",
    "\n",
    "first_halv2_prior_post = btc_vol[halv_2.index[0]-30:halv_2.index[0]+31]"
   ]
  },
  {
   "cell_type": "code",
   "execution_count": 36,
   "metadata": {},
   "outputs": [
    {
     "data": {
      "text/html": [
       "<div>\n",
       "<style scoped>\n",
       "    .dataframe tbody tr th:only-of-type {\n",
       "        vertical-align: middle;\n",
       "    }\n",
       "\n",
       "    .dataframe tbody tr th {\n",
       "        vertical-align: top;\n",
       "    }\n",
       "\n",
       "    .dataframe thead th {\n",
       "        text-align: right;\n",
       "    }\n",
       "</style>\n",
       "<table border=\"1\" class=\"dataframe\">\n",
       "  <thead>\n",
       "    <tr style=\"text-align: right;\">\n",
       "      <th></th>\n",
       "      <th>date</th>\n",
       "      <th>VtyDayRet180d</th>\n",
       "      <th>VtyDayRet60d</th>\n",
       "      <th>VtyDayRet30d</th>\n",
       "      <th>volatility_30</th>\n",
       "      <th>volatility_60</th>\n",
       "      <th>volatility_180</th>\n",
       "    </tr>\n",
       "  </thead>\n",
       "  <tbody>\n",
       "    <tr>\n",
       "      <th>2714</th>\n",
       "      <td>2016-06-09</td>\n",
       "      <td>0.025711</td>\n",
       "      <td>0.021720</td>\n",
       "      <td>0.026091</td>\n",
       "      <td>2.609117</td>\n",
       "      <td>2.171965</td>\n",
       "      <td>2.571054</td>\n",
       "    </tr>\n",
       "    <tr>\n",
       "      <th>2715</th>\n",
       "      <td>2016-06-10</td>\n",
       "      <td>0.025709</td>\n",
       "      <td>0.021718</td>\n",
       "      <td>0.026097</td>\n",
       "      <td>2.609670</td>\n",
       "      <td>2.171802</td>\n",
       "      <td>2.570896</td>\n",
       "    </tr>\n",
       "    <tr>\n",
       "      <th>2716</th>\n",
       "      <td>2016-06-11</td>\n",
       "      <td>0.025862</td>\n",
       "      <td>0.022260</td>\n",
       "      <td>0.026853</td>\n",
       "      <td>2.685260</td>\n",
       "      <td>2.225996</td>\n",
       "      <td>2.586163</td>\n",
       "    </tr>\n",
       "    <tr>\n",
       "      <th>2717</th>\n",
       "      <td>2016-06-12</td>\n",
       "      <td>0.026702</td>\n",
       "      <td>0.025423</td>\n",
       "      <td>0.031674</td>\n",
       "      <td>3.167410</td>\n",
       "      <td>2.542343</td>\n",
       "      <td>2.670184</td>\n",
       "    </tr>\n",
       "    <tr>\n",
       "      <th>2718</th>\n",
       "      <td>2016-06-13</td>\n",
       "      <td>0.026868</td>\n",
       "      <td>0.025977</td>\n",
       "      <td>0.032293</td>\n",
       "      <td>3.229311</td>\n",
       "      <td>2.597738</td>\n",
       "      <td>2.686814</td>\n",
       "    </tr>\n",
       "  </tbody>\n",
       "</table>\n",
       "</div>"
      ],
      "text/plain": [
       "           date  VtyDayRet180d  VtyDayRet60d  VtyDayRet30d  volatility_30  \\\n",
       "2714 2016-06-09       0.025711      0.021720      0.026091       2.609117   \n",
       "2715 2016-06-10       0.025709      0.021718      0.026097       2.609670   \n",
       "2716 2016-06-11       0.025862      0.022260      0.026853       2.685260   \n",
       "2717 2016-06-12       0.026702      0.025423      0.031674       3.167410   \n",
       "2718 2016-06-13       0.026868      0.025977      0.032293       3.229311   \n",
       "\n",
       "      volatility_60  volatility_180  \n",
       "2714       2.171965        2.571054  \n",
       "2715       2.171802        2.570896  \n",
       "2716       2.225996        2.586163  \n",
       "2717       2.542343        2.670184  \n",
       "2718       2.597738        2.686814  "
      ]
     },
     "execution_count": 36,
     "metadata": {},
     "output_type": "execute_result"
    }
   ],
   "source": [
    "first_halv2_prior_post.head()"
   ]
  },
  {
   "cell_type": "code",
   "execution_count": 37,
   "metadata": {},
   "outputs": [
    {
     "data": {
      "text/plain": [
       "0.050743380855554084"
      ]
     },
     "execution_count": 37,
     "metadata": {},
     "output_type": "execute_result"
    }
   ],
   "source": [
    "max_vol2 = max(first_halv2_prior_post['VtyDayRet30d'])\n",
    "max_vol2"
   ]
  },
  {
   "cell_type": "code",
   "execution_count": 38,
   "metadata": {},
   "outputs": [
    {
     "data": {
      "text/html": [
       "<div>\n",
       "<style scoped>\n",
       "    .dataframe tbody tr th:only-of-type {\n",
       "        vertical-align: middle;\n",
       "    }\n",
       "\n",
       "    .dataframe tbody tr th {\n",
       "        vertical-align: top;\n",
       "    }\n",
       "\n",
       "    .dataframe thead th {\n",
       "        text-align: right;\n",
       "    }\n",
       "</style>\n",
       "<table border=\"1\" class=\"dataframe\">\n",
       "  <thead>\n",
       "    <tr style=\"text-align: right;\">\n",
       "      <th></th>\n",
       "      <th>VtyDayRet30d</th>\n",
       "    </tr>\n",
       "  </thead>\n",
       "  <tbody>\n",
       "    <tr>\n",
       "      <th>2731</th>\n",
       "      <td>0.050743</td>\n",
       "    </tr>\n",
       "  </tbody>\n",
       "</table>\n",
       "</div>"
      ],
      "text/plain": [
       "      VtyDayRet30d\n",
       "2731      0.050743"
      ]
     },
     "execution_count": 38,
     "metadata": {},
     "output_type": "execute_result"
    }
   ],
   "source": [
    "max_v2 = first_halv2_prior_post[['VtyDayRet30d']][first_halv2_prior_post[['VtyDayRet30d']] == max_vol2]\n",
    "max_v2 = max_v2.dropna()\n",
    "max_v2"
   ]
  },
  {
   "cell_type": "code",
   "execution_count": 39,
   "metadata": {},
   "outputs": [
    {
     "data": {
      "text/plain": [
       "2731"
      ]
     },
     "execution_count": 39,
     "metadata": {},
     "output_type": "execute_result"
    }
   ],
   "source": [
    "max_val2_index = max_v2.index[0]\n",
    "max_val2_index"
   ]
  },
  {
   "cell_type": "code",
   "execution_count": 40,
   "metadata": {},
   "outputs": [
    {
     "data": {
      "text/plain": [
       "Timestamp('2016-06-26 00:00:00')"
      ]
     },
     "execution_count": 40,
     "metadata": {},
     "output_type": "execute_result"
    }
   ],
   "source": [
    "halv2 = first_halv2_prior_post[['date', 'VtyDayRet30d']].loc[max_val2_index][0]\n",
    "halv2"
   ]
  },
  {
   "cell_type": "code",
   "execution_count": 41,
   "metadata": {},
   "outputs": [
    {
     "data": {
      "image/png": "[encoded data removed]",
      "text/plain": [
       "<Figure size 1080x432 with 1 Axes>"
      ]
     },
     "metadata": {
      "needs_background": "light"
     },
     "output_type": "display_data"
    }
   ],
   "source": [
    "#red line shows us max volatility for the current period \n",
    "#blue line shows exact date of halving \n",
    "\n",
    "fig, ax = plt.subplots(figsize = (15,6))    \n",
    "fig.autofmt_xdate() \n",
    "plt.axvline(halv2, color='g', linestyle='--', lw=2)\n",
    "plt.axvline('2016-07-09', color='b', linestyle='--', lw=2)\n",
    "fig = sns.lineplot(x='date', y='VtyDayRet30d', data=first_halv2_prior_post)"
   ]
  },
  {
   "cell_type": "code",
   "execution_count": 42,
   "metadata": {},
   "outputs": [],
   "source": [
    "#since we don't have the data yet for the 3rd halving we compute the last 30 days of btc volatility \n",
    "\n",
    "first_pre_prior_post =  btc_vol[-31:-1]"
   ]
  },
  {
   "cell_type": "code",
   "execution_count": 43,
   "metadata": {},
   "outputs": [
    {
     "data": {
      "text/html": [
       "<div>\n",
       "<style scoped>\n",
       "    .dataframe tbody tr th:only-of-type {\n",
       "        vertical-align: middle;\n",
       "    }\n",
       "\n",
       "    .dataframe tbody tr th {\n",
       "        vertical-align: top;\n",
       "    }\n",
       "\n",
       "    .dataframe thead th {\n",
       "        text-align: right;\n",
       "    }\n",
       "</style>\n",
       "<table border=\"1\" class=\"dataframe\">\n",
       "  <thead>\n",
       "    <tr style=\"text-align: right;\">\n",
       "      <th></th>\n",
       "      <th>date</th>\n",
       "      <th>VtyDayRet180d</th>\n",
       "      <th>VtyDayRet60d</th>\n",
       "      <th>VtyDayRet30d</th>\n",
       "      <th>volatility_30</th>\n",
       "      <th>volatility_60</th>\n",
       "      <th>volatility_180</th>\n",
       "    </tr>\n",
       "  </thead>\n",
       "  <tbody>\n",
       "    <tr>\n",
       "      <th>4102</th>\n",
       "      <td>2020-03-28</td>\n",
       "      <td>0.049850</td>\n",
       "      <td>0.074868</td>\n",
       "      <td>0.102913</td>\n",
       "      <td>10.291341</td>\n",
       "      <td>7.486847</td>\n",
       "      <td>4.984994</td>\n",
       "    </tr>\n",
       "    <tr>\n",
       "      <th>4103</th>\n",
       "      <td>2020-03-29</td>\n",
       "      <td>0.050000</td>\n",
       "      <td>0.075107</td>\n",
       "      <td>0.103190</td>\n",
       "      <td>10.318968</td>\n",
       "      <td>7.510706</td>\n",
       "      <td>5.000035</td>\n",
       "    </tr>\n",
       "    <tr>\n",
       "      <th>4104</th>\n",
       "      <td>2020-03-30</td>\n",
       "      <td>0.050428</td>\n",
       "      <td>0.075996</td>\n",
       "      <td>0.104759</td>\n",
       "      <td>10.475913</td>\n",
       "      <td>7.599609</td>\n",
       "      <td>5.042757</td>\n",
       "    </tr>\n",
       "    <tr>\n",
       "      <th>4105</th>\n",
       "      <td>2020-03-31</td>\n",
       "      <td>0.050420</td>\n",
       "      <td>0.075989</td>\n",
       "      <td>0.104768</td>\n",
       "      <td>10.476812</td>\n",
       "      <td>7.598919</td>\n",
       "      <td>5.042014</td>\n",
       "    </tr>\n",
       "    <tr>\n",
       "      <th>4106</th>\n",
       "      <td>2020-04-01</td>\n",
       "      <td>0.050477</td>\n",
       "      <td>0.076144</td>\n",
       "      <td>0.104622</td>\n",
       "      <td>10.462154</td>\n",
       "      <td>7.614377</td>\n",
       "      <td>5.047725</td>\n",
       "    </tr>\n",
       "  </tbody>\n",
       "</table>\n",
       "</div>"
      ],
      "text/plain": [
       "           date  VtyDayRet180d  VtyDayRet60d  VtyDayRet30d  volatility_30  \\\n",
       "4102 2020-03-28       0.049850      0.074868      0.102913      10.291341   \n",
       "4103 2020-03-29       0.050000      0.075107      0.103190      10.318968   \n",
       "4104 2020-03-30       0.050428      0.075996      0.104759      10.475913   \n",
       "4105 2020-03-31       0.050420      0.075989      0.104768      10.476812   \n",
       "4106 2020-04-01       0.050477      0.076144      0.104622      10.462154   \n",
       "\n",
       "      volatility_60  volatility_180  \n",
       "4102       7.486847        4.984994  \n",
       "4103       7.510706        5.000035  \n",
       "4104       7.599609        5.042757  \n",
       "4105       7.598919        5.042014  \n",
       "4106       7.614377        5.047725  "
      ]
     },
     "execution_count": 43,
     "metadata": {},
     "output_type": "execute_result"
    }
   ],
   "source": [
    "first_pre_prior_post.head()"
   ]
  },
  {
   "cell_type": "code",
   "execution_count": 44,
   "metadata": {},
   "outputs": [
    {
     "data": {
      "text/plain": [
       "0.10550153113606088"
      ]
     },
     "execution_count": 44,
     "metadata": {},
     "output_type": "execute_result"
    }
   ],
   "source": [
    "max_vol3 = max(first_pre_prior_post['VtyDayRet30d'])\n",
    "max_vol3"
   ]
  },
  {
   "cell_type": "code",
   "execution_count": 45,
   "metadata": {},
   "outputs": [
    {
     "data": {
      "text/html": [
       "<div>\n",
       "<style scoped>\n",
       "    .dataframe tbody tr th:only-of-type {\n",
       "        vertical-align: middle;\n",
       "    }\n",
       "\n",
       "    .dataframe tbody tr th {\n",
       "        vertical-align: top;\n",
       "    }\n",
       "\n",
       "    .dataframe thead th {\n",
       "        text-align: right;\n",
       "    }\n",
       "</style>\n",
       "<table border=\"1\" class=\"dataframe\">\n",
       "  <thead>\n",
       "    <tr style=\"text-align: right;\">\n",
       "      <th></th>\n",
       "      <th>VtyDayRet30d</th>\n",
       "    </tr>\n",
       "  </thead>\n",
       "  <tbody>\n",
       "    <tr>\n",
       "      <th>4111</th>\n",
       "      <td>0.105502</td>\n",
       "    </tr>\n",
       "  </tbody>\n",
       "</table>\n",
       "</div>"
      ],
      "text/plain": [
       "      VtyDayRet30d\n",
       "4111      0.105502"
      ]
     },
     "execution_count": 45,
     "metadata": {},
     "output_type": "execute_result"
    }
   ],
   "source": [
    "max_v3 = first_pre_prior_post[['VtyDayRet30d']][first_pre_prior_post[['VtyDayRet30d']] == max_vol3]\n",
    "max_v3 = max_v3.dropna()\n",
    "max_v3"
   ]
  },
  {
   "cell_type": "code",
   "execution_count": 46,
   "metadata": {},
   "outputs": [
    {
     "data": {
      "text/plain": [
       "4111"
      ]
     },
     "execution_count": 46,
     "metadata": {},
     "output_type": "execute_result"
    }
   ],
   "source": [
    "max_val3_index = max_v3.index[0]\n",
    "max_val3_index"
   ]
  },
  {
   "cell_type": "code",
   "execution_count": 47,
   "metadata": {},
   "outputs": [
    {
     "data": {
      "text/plain": [
       "Timestamp('2020-04-06 00:00:00')"
      ]
     },
     "execution_count": 47,
     "metadata": {},
     "output_type": "execute_result"
    }
   ],
   "source": [
    "halv3 = first_pre_prior_post[['date', 'VtyDayRet30d']].loc[max_val3_index][0]\n",
    "halv3"
   ]
  },
  {
   "cell_type": "code",
   "execution_count": 48,
   "metadata": {},
   "outputs": [
    {
     "data": {
      "image/png": "[encoded data removed]",
      "text/plain": [
       "<Figure size 1080x432 with 1 Axes>"
      ]
     },
     "metadata": {
      "needs_background": "light"
     },
     "output_type": "display_data"
    }
   ],
   "source": [
    "fig, ax = plt.subplots(figsize = (15,6))    \n",
    "fig.autofmt_xdate() \n",
    "plt.axvline(halv3, color='g', linestyle='--', lw=2)\n",
    "fig = sns.lineplot(x='date', y='VtyDayRet30d', data=first_pre_prior_post)"
   ]
  },
  {
   "cell_type": "code",
   "execution_count": 49,
   "metadata": {},
   "outputs": [],
   "source": [
    "############################################################################################################\n",
    "############################################################################################################"
   ]
  },
  {
   "cell_type": "code",
   "execution_count": 50,
   "metadata": {},
   "outputs": [],
   "source": [
    "#let's further zoom out and analyze volatility 3 month prior and 3 month post 1st halving \n",
    "\n",
    "first_halv_prior_post =  btc_vol[halv_1.index[0]-90:halv_1.index[0]+91]"
   ]
  },
  {
   "cell_type": "code",
   "execution_count": 51,
   "metadata": {},
   "outputs": [
    {
     "data": {
      "text/html": [
       "<div>\n",
       "<style scoped>\n",
       "    .dataframe tbody tr th:only-of-type {\n",
       "        vertical-align: middle;\n",
       "    }\n",
       "\n",
       "    .dataframe tbody tr th {\n",
       "        vertical-align: top;\n",
       "    }\n",
       "\n",
       "    .dataframe thead th {\n",
       "        text-align: right;\n",
       "    }\n",
       "</style>\n",
       "<table border=\"1\" class=\"dataframe\">\n",
       "  <thead>\n",
       "    <tr style=\"text-align: right;\">\n",
       "      <th></th>\n",
       "      <th>date</th>\n",
       "      <th>VtyDayRet180d</th>\n",
       "      <th>VtyDayRet60d</th>\n",
       "      <th>VtyDayRet30d</th>\n",
       "      <th>volatility_30</th>\n",
       "      <th>volatility_60</th>\n",
       "      <th>volatility_180</th>\n",
       "    </tr>\n",
       "  </thead>\n",
       "  <tbody>\n",
       "    <tr>\n",
       "      <th>1335</th>\n",
       "      <td>2012-08-30</td>\n",
       "      <td>0.043265</td>\n",
       "      <td>0.068484</td>\n",
       "      <td>0.092851</td>\n",
       "      <td>9.285119</td>\n",
       "      <td>6.848359</td>\n",
       "      <td>4.326536</td>\n",
       "    </tr>\n",
       "    <tr>\n",
       "      <th>1336</th>\n",
       "      <td>2012-08-31</td>\n",
       "      <td>0.043434</td>\n",
       "      <td>0.069032</td>\n",
       "      <td>0.093496</td>\n",
       "      <td>9.349574</td>\n",
       "      <td>6.903173</td>\n",
       "      <td>4.343416</td>\n",
       "    </tr>\n",
       "    <tr>\n",
       "      <th>1337</th>\n",
       "      <td>2012-09-01</td>\n",
       "      <td>0.043402</td>\n",
       "      <td>0.068739</td>\n",
       "      <td>0.091733</td>\n",
       "      <td>9.173302</td>\n",
       "      <td>6.873887</td>\n",
       "      <td>4.340169</td>\n",
       "    </tr>\n",
       "    <tr>\n",
       "      <th>1338</th>\n",
       "      <td>2012-09-02</td>\n",
       "      <td>0.043421</td>\n",
       "      <td>0.068763</td>\n",
       "      <td>0.091595</td>\n",
       "      <td>9.159520</td>\n",
       "      <td>6.876322</td>\n",
       "      <td>4.342150</td>\n",
       "    </tr>\n",
       "    <tr>\n",
       "      <th>1339</th>\n",
       "      <td>2012-09-03</td>\n",
       "      <td>0.043444</td>\n",
       "      <td>0.068789</td>\n",
       "      <td>0.091741</td>\n",
       "      <td>9.174081</td>\n",
       "      <td>6.878857</td>\n",
       "      <td>4.344376</td>\n",
       "    </tr>\n",
       "  </tbody>\n",
       "</table>\n",
       "</div>"
      ],
      "text/plain": [
       "           date  VtyDayRet180d  VtyDayRet60d  VtyDayRet30d  volatility_30  \\\n",
       "1335 2012-08-30       0.043265      0.068484      0.092851       9.285119   \n",
       "1336 2012-08-31       0.043434      0.069032      0.093496       9.349574   \n",
       "1337 2012-09-01       0.043402      0.068739      0.091733       9.173302   \n",
       "1338 2012-09-02       0.043421      0.068763      0.091595       9.159520   \n",
       "1339 2012-09-03       0.043444      0.068789      0.091741       9.174081   \n",
       "\n",
       "      volatility_60  volatility_180  \n",
       "1335       6.848359        4.326536  \n",
       "1336       6.903173        4.343416  \n",
       "1337       6.873887        4.340169  \n",
       "1338       6.876322        4.342150  \n",
       "1339       6.878857        4.344376  "
      ]
     },
     "execution_count": 51,
     "metadata": {},
     "output_type": "execute_result"
    }
   ],
   "source": [
    "#90 days prior and 90 days post 1st halving \n",
    "\n",
    "first_halv_prior_post.head()"
   ]
  },
  {
   "cell_type": "code",
   "execution_count": 52,
   "metadata": {},
   "outputs": [
    {
     "data": {
      "text/plain": [
       "0.09349573613845767"
      ]
     },
     "execution_count": 52,
     "metadata": {},
     "output_type": "execute_result"
    }
   ],
   "source": [
    "max_vol = max(first_halv_prior_post['VtyDayRet30d'])\n",
    "max_vol"
   ]
  },
  {
   "cell_type": "code",
   "execution_count": 53,
   "metadata": {},
   "outputs": [
    {
     "data": {
      "text/html": [
       "<div>\n",
       "<style scoped>\n",
       "    .dataframe tbody tr th:only-of-type {\n",
       "        vertical-align: middle;\n",
       "    }\n",
       "\n",
       "    .dataframe tbody tr th {\n",
       "        vertical-align: top;\n",
       "    }\n",
       "\n",
       "    .dataframe thead th {\n",
       "        text-align: right;\n",
       "    }\n",
       "</style>\n",
       "<table border=\"1\" class=\"dataframe\">\n",
       "  <thead>\n",
       "    <tr style=\"text-align: right;\">\n",
       "      <th></th>\n",
       "      <th>VtyDayRet30d</th>\n",
       "    </tr>\n",
       "  </thead>\n",
       "  <tbody>\n",
       "    <tr>\n",
       "      <th>1336</th>\n",
       "      <td>0.093496</td>\n",
       "    </tr>\n",
       "  </tbody>\n",
       "</table>\n",
       "</div>"
      ],
      "text/plain": [
       "      VtyDayRet30d\n",
       "1336      0.093496"
      ]
     },
     "execution_count": 53,
     "metadata": {},
     "output_type": "execute_result"
    }
   ],
   "source": [
    "#creating mask in order to map index to date of max volatility \n",
    "\n",
    "max_v = first_halv_prior_post[['VtyDayRet30d']][first_halv_prior_post[['VtyDayRet30d']] == max_vol]\n",
    "max_v = max_v.dropna()\n",
    "max_v"
   ]
  },
  {
   "cell_type": "code",
   "execution_count": 54,
   "metadata": {},
   "outputs": [
    {
     "data": {
      "text/plain": [
       "1336"
      ]
     },
     "execution_count": 54,
     "metadata": {},
     "output_type": "execute_result"
    }
   ],
   "source": [
    "max_val_index = max_v.index[0]\n",
    "max_val_index"
   ]
  },
  {
   "cell_type": "code",
   "execution_count": 55,
   "metadata": {},
   "outputs": [
    {
     "data": {
      "text/plain": [
       "Timestamp('2012-08-31 00:00:00')"
      ]
     },
     "execution_count": 55,
     "metadata": {},
     "output_type": "execute_result"
    }
   ],
   "source": [
    "halv1 = first_halv_prior_post[['date', 'VtyDayRet30d']].loc[max_val_index][0]\n",
    "halv1"
   ]
  },
  {
   "cell_type": "code",
   "execution_count": 56,
   "metadata": {},
   "outputs": [
    {
     "data": {
      "image/png": "[encoded data removed]",
      "text/plain": [
       "<Figure size 1008x432 with 1 Axes>"
      ]
     },
     "metadata": {
      "needs_background": "light"
     },
     "output_type": "display_data"
    }
   ],
   "source": [
    "#red line shows us max volatility for the current period \n",
    "#blue line shows exact date of halving \n",
    "\n",
    "fig, ax = plt.subplots(figsize = (14,6))    \n",
    "fig.autofmt_xdate() \n",
    "\n",
    "plt.axvline(halv1, color='r', linestyle='--', lw=2, label='Period of Max Volatility')\n",
    "plt.axvline('2012-11-28', color='b', linestyle='--', lw=2, label=\"Bitcoin's 1st Halving\")\n",
    "\n",
    " \n",
    "fig = sns.lineplot(x='date', y='volatility_30', data=first_halv_prior_post)\n",
    "\n",
    "ax.set_title(\"Bitcoin's 30d Volatility 3 Months Prior & 3 Months Post 1st Halving\", size=14)\n",
    "ax.set_xlabel('Date', size=12)\n",
    "ax.set_ylabel('Volatility (%)', size=12)\n",
    "\n",
    "plt.legend();"
   ]
  },
  {
   "cell_type": "code",
   "execution_count": 57,
   "metadata": {},
   "outputs": [],
   "source": [
    "#repeating the process from above to the data from the 2nd halving \n",
    "\n",
    "first_halv2_prior_post = btc_vol[halv_2.index[0]-90:halv_2.index[0]+91]"
   ]
  },
  {
   "cell_type": "code",
   "execution_count": 58,
   "metadata": {},
   "outputs": [
    {
     "data": {
      "text/html": [
       "<div>\n",
       "<style scoped>\n",
       "    .dataframe tbody tr th:only-of-type {\n",
       "        vertical-align: middle;\n",
       "    }\n",
       "\n",
       "    .dataframe tbody tr th {\n",
       "        vertical-align: top;\n",
       "    }\n",
       "\n",
       "    .dataframe thead th {\n",
       "        text-align: right;\n",
       "    }\n",
       "</style>\n",
       "<table border=\"1\" class=\"dataframe\">\n",
       "  <thead>\n",
       "    <tr style=\"text-align: right;\">\n",
       "      <th></th>\n",
       "      <th>date</th>\n",
       "      <th>VtyDayRet180d</th>\n",
       "      <th>VtyDayRet60d</th>\n",
       "      <th>VtyDayRet30d</th>\n",
       "      <th>volatility_30</th>\n",
       "      <th>volatility_60</th>\n",
       "      <th>volatility_180</th>\n",
       "    </tr>\n",
       "  </thead>\n",
       "  <tbody>\n",
       "    <tr>\n",
       "      <th>2654</th>\n",
       "      <td>2016-04-10</td>\n",
       "      <td>0.032590</td>\n",
       "      <td>0.015152</td>\n",
       "      <td>0.009364</td>\n",
       "      <td>0.936391</td>\n",
       "      <td>1.515193</td>\n",
       "      <td>3.258970</td>\n",
       "    </tr>\n",
       "    <tr>\n",
       "      <th>2655</th>\n",
       "      <td>2016-04-11</td>\n",
       "      <td>0.032585</td>\n",
       "      <td>0.015135</td>\n",
       "      <td>0.008355</td>\n",
       "      <td>0.835485</td>\n",
       "      <td>1.513492</td>\n",
       "      <td>3.258458</td>\n",
       "    </tr>\n",
       "    <tr>\n",
       "      <th>2656</th>\n",
       "      <td>2016-04-12</td>\n",
       "      <td>0.032588</td>\n",
       "      <td>0.015110</td>\n",
       "      <td>0.008493</td>\n",
       "      <td>0.849323</td>\n",
       "      <td>1.510950</td>\n",
       "      <td>3.258776</td>\n",
       "    </tr>\n",
       "    <tr>\n",
       "      <th>2657</th>\n",
       "      <td>2016-04-13</td>\n",
       "      <td>0.032526</td>\n",
       "      <td>0.014974</td>\n",
       "      <td>0.008500</td>\n",
       "      <td>0.849958</td>\n",
       "      <td>1.497436</td>\n",
       "      <td>3.252554</td>\n",
       "    </tr>\n",
       "    <tr>\n",
       "      <th>2658</th>\n",
       "      <td>2016-04-14</td>\n",
       "      <td>0.032439</td>\n",
       "      <td>0.014017</td>\n",
       "      <td>0.008504</td>\n",
       "      <td>0.850405</td>\n",
       "      <td>1.401670</td>\n",
       "      <td>3.243851</td>\n",
       "    </tr>\n",
       "  </tbody>\n",
       "</table>\n",
       "</div>"
      ],
      "text/plain": [
       "           date  VtyDayRet180d  VtyDayRet60d  VtyDayRet30d  volatility_30  \\\n",
       "2654 2016-04-10       0.032590      0.015152      0.009364       0.936391   \n",
       "2655 2016-04-11       0.032585      0.015135      0.008355       0.835485   \n",
       "2656 2016-04-12       0.032588      0.015110      0.008493       0.849323   \n",
       "2657 2016-04-13       0.032526      0.014974      0.008500       0.849958   \n",
       "2658 2016-04-14       0.032439      0.014017      0.008504       0.850405   \n",
       "\n",
       "      volatility_60  volatility_180  \n",
       "2654       1.515193        3.258970  \n",
       "2655       1.513492        3.258458  \n",
       "2656       1.510950        3.258776  \n",
       "2657       1.497436        3.252554  \n",
       "2658       1.401670        3.243851  "
      ]
     },
     "execution_count": 58,
     "metadata": {},
     "output_type": "execute_result"
    }
   ],
   "source": [
    "first_halv2_prior_post.head()"
   ]
  },
  {
   "cell_type": "code",
   "execution_count": 59,
   "metadata": {},
   "outputs": [
    {
     "data": {
      "text/plain": [
       "0.050743380855554084"
      ]
     },
     "execution_count": 59,
     "metadata": {},
     "output_type": "execute_result"
    }
   ],
   "source": [
    "max_vol2 = max(first_halv2_prior_post['VtyDayRet30d'])\n",
    "max_vol2"
   ]
  },
  {
   "cell_type": "code",
   "execution_count": 60,
   "metadata": {},
   "outputs": [
    {
     "data": {
      "text/html": [
       "<div>\n",
       "<style scoped>\n",
       "    .dataframe tbody tr th:only-of-type {\n",
       "        vertical-align: middle;\n",
       "    }\n",
       "\n",
       "    .dataframe tbody tr th {\n",
       "        vertical-align: top;\n",
       "    }\n",
       "\n",
       "    .dataframe thead th {\n",
       "        text-align: right;\n",
       "    }\n",
       "</style>\n",
       "<table border=\"1\" class=\"dataframe\">\n",
       "  <thead>\n",
       "    <tr style=\"text-align: right;\">\n",
       "      <th></th>\n",
       "      <th>VtyDayRet30d</th>\n",
       "    </tr>\n",
       "  </thead>\n",
       "  <tbody>\n",
       "    <tr>\n",
       "      <th>2731</th>\n",
       "      <td>0.050743</td>\n",
       "    </tr>\n",
       "  </tbody>\n",
       "</table>\n",
       "</div>"
      ],
      "text/plain": [
       "      VtyDayRet30d\n",
       "2731      0.050743"
      ]
     },
     "execution_count": 60,
     "metadata": {},
     "output_type": "execute_result"
    }
   ],
   "source": [
    "max_v2 = first_halv2_prior_post[['VtyDayRet30d']][first_halv2_prior_post[['VtyDayRet30d']] == max_vol2]\n",
    "max_v2 = max_v2.dropna()\n",
    "max_v2"
   ]
  },
  {
   "cell_type": "code",
   "execution_count": 61,
   "metadata": {},
   "outputs": [
    {
     "data": {
      "text/plain": [
       "2731"
      ]
     },
     "execution_count": 61,
     "metadata": {},
     "output_type": "execute_result"
    }
   ],
   "source": [
    "max_val2_index = max_v2.index[0]\n",
    "max_val2_index"
   ]
  },
  {
   "cell_type": "code",
   "execution_count": 62,
   "metadata": {},
   "outputs": [
    {
     "data": {
      "text/plain": [
       "Timestamp('2016-06-26 00:00:00')"
      ]
     },
     "execution_count": 62,
     "metadata": {},
     "output_type": "execute_result"
    }
   ],
   "source": [
    "halv2 = first_halv2_prior_post[['date', 'VtyDayRet30d']].loc[max_val2_index][0]\n",
    "halv2"
   ]
  },
  {
   "cell_type": "code",
   "execution_count": 63,
   "metadata": {},
   "outputs": [
    {
     "data": {
      "image/png": "[encoded data removed]",
      "text/plain": [
       "<Figure size 1008x432 with 1 Axes>"
      ]
     },
     "metadata": {
      "needs_background": "light"
     },
     "output_type": "display_data"
    }
   ],
   "source": [
    "#red line shows us max volatility for the current period \n",
    "#blue line shows exact date of halving \n",
    "\n",
    "fig, ax = plt.subplots(figsize = (14,6))    \n",
    "fig.autofmt_xdate() \n",
    "\n",
    "plt.axvline(halv2, color='r', linestyle='--', lw=2, label='Period of Max Volatility')\n",
    "plt.axvline('2016-07-09', color='b', linestyle='--', lw=2, label=\"Bitcoin's 2nd Halving\")\n",
    "\n",
    " \n",
    "fig = sns.lineplot(x='date', y='volatility_30', data=first_halv2_prior_post)\n",
    "\n",
    "ax.set_title(\"Bitcoin's 30d Volatility 3 Months Prior & 3 Months Post 2nd Halving\", size=14)\n",
    "ax.set_xlabel('Date', size=12)\n",
    "ax.set_ylabel('Volatility (%)', size=12)\n",
    "\n",
    "plt.legend();"
   ]
  },
  {
   "cell_type": "code",
   "execution_count": 64,
   "metadata": {},
   "outputs": [],
   "source": [
    "#since we don't have the data yet for the 3rd halving we compute the last 90 days of btc volatility \n",
    "\n",
    "first_pre_prior_post =  btc_vol[-91:-1]"
   ]
  },
  {
   "cell_type": "code",
   "execution_count": 65,
   "metadata": {},
   "outputs": [
    {
     "data": {
      "text/html": [
       "<div>\n",
       "<style scoped>\n",
       "    .dataframe tbody tr th:only-of-type {\n",
       "        vertical-align: middle;\n",
       "    }\n",
       "\n",
       "    .dataframe tbody tr th {\n",
       "        vertical-align: top;\n",
       "    }\n",
       "\n",
       "    .dataframe thead th {\n",
       "        text-align: right;\n",
       "    }\n",
       "</style>\n",
       "<table border=\"1\" class=\"dataframe\">\n",
       "  <thead>\n",
       "    <tr style=\"text-align: right;\">\n",
       "      <th></th>\n",
       "      <th>date</th>\n",
       "      <th>VtyDayRet180d</th>\n",
       "      <th>VtyDayRet60d</th>\n",
       "      <th>VtyDayRet30d</th>\n",
       "      <th>volatility_30</th>\n",
       "      <th>volatility_60</th>\n",
       "      <th>volatility_180</th>\n",
       "    </tr>\n",
       "  </thead>\n",
       "  <tbody>\n",
       "    <tr>\n",
       "      <th>4042</th>\n",
       "      <td>2020-01-28</td>\n",
       "      <td>0.031006</td>\n",
       "      <td>0.027723</td>\n",
       "      <td>0.029137</td>\n",
       "      <td>2.913669</td>\n",
       "      <td>2.772251</td>\n",
       "      <td>3.100551</td>\n",
       "    </tr>\n",
       "    <tr>\n",
       "      <th>4043</th>\n",
       "      <td>2020-01-29</td>\n",
       "      <td>0.030991</td>\n",
       "      <td>0.027478</td>\n",
       "      <td>0.028616</td>\n",
       "      <td>2.861618</td>\n",
       "      <td>2.747759</td>\n",
       "      <td>3.099069</td>\n",
       "    </tr>\n",
       "    <tr>\n",
       "      <th>4044</th>\n",
       "      <td>2020-01-30</td>\n",
       "      <td>0.030967</td>\n",
       "      <td>0.027414</td>\n",
       "      <td>0.028517</td>\n",
       "      <td>2.851735</td>\n",
       "      <td>2.741447</td>\n",
       "      <td>3.096710</td>\n",
       "    </tr>\n",
       "    <tr>\n",
       "      <th>4045</th>\n",
       "      <td>2020-01-31</td>\n",
       "      <td>0.030962</td>\n",
       "      <td>0.027445</td>\n",
       "      <td>0.028854</td>\n",
       "      <td>2.885428</td>\n",
       "      <td>2.744464</td>\n",
       "      <td>3.096219</td>\n",
       "    </tr>\n",
       "    <tr>\n",
       "      <th>4046</th>\n",
       "      <td>2020-02-01</td>\n",
       "      <td>0.030497</td>\n",
       "      <td>0.027435</td>\n",
       "      <td>0.027853</td>\n",
       "      <td>2.785270</td>\n",
       "      <td>2.743511</td>\n",
       "      <td>3.049658</td>\n",
       "    </tr>\n",
       "  </tbody>\n",
       "</table>\n",
       "</div>"
      ],
      "text/plain": [
       "           date  VtyDayRet180d  VtyDayRet60d  VtyDayRet30d  volatility_30  \\\n",
       "4042 2020-01-28       0.031006      0.027723      0.029137       2.913669   \n",
       "4043 2020-01-29       0.030991      0.027478      0.028616       2.861618   \n",
       "4044 2020-01-30       0.030967      0.027414      0.028517       2.851735   \n",
       "4045 2020-01-31       0.030962      0.027445      0.028854       2.885428   \n",
       "4046 2020-02-01       0.030497      0.027435      0.027853       2.785270   \n",
       "\n",
       "      volatility_60  volatility_180  \n",
       "4042       2.772251        3.100551  \n",
       "4043       2.747759        3.099069  \n",
       "4044       2.741447        3.096710  \n",
       "4045       2.744464        3.096219  \n",
       "4046       2.743511        3.049658  "
      ]
     },
     "execution_count": 65,
     "metadata": {},
     "output_type": "execute_result"
    }
   ],
   "source": [
    "first_pre_prior_post.head()"
   ]
  },
  {
   "cell_type": "code",
   "execution_count": 66,
   "metadata": {},
   "outputs": [
    {
     "data": {
      "text/plain": [
       "0.10550153113606088"
      ]
     },
     "execution_count": 66,
     "metadata": {},
     "output_type": "execute_result"
    }
   ],
   "source": [
    "max_vol3 = max(first_pre_prior_post['VtyDayRet30d'])\n",
    "max_vol3"
   ]
  },
  {
   "cell_type": "code",
   "execution_count": 67,
   "metadata": {},
   "outputs": [
    {
     "data": {
      "text/html": [
       "<div>\n",
       "<style scoped>\n",
       "    .dataframe tbody tr th:only-of-type {\n",
       "        vertical-align: middle;\n",
       "    }\n",
       "\n",
       "    .dataframe tbody tr th {\n",
       "        vertical-align: top;\n",
       "    }\n",
       "\n",
       "    .dataframe thead th {\n",
       "        text-align: right;\n",
       "    }\n",
       "</style>\n",
       "<table border=\"1\" class=\"dataframe\">\n",
       "  <thead>\n",
       "    <tr style=\"text-align: right;\">\n",
       "      <th></th>\n",
       "      <th>VtyDayRet30d</th>\n",
       "    </tr>\n",
       "  </thead>\n",
       "  <tbody>\n",
       "    <tr>\n",
       "      <th>4111</th>\n",
       "      <td>0.105502</td>\n",
       "    </tr>\n",
       "  </tbody>\n",
       "</table>\n",
       "</div>"
      ],
      "text/plain": [
       "      VtyDayRet30d\n",
       "4111      0.105502"
      ]
     },
     "execution_count": 67,
     "metadata": {},
     "output_type": "execute_result"
    }
   ],
   "source": [
    "max_v3 = first_pre_prior_post[['VtyDayRet30d']][first_pre_prior_post[['VtyDayRet30d']] == max_vol3]\n",
    "max_v3 = max_v3.dropna()\n",
    "max_v3"
   ]
  },
  {
   "cell_type": "code",
   "execution_count": 68,
   "metadata": {},
   "outputs": [
    {
     "data": {
      "text/plain": [
       "4111"
      ]
     },
     "execution_count": 68,
     "metadata": {},
     "output_type": "execute_result"
    }
   ],
   "source": [
    "max_val3_index = max_v3.index[0]\n",
    "max_val3_index"
   ]
  },
  {
   "cell_type": "code",
   "execution_count": 69,
   "metadata": {},
   "outputs": [
    {
     "data": {
      "text/plain": [
       "Timestamp('2020-04-06 00:00:00')"
      ]
     },
     "execution_count": 69,
     "metadata": {},
     "output_type": "execute_result"
    }
   ],
   "source": [
    "halv3 = first_pre_prior_post[['date', 'VtyDayRet30d']].loc[max_val3_index][0]\n",
    "halv3"
   ]
  },
  {
   "cell_type": "code",
   "execution_count": 70,
   "metadata": {},
   "outputs": [
    {
     "data": {
      "image/png": "[encoded data removed]",
      "text/plain": [
       "<Figure size 1008x432 with 1 Axes>"
      ]
     },
     "metadata": {
      "needs_background": "light"
     },
     "output_type": "display_data"
    }
   ],
   "source": [
    "#red line shows us max volatility for the current period \n",
    "#blue line shows exact date of halving \n",
    "\n",
    "fig, ax = plt.subplots(figsize = (14,6))    \n",
    "fig.autofmt_xdate() \n",
    "\n",
    "plt.axvline(halv3, color='r', linestyle='--', lw=2, label='Period of Max Volatility')\n",
    "\n",
    " \n",
    "fig = sns.lineplot(x='date', y='volatility_30', data=first_pre_prior_post)\n",
    "\n",
    "ax.set_title(\"Bitcoin's 30d Volatility in the Last 3 Months\", size=14)\n",
    "ax.set_xlabel('Date', size=12)\n",
    "ax.set_ylabel('Volatility (%)', size=12)\n",
    "\n",
    "plt.legend();"
   ]
  },
  {
   "cell_type": "code",
   "execution_count": 71,
   "metadata": {},
   "outputs": [],
   "source": [
    "############################################################################################################\n",
    "############################################################################################################"
   ]
  },
  {
   "cell_type": "code",
   "execution_count": 72,
   "metadata": {},
   "outputs": [],
   "source": [
    "#now let's analyze other hardforked coins: LTC, BCH, BSV, "
   ]
  },
  {
   "cell_type": "code",
   "execution_count": 73,
   "metadata": {},
   "outputs": [],
   "source": [
    "ltc = pd.read_csv('ltc_april.csv')"
   ]
  },
  {
   "cell_type": "code",
   "execution_count": 74,
   "metadata": {},
   "outputs": [
    {
     "data": {
      "text/html": [
       "<div>\n",
       "<style scoped>\n",
       "    .dataframe tbody tr th:only-of-type {\n",
       "        vertical-align: middle;\n",
       "    }\n",
       "\n",
       "    .dataframe tbody tr th {\n",
       "        vertical-align: top;\n",
       "    }\n",
       "\n",
       "    .dataframe thead th {\n",
       "        text-align: right;\n",
       "    }\n",
       "</style>\n",
       "<table border=\"1\" class=\"dataframe\">\n",
       "  <thead>\n",
       "    <tr style=\"text-align: right;\">\n",
       "      <th></th>\n",
       "      <th>time</th>\n",
       "      <th>AdrActCnt</th>\n",
       "      <th>BlkCnt</th>\n",
       "      <th>BlkSizeByte</th>\n",
       "      <th>BlkSizeMeanByte</th>\n",
       "      <th>CapMVRVCur</th>\n",
       "      <th>CapMrktCurUSD</th>\n",
       "      <th>CapRealUSD</th>\n",
       "      <th>DiffMean</th>\n",
       "      <th>FeeMeanNtv</th>\n",
       "      <th>FeeMeanUSD</th>\n",
       "      <th>FeeMedNtv</th>\n",
       "      <th>FeeMedUSD</th>\n",
       "      <th>FeeTotNtv</th>\n",
       "      <th>FeeTotUSD</th>\n",
       "      <th>HashRate</th>\n",
       "      <th>IssContNtv</th>\n",
       "      <th>IssContPctAnn</th>\n",
       "      <th>IssContUSD</th>\n",
       "      <th>IssTotNtv</th>\n",
       "      <th>IssTotUSD</th>\n",
       "      <th>NVTAdj</th>\n",
       "      <th>NVTAdj90</th>\n",
       "      <th>PriceBTC</th>\n",
       "      <th>PriceUSD</th>\n",
       "      <th>ROI1yr</th>\n",
       "      <th>ROI30d</th>\n",
       "      <th>SplyCur</th>\n",
       "      <th>TxCnt</th>\n",
       "      <th>TxTfrCnt</th>\n",
       "      <th>TxTfrValAdjNtv</th>\n",
       "      <th>TxTfrValAdjUSD</th>\n",
       "      <th>TxTfrValMeanNtv</th>\n",
       "      <th>TxTfrValMeanUSD</th>\n",
       "      <th>TxTfrValMedNtv</th>\n",
       "      <th>TxTfrValMedUSD</th>\n",
       "      <th>TxTfrValNtv</th>\n",
       "      <th>TxTfrValUSD</th>\n",
       "      <th>VtyDayRet180d</th>\n",
       "      <th>VtyDayRet30d</th>\n",
       "      <th>VtyDayRet60d</th>\n",
       "    </tr>\n",
       "  </thead>\n",
       "  <tbody>\n",
       "    <tr>\n",
       "      <th>0</th>\n",
       "      <td>2011-10-07T00:00:00.000Z</td>\n",
       "      <td>0.0</td>\n",
       "      <td>0.0</td>\n",
       "      <td>0.0</td>\n",
       "      <td>NaN</td>\n",
       "      <td>NaN</td>\n",
       "      <td>NaN</td>\n",
       "      <td>0.0</td>\n",
       "      <td>NaN</td>\n",
       "      <td>NaN</td>\n",
       "      <td>NaN</td>\n",
       "      <td>NaN</td>\n",
       "      <td>NaN</td>\n",
       "      <td>0.0</td>\n",
       "      <td>NaN</td>\n",
       "      <td>NaN</td>\n",
       "      <td>NaN</td>\n",
       "      <td>NaN</td>\n",
       "      <td>NaN</td>\n",
       "      <td>NaN</td>\n",
       "      <td>NaN</td>\n",
       "      <td>NaN</td>\n",
       "      <td>NaN</td>\n",
       "      <td>NaN</td>\n",
       "      <td>NaN</td>\n",
       "      <td>NaN</td>\n",
       "      <td>NaN</td>\n",
       "      <td>0.0</td>\n",
       "      <td>0.0</td>\n",
       "      <td>0.0</td>\n",
       "      <td>0.0</td>\n",
       "      <td>NaN</td>\n",
       "      <td>NaN</td>\n",
       "      <td>NaN</td>\n",
       "      <td>NaN</td>\n",
       "      <td>NaN</td>\n",
       "      <td>NaN</td>\n",
       "      <td>NaN</td>\n",
       "      <td>NaN</td>\n",
       "      <td>NaN</td>\n",
       "      <td>NaN</td>\n",
       "    </tr>\n",
       "  </tbody>\n",
       "</table>\n",
       "</div>"
      ],
      "text/plain": [
       "                       time  AdrActCnt  BlkCnt  BlkSizeByte  BlkSizeMeanByte  \\\n",
       "0  2011-10-07T00:00:00.000Z        0.0     0.0          0.0              NaN   \n",
       "\n",
       "   CapMVRVCur  CapMrktCurUSD  CapRealUSD  DiffMean  FeeMeanNtv  FeeMeanUSD  \\\n",
       "0         NaN            NaN         0.0       NaN         NaN         NaN   \n",
       "\n",
       "   FeeMedNtv  FeeMedUSD  FeeTotNtv  FeeTotUSD  HashRate  IssContNtv  \\\n",
       "0        NaN        NaN        0.0        NaN       NaN         NaN   \n",
       "\n",
       "   IssContPctAnn  IssContUSD  IssTotNtv  IssTotUSD  NVTAdj  NVTAdj90  \\\n",
       "0            NaN         NaN        NaN        NaN     NaN       NaN   \n",
       "\n",
       "   PriceBTC  PriceUSD  ROI1yr  ROI30d  SplyCur  TxCnt  TxTfrCnt  \\\n",
       "0       NaN       NaN     NaN     NaN      0.0    0.0       0.0   \n",
       "\n",
       "   TxTfrValAdjNtv  TxTfrValAdjUSD  TxTfrValMeanNtv  TxTfrValMeanUSD  \\\n",
       "0             0.0             NaN              NaN              NaN   \n",
       "\n",
       "   TxTfrValMedNtv  TxTfrValMedUSD  TxTfrValNtv  TxTfrValUSD  VtyDayRet180d  \\\n",
       "0             NaN             NaN          NaN          NaN            NaN   \n",
       "\n",
       "   VtyDayRet30d  VtyDayRet60d  \n",
       "0           NaN           NaN  "
      ]
     },
     "execution_count": 74,
     "metadata": {},
     "output_type": "execute_result"
    }
   ],
   "source": [
    "ltc.head(1)"
   ]
  },
  {
   "cell_type": "code",
   "execution_count": 75,
   "metadata": {},
   "outputs": [],
   "source": [
    "ltc = ltc.rename(columns={'time': 'date'})"
   ]
  },
  {
   "cell_type": "code",
   "execution_count": 76,
   "metadata": {},
   "outputs": [],
   "source": [
    "ltc['date'] = [i[0:10] for i in ltc['date']]"
   ]
  },
  {
   "cell_type": "code",
   "execution_count": 77,
   "metadata": {},
   "outputs": [],
   "source": [
    "ltc['date'] = pd.to_datetime(ltc['date'])"
   ]
  },
  {
   "cell_type": "code",
   "execution_count": 78,
   "metadata": {},
   "outputs": [
    {
     "data": {
      "text/html": [
       "<div>\n",
       "<style scoped>\n",
       "    .dataframe tbody tr th:only-of-type {\n",
       "        vertical-align: middle;\n",
       "    }\n",
       "\n",
       "    .dataframe tbody tr th {\n",
       "        vertical-align: top;\n",
       "    }\n",
       "\n",
       "    .dataframe thead th {\n",
       "        text-align: right;\n",
       "    }\n",
       "</style>\n",
       "<table border=\"1\" class=\"dataframe\">\n",
       "  <thead>\n",
       "    <tr style=\"text-align: right;\">\n",
       "      <th></th>\n",
       "      <th>date</th>\n",
       "      <th>AdrActCnt</th>\n",
       "      <th>BlkCnt</th>\n",
       "      <th>BlkSizeByte</th>\n",
       "      <th>BlkSizeMeanByte</th>\n",
       "      <th>CapMVRVCur</th>\n",
       "      <th>CapMrktCurUSD</th>\n",
       "      <th>CapRealUSD</th>\n",
       "      <th>DiffMean</th>\n",
       "      <th>FeeMeanNtv</th>\n",
       "      <th>FeeMeanUSD</th>\n",
       "      <th>FeeMedNtv</th>\n",
       "      <th>FeeMedUSD</th>\n",
       "      <th>FeeTotNtv</th>\n",
       "      <th>FeeTotUSD</th>\n",
       "      <th>HashRate</th>\n",
       "      <th>IssContNtv</th>\n",
       "      <th>IssContPctAnn</th>\n",
       "      <th>IssContUSD</th>\n",
       "      <th>IssTotNtv</th>\n",
       "      <th>IssTotUSD</th>\n",
       "      <th>NVTAdj</th>\n",
       "      <th>NVTAdj90</th>\n",
       "      <th>PriceBTC</th>\n",
       "      <th>PriceUSD</th>\n",
       "      <th>ROI1yr</th>\n",
       "      <th>ROI30d</th>\n",
       "      <th>SplyCur</th>\n",
       "      <th>TxCnt</th>\n",
       "      <th>TxTfrCnt</th>\n",
       "      <th>TxTfrValAdjNtv</th>\n",
       "      <th>TxTfrValAdjUSD</th>\n",
       "      <th>TxTfrValMeanNtv</th>\n",
       "      <th>TxTfrValMeanUSD</th>\n",
       "      <th>TxTfrValMedNtv</th>\n",
       "      <th>TxTfrValMedUSD</th>\n",
       "      <th>TxTfrValNtv</th>\n",
       "      <th>TxTfrValUSD</th>\n",
       "      <th>VtyDayRet180d</th>\n",
       "      <th>VtyDayRet30d</th>\n",
       "      <th>VtyDayRet60d</th>\n",
       "    </tr>\n",
       "  </thead>\n",
       "  <tbody>\n",
       "    <tr>\n",
       "      <th>0</th>\n",
       "      <td>2011-10-07</td>\n",
       "      <td>0.0</td>\n",
       "      <td>0.0</td>\n",
       "      <td>0.0</td>\n",
       "      <td>NaN</td>\n",
       "      <td>NaN</td>\n",
       "      <td>NaN</td>\n",
       "      <td>0.0</td>\n",
       "      <td>NaN</td>\n",
       "      <td>NaN</td>\n",
       "      <td>NaN</td>\n",
       "      <td>NaN</td>\n",
       "      <td>NaN</td>\n",
       "      <td>0.0</td>\n",
       "      <td>NaN</td>\n",
       "      <td>NaN</td>\n",
       "      <td>NaN</td>\n",
       "      <td>NaN</td>\n",
       "      <td>NaN</td>\n",
       "      <td>NaN</td>\n",
       "      <td>NaN</td>\n",
       "      <td>NaN</td>\n",
       "      <td>NaN</td>\n",
       "      <td>NaN</td>\n",
       "      <td>NaN</td>\n",
       "      <td>NaN</td>\n",
       "      <td>NaN</td>\n",
       "      <td>0.0</td>\n",
       "      <td>0.0</td>\n",
       "      <td>0.0</td>\n",
       "      <td>0.0</td>\n",
       "      <td>NaN</td>\n",
       "      <td>NaN</td>\n",
       "      <td>NaN</td>\n",
       "      <td>NaN</td>\n",
       "      <td>NaN</td>\n",
       "      <td>NaN</td>\n",
       "      <td>NaN</td>\n",
       "      <td>NaN</td>\n",
       "      <td>NaN</td>\n",
       "      <td>NaN</td>\n",
       "    </tr>\n",
       "  </tbody>\n",
       "</table>\n",
       "</div>"
      ],
      "text/plain": [
       "        date  AdrActCnt  BlkCnt  BlkSizeByte  BlkSizeMeanByte  CapMVRVCur  \\\n",
       "0 2011-10-07        0.0     0.0          0.0              NaN         NaN   \n",
       "\n",
       "   CapMrktCurUSD  CapRealUSD  DiffMean  FeeMeanNtv  FeeMeanUSD  FeeMedNtv  \\\n",
       "0            NaN         0.0       NaN         NaN         NaN        NaN   \n",
       "\n",
       "   FeeMedUSD  FeeTotNtv  FeeTotUSD  HashRate  IssContNtv  IssContPctAnn  \\\n",
       "0        NaN        0.0        NaN       NaN         NaN            NaN   \n",
       "\n",
       "   IssContUSD  IssTotNtv  IssTotUSD  NVTAdj  NVTAdj90  PriceBTC  PriceUSD  \\\n",
       "0         NaN        NaN        NaN     NaN       NaN       NaN       NaN   \n",
       "\n",
       "   ROI1yr  ROI30d  SplyCur  TxCnt  TxTfrCnt  TxTfrValAdjNtv  TxTfrValAdjUSD  \\\n",
       "0     NaN     NaN      0.0    0.0       0.0             0.0             NaN   \n",
       "\n",
       "   TxTfrValMeanNtv  TxTfrValMeanUSD  TxTfrValMedNtv  TxTfrValMedUSD  \\\n",
       "0              NaN              NaN             NaN             NaN   \n",
       "\n",
       "   TxTfrValNtv  TxTfrValUSD  VtyDayRet180d  VtyDayRet30d  VtyDayRet60d  \n",
       "0          NaN          NaN            NaN           NaN           NaN  "
      ]
     },
     "execution_count": 78,
     "metadata": {},
     "output_type": "execute_result"
    }
   ],
   "source": [
    "ltc.head(1)"
   ]
  },
  {
   "cell_type": "code",
   "execution_count": 79,
   "metadata": {},
   "outputs": [
    {
     "data": {
      "text/html": [
       "<div>\n",
       "<style scoped>\n",
       "    .dataframe tbody tr th:only-of-type {\n",
       "        vertical-align: middle;\n",
       "    }\n",
       "\n",
       "    .dataframe tbody tr th {\n",
       "        vertical-align: top;\n",
       "    }\n",
       "\n",
       "    .dataframe thead th {\n",
       "        text-align: right;\n",
       "    }\n",
       "</style>\n",
       "<table border=\"1\" class=\"dataframe\">\n",
       "  <thead>\n",
       "    <tr style=\"text-align: right;\">\n",
       "      <th></th>\n",
       "      <th>date</th>\n",
       "      <th>BlkCnt</th>\n",
       "      <th>IssContNtv</th>\n",
       "    </tr>\n",
       "  </thead>\n",
       "  <tbody>\n",
       "    <tr>\n",
       "      <th>0</th>\n",
       "      <td>2011-10-07</td>\n",
       "      <td>0.0</td>\n",
       "      <td>NaN</td>\n",
       "    </tr>\n",
       "  </tbody>\n",
       "</table>\n",
       "</div>"
      ],
      "text/plain": [
       "        date  BlkCnt  IssContNtv\n",
       "0 2011-10-07     0.0         NaN"
      ]
     },
     "execution_count": 79,
     "metadata": {},
     "output_type": "execute_result"
    }
   ],
   "source": [
    "#confirm halving dates \n",
    "ltc[['date', 'BlkCnt', 'IssContNtv']].head(1)"
   ]
  },
  {
   "cell_type": "code",
   "execution_count": 80,
   "metadata": {},
   "outputs": [],
   "source": [
    "#we are only interested in btc volatility \n",
    "\n",
    "ltc_vol = ltc[['date', 'VtyDayRet180d', 'VtyDayRet60d', 'VtyDayRet30d']]"
   ]
  },
  {
   "cell_type": "code",
   "execution_count": 81,
   "metadata": {},
   "outputs": [
    {
     "data": {
      "text/plain": [
       "date             0\n",
       "VtyDayRet180d    0\n",
       "VtyDayRet60d     0\n",
       "VtyDayRet30d     0\n",
       "dtype: int64"
      ]
     },
     "execution_count": 81,
     "metadata": {},
     "output_type": "execute_result"
    }
   ],
   "source": [
    "#checking for NaNs \n",
    "ltc_vol = ltc_vol.fillna(0)\n",
    "ltc_vol.isna().sum()"
   ]
  },
  {
   "cell_type": "code",
   "execution_count": 82,
   "metadata": {},
   "outputs": [],
   "source": [
    "#For readability let's represent volatility as a % \n",
    "ltc_vol['volatility_30'] = ltc_vol['VtyDayRet30d']*100\n",
    "ltc_vol['volatility_60'] = ltc_vol['VtyDayRet60d']*100\n",
    "ltc_vol['volatility_180'] = ltc_vol['VtyDayRet180d']*100"
   ]
  },
  {
   "cell_type": "code",
   "execution_count": 83,
   "metadata": {},
   "outputs": [
    {
     "data": {
      "text/plain": [
       "pandas._libs.tslibs.timestamps.Timestamp"
      ]
     },
     "execution_count": 83,
     "metadata": {},
     "output_type": "execute_result"
    }
   ],
   "source": [
    "type(ltc_vol['date'][0])"
   ]
  },
  {
   "cell_type": "code",
   "execution_count": 84,
   "metadata": {},
   "outputs": [],
   "source": [
    "#might be more useful to zoom in \n",
    "\n",
    "#divide df for period between inception and 1st halving \n",
    "#and from 1st halving to 2nd halving \n",
    "#and finally from 2nd halving to preent \n",
    "\n",
    "#creating masks \n",
    "ltc_halv_1 = ltc_vol[ltc_vol['date'] == '2015-08-25']\n",
    "ltc_halv_2 = ltc_vol[ltc_vol['date'] == '2019-08-05'] "
   ]
  },
  {
   "cell_type": "code",
   "execution_count": 85,
   "metadata": {},
   "outputs": [],
   "source": [
    "vol_1st_halv = ltc_vol[0:ltc_halv_1.index[0]+1]\n",
    "vol_2nd_halv = ltc_vol[ltc_halv_1.index[0]:ltc_halv_2.index[0]+1]\n",
    "vol_pre = ltc_vol[ltc_halv_2.index[0]:-1]"
   ]
  },
  {
   "cell_type": "code",
   "execution_count": 86,
   "metadata": {},
   "outputs": [],
   "source": [
    "#let's further zoom in and analyze volatility 1 month prior and 1 month post 1st halving \n",
    "\n",
    "first_halv_prior_post =  ltc_vol[ltc_halv_1.index[0]-30:ltc_halv_1.index[0]+31]"
   ]
  },
  {
   "cell_type": "code",
   "execution_count": 87,
   "metadata": {},
   "outputs": [
    {
     "data": {
      "text/html": [
       "<div>\n",
       "<style scoped>\n",
       "    .dataframe tbody tr th:only-of-type {\n",
       "        vertical-align: middle;\n",
       "    }\n",
       "\n",
       "    .dataframe tbody tr th {\n",
       "        vertical-align: top;\n",
       "    }\n",
       "\n",
       "    .dataframe thead th {\n",
       "        text-align: right;\n",
       "    }\n",
       "</style>\n",
       "<table border=\"1\" class=\"dataframe\">\n",
       "  <thead>\n",
       "    <tr style=\"text-align: right;\">\n",
       "      <th></th>\n",
       "      <th>date</th>\n",
       "      <th>VtyDayRet180d</th>\n",
       "      <th>VtyDayRet60d</th>\n",
       "      <th>VtyDayRet30d</th>\n",
       "      <th>volatility_30</th>\n",
       "      <th>volatility_60</th>\n",
       "      <th>volatility_180</th>\n",
       "    </tr>\n",
       "  </thead>\n",
       "  <tbody>\n",
       "    <tr>\n",
       "      <th>1388</th>\n",
       "      <td>2015-07-26</td>\n",
       "      <td>0.070941</td>\n",
       "      <td>0.113684</td>\n",
       "      <td>0.144803</td>\n",
       "      <td>14.480285</td>\n",
       "      <td>11.368395</td>\n",
       "      <td>7.094061</td>\n",
       "    </tr>\n",
       "    <tr>\n",
       "      <th>1389</th>\n",
       "      <td>2015-07-27</td>\n",
       "      <td>0.070447</td>\n",
       "      <td>0.113659</td>\n",
       "      <td>0.144268</td>\n",
       "      <td>14.426832</td>\n",
       "      <td>11.365899</td>\n",
       "      <td>7.044701</td>\n",
       "    </tr>\n",
       "    <tr>\n",
       "      <th>1390</th>\n",
       "      <td>2015-07-28</td>\n",
       "      <td>0.070701</td>\n",
       "      <td>0.114000</td>\n",
       "      <td>0.144809</td>\n",
       "      <td>14.480893</td>\n",
       "      <td>11.399988</td>\n",
       "      <td>7.070113</td>\n",
       "    </tr>\n",
       "    <tr>\n",
       "      <th>1391</th>\n",
       "      <td>2015-07-29</td>\n",
       "      <td>0.070848</td>\n",
       "      <td>0.114286</td>\n",
       "      <td>0.141531</td>\n",
       "      <td>14.153053</td>\n",
       "      <td>11.428552</td>\n",
       "      <td>7.084783</td>\n",
       "    </tr>\n",
       "    <tr>\n",
       "      <th>1392</th>\n",
       "      <td>2015-07-30</td>\n",
       "      <td>0.070921</td>\n",
       "      <td>0.113787</td>\n",
       "      <td>0.140874</td>\n",
       "      <td>14.087365</td>\n",
       "      <td>11.378678</td>\n",
       "      <td>7.092150</td>\n",
       "    </tr>\n",
       "  </tbody>\n",
       "</table>\n",
       "</div>"
      ],
      "text/plain": [
       "           date  VtyDayRet180d  VtyDayRet60d  VtyDayRet30d  volatility_30  \\\n",
       "1388 2015-07-26       0.070941      0.113684      0.144803      14.480285   \n",
       "1389 2015-07-27       0.070447      0.113659      0.144268      14.426832   \n",
       "1390 2015-07-28       0.070701      0.114000      0.144809      14.480893   \n",
       "1391 2015-07-29       0.070848      0.114286      0.141531      14.153053   \n",
       "1392 2015-07-30       0.070921      0.113787      0.140874      14.087365   \n",
       "\n",
       "      volatility_60  volatility_180  \n",
       "1388      11.368395        7.094061  \n",
       "1389      11.365899        7.044701  \n",
       "1390      11.399988        7.070113  \n",
       "1391      11.428552        7.084783  \n",
       "1392      11.378678        7.092150  "
      ]
     },
     "execution_count": 87,
     "metadata": {},
     "output_type": "execute_result"
    }
   ],
   "source": [
    "#30 days prior and 30 days post 1st halving \n",
    "\n",
    "first_halv_prior_post.head()"
   ]
  },
  {
   "cell_type": "code",
   "execution_count": 88,
   "metadata": {},
   "outputs": [
    {
     "data": {
      "text/plain": [
       "0.14480892693875688"
      ]
     },
     "execution_count": 88,
     "metadata": {},
     "output_type": "execute_result"
    }
   ],
   "source": [
    "max_vol = max(first_halv_prior_post['VtyDayRet30d'])\n",
    "max_vol"
   ]
  },
  {
   "cell_type": "code",
   "execution_count": 89,
   "metadata": {},
   "outputs": [
    {
     "data": {
      "text/html": [
       "<div>\n",
       "<style scoped>\n",
       "    .dataframe tbody tr th:only-of-type {\n",
       "        vertical-align: middle;\n",
       "    }\n",
       "\n",
       "    .dataframe tbody tr th {\n",
       "        vertical-align: top;\n",
       "    }\n",
       "\n",
       "    .dataframe thead th {\n",
       "        text-align: right;\n",
       "    }\n",
       "</style>\n",
       "<table border=\"1\" class=\"dataframe\">\n",
       "  <thead>\n",
       "    <tr style=\"text-align: right;\">\n",
       "      <th></th>\n",
       "      <th>VtyDayRet30d</th>\n",
       "    </tr>\n",
       "  </thead>\n",
       "  <tbody>\n",
       "    <tr>\n",
       "      <th>1390</th>\n",
       "      <td>0.144809</td>\n",
       "    </tr>\n",
       "  </tbody>\n",
       "</table>\n",
       "</div>"
      ],
      "text/plain": [
       "      VtyDayRet30d\n",
       "1390      0.144809"
      ]
     },
     "execution_count": 89,
     "metadata": {},
     "output_type": "execute_result"
    }
   ],
   "source": [
    "#creating mask in order to map index to date of max volatility \n",
    "\n",
    "max_v = first_halv_prior_post[['VtyDayRet30d']][first_halv_prior_post[['VtyDayRet30d']] == max_vol]\n",
    "max_v = max_v.dropna()\n",
    "max_v"
   ]
  },
  {
   "cell_type": "code",
   "execution_count": 90,
   "metadata": {},
   "outputs": [
    {
     "data": {
      "text/plain": [
       "1390"
      ]
     },
     "execution_count": 90,
     "metadata": {},
     "output_type": "execute_result"
    }
   ],
   "source": [
    "max_val_index = max_v.index[0]\n",
    "max_val_index"
   ]
  },
  {
   "cell_type": "code",
   "execution_count": 91,
   "metadata": {},
   "outputs": [
    {
     "data": {
      "text/plain": [
       "Timestamp('2015-07-28 00:00:00')"
      ]
     },
     "execution_count": 91,
     "metadata": {},
     "output_type": "execute_result"
    }
   ],
   "source": [
    "halv1 = first_halv_prior_post[['date', 'VtyDayRet30d']].loc[max_val_index][0]\n",
    "halv1"
   ]
  },
  {
   "cell_type": "code",
   "execution_count": 92,
   "metadata": {},
   "outputs": [
    {
     "data": {
      "image/png": "[encoded data removed]",
      "text/plain": [
       "<Figure size 1080x432 with 1 Axes>"
      ]
     },
     "metadata": {
      "needs_background": "light"
     },
     "output_type": "display_data"
    }
   ],
   "source": [
    "#red line shows us max volatility for the current period \n",
    "#blue line shows exact date of halving \n",
    "\n",
    "fig, ax = plt.subplots(figsize = (15,6))    \n",
    "fig.autofmt_xdate() \n",
    "plt.axvline(halv1, color='g', linestyle='--', lw=2)\n",
    "plt.axvline('2015-08-25', color='b', linestyle='--', lw=2)\n",
    "fig = sns.lineplot(x='date', y='VtyDayRet30d', data=first_halv_prior_post)"
   ]
  },
  {
   "cell_type": "code",
   "execution_count": 93,
   "metadata": {},
   "outputs": [],
   "source": [
    "#repeating the process from above to the data from the 2nd halving \n",
    "\n",
    "first_halv2_prior_post = ltc_vol[ltc_halv_2.index[0]-30:ltc_halv_2.index[0]+31]"
   ]
  },
  {
   "cell_type": "code",
   "execution_count": 94,
   "metadata": {},
   "outputs": [
    {
     "data": {
      "text/html": [
       "<div>\n",
       "<style scoped>\n",
       "    .dataframe tbody tr th:only-of-type {\n",
       "        vertical-align: middle;\n",
       "    }\n",
       "\n",
       "    .dataframe tbody tr th {\n",
       "        vertical-align: top;\n",
       "    }\n",
       "\n",
       "    .dataframe thead th {\n",
       "        text-align: right;\n",
       "    }\n",
       "</style>\n",
       "<table border=\"1\" class=\"dataframe\">\n",
       "  <thead>\n",
       "    <tr style=\"text-align: right;\">\n",
       "      <th></th>\n",
       "      <th>date</th>\n",
       "      <th>VtyDayRet180d</th>\n",
       "      <th>VtyDayRet60d</th>\n",
       "      <th>VtyDayRet30d</th>\n",
       "      <th>volatility_30</th>\n",
       "      <th>volatility_60</th>\n",
       "      <th>volatility_180</th>\n",
       "    </tr>\n",
       "  </thead>\n",
       "  <tbody>\n",
       "    <tr>\n",
       "      <th>2829</th>\n",
       "      <td>2019-07-06</td>\n",
       "      <td>0.055000</td>\n",
       "      <td>0.058689</td>\n",
       "      <td>0.050074</td>\n",
       "      <td>5.007417</td>\n",
       "      <td>5.868908</td>\n",
       "      <td>5.499996</td>\n",
       "    </tr>\n",
       "    <tr>\n",
       "      <th>2830</th>\n",
       "      <td>2019-07-07</td>\n",
       "      <td>0.054941</td>\n",
       "      <td>0.058678</td>\n",
       "      <td>0.049091</td>\n",
       "      <td>4.909118</td>\n",
       "      <td>5.867840</td>\n",
       "      <td>5.494111</td>\n",
       "    </tr>\n",
       "    <tr>\n",
       "      <th>2831</th>\n",
       "      <td>2019-07-08</td>\n",
       "      <td>0.054956</td>\n",
       "      <td>0.058735</td>\n",
       "      <td>0.049397</td>\n",
       "      <td>4.939663</td>\n",
       "      <td>5.873476</td>\n",
       "      <td>5.495629</td>\n",
       "    </tr>\n",
       "    <tr>\n",
       "      <th>2832</th>\n",
       "      <td>2019-07-09</td>\n",
       "      <td>0.053795</td>\n",
       "      <td>0.058847</td>\n",
       "      <td>0.049467</td>\n",
       "      <td>4.946673</td>\n",
       "      <td>5.884676</td>\n",
       "      <td>5.379456</td>\n",
       "    </tr>\n",
       "    <tr>\n",
       "      <th>2833</th>\n",
       "      <td>2019-07-10</td>\n",
       "      <td>0.054201</td>\n",
       "      <td>0.055616</td>\n",
       "      <td>0.047682</td>\n",
       "      <td>4.768189</td>\n",
       "      <td>5.561612</td>\n",
       "      <td>5.420118</td>\n",
       "    </tr>\n",
       "  </tbody>\n",
       "</table>\n",
       "</div>"
      ],
      "text/plain": [
       "           date  VtyDayRet180d  VtyDayRet60d  VtyDayRet30d  volatility_30  \\\n",
       "2829 2019-07-06       0.055000      0.058689      0.050074       5.007417   \n",
       "2830 2019-07-07       0.054941      0.058678      0.049091       4.909118   \n",
       "2831 2019-07-08       0.054956      0.058735      0.049397       4.939663   \n",
       "2832 2019-07-09       0.053795      0.058847      0.049467       4.946673   \n",
       "2833 2019-07-10       0.054201      0.055616      0.047682       4.768189   \n",
       "\n",
       "      volatility_60  volatility_180  \n",
       "2829       5.868908        5.499996  \n",
       "2830       5.867840        5.494111  \n",
       "2831       5.873476        5.495629  \n",
       "2832       5.884676        5.379456  \n",
       "2833       5.561612        5.420118  "
      ]
     },
     "execution_count": 94,
     "metadata": {},
     "output_type": "execute_result"
    }
   ],
   "source": [
    "first_halv2_prior_post.head()"
   ]
  },
  {
   "cell_type": "code",
   "execution_count": 95,
   "metadata": {},
   "outputs": [
    {
     "data": {
      "text/plain": [
       "0.06661427402129658"
      ]
     },
     "execution_count": 95,
     "metadata": {},
     "output_type": "execute_result"
    }
   ],
   "source": [
    "max_vol2 = max(first_halv2_prior_post['VtyDayRet30d'])\n",
    "max_vol2"
   ]
  },
  {
   "cell_type": "code",
   "execution_count": 96,
   "metadata": {},
   "outputs": [
    {
     "data": {
      "text/html": [
       "<div>\n",
       "<style scoped>\n",
       "    .dataframe tbody tr th:only-of-type {\n",
       "        vertical-align: middle;\n",
       "    }\n",
       "\n",
       "    .dataframe tbody tr th {\n",
       "        vertical-align: top;\n",
       "    }\n",
       "\n",
       "    .dataframe thead th {\n",
       "        text-align: right;\n",
       "    }\n",
       "</style>\n",
       "<table border=\"1\" class=\"dataframe\">\n",
       "  <thead>\n",
       "    <tr style=\"text-align: right;\">\n",
       "      <th></th>\n",
       "      <th>VtyDayRet30d</th>\n",
       "    </tr>\n",
       "  </thead>\n",
       "  <tbody>\n",
       "    <tr>\n",
       "      <th>2847</th>\n",
       "      <td>0.066614</td>\n",
       "    </tr>\n",
       "  </tbody>\n",
       "</table>\n",
       "</div>"
      ],
      "text/plain": [
       "      VtyDayRet30d\n",
       "2847      0.066614"
      ]
     },
     "execution_count": 96,
     "metadata": {},
     "output_type": "execute_result"
    }
   ],
   "source": [
    "max_v2 = first_halv2_prior_post[['VtyDayRet30d']][first_halv2_prior_post[['VtyDayRet30d']] == max_vol2]\n",
    "max_v2 = max_v2.dropna()\n",
    "max_v2"
   ]
  },
  {
   "cell_type": "code",
   "execution_count": 97,
   "metadata": {},
   "outputs": [
    {
     "data": {
      "text/plain": [
       "2847"
      ]
     },
     "execution_count": 97,
     "metadata": {},
     "output_type": "execute_result"
    }
   ],
   "source": [
    "max_val2_index = max_v2.index[0]\n",
    "max_val2_index"
   ]
  },
  {
   "cell_type": "code",
   "execution_count": 98,
   "metadata": {},
   "outputs": [
    {
     "data": {
      "text/plain": [
       "Timestamp('2019-07-24 00:00:00')"
      ]
     },
     "execution_count": 98,
     "metadata": {},
     "output_type": "execute_result"
    }
   ],
   "source": [
    "halv2 = first_halv2_prior_post[['date', 'VtyDayRet30d']].loc[max_val2_index][0]\n",
    "halv2"
   ]
  },
  {
   "cell_type": "code",
   "execution_count": 99,
   "metadata": {},
   "outputs": [
    {
     "data": {
      "image/png": "[encoded data removed]",
      "text/plain": [
       "<Figure size 1080x432 with 1 Axes>"
      ]
     },
     "metadata": {
      "needs_background": "light"
     },
     "output_type": "display_data"
    }
   ],
   "source": [
    "#red line shows us max volatility for the current period \n",
    "#blue line shows exact date of halving \n",
    "\n",
    "fig, ax = plt.subplots(figsize = (15,6))    \n",
    "fig.autofmt_xdate() \n",
    "plt.axvline(halv2, color='g', linestyle='--', lw=2)\n",
    "plt.axvline('2019-08-05', color='b', linestyle='--', lw=2)\n",
    "fig = sns.lineplot(x='date', y='VtyDayRet30d', data=first_halv2_prior_post)"
   ]
  },
  {
   "cell_type": "code",
   "execution_count": 100,
   "metadata": {},
   "outputs": [],
   "source": [
    "########################################################################################################################"
   ]
  },
  {
   "cell_type": "code",
   "execution_count": 101,
   "metadata": {},
   "outputs": [],
   "source": [
    "#let's further zoom out and analyze volatility 3 month prior and 3 month post 1st halving \n",
    "\n",
    "first_halv_prior_post =  ltc_vol[ltc_halv_1.index[0]-90:ltc_halv_1.index[0]+91]"
   ]
  },
  {
   "cell_type": "code",
   "execution_count": 102,
   "metadata": {},
   "outputs": [
    {
     "data": {
      "text/html": [
       "<div>\n",
       "<style scoped>\n",
       "    .dataframe tbody tr th:only-of-type {\n",
       "        vertical-align: middle;\n",
       "    }\n",
       "\n",
       "    .dataframe tbody tr th {\n",
       "        vertical-align: top;\n",
       "    }\n",
       "\n",
       "    .dataframe thead th {\n",
       "        text-align: right;\n",
       "    }\n",
       "</style>\n",
       "<table border=\"1\" class=\"dataframe\">\n",
       "  <thead>\n",
       "    <tr style=\"text-align: right;\">\n",
       "      <th></th>\n",
       "      <th>date</th>\n",
       "      <th>VtyDayRet180d</th>\n",
       "      <th>VtyDayRet60d</th>\n",
       "      <th>VtyDayRet30d</th>\n",
       "      <th>volatility_30</th>\n",
       "      <th>volatility_60</th>\n",
       "      <th>volatility_180</th>\n",
       "    </tr>\n",
       "  </thead>\n",
       "  <tbody>\n",
       "    <tr>\n",
       "      <th>1328</th>\n",
       "      <td>2015-05-27</td>\n",
       "      <td>0.052739</td>\n",
       "      <td>0.033501</td>\n",
       "      <td>0.041445</td>\n",
       "      <td>4.144487</td>\n",
       "      <td>3.350054</td>\n",
       "      <td>5.273937</td>\n",
       "    </tr>\n",
       "    <tr>\n",
       "      <th>1329</th>\n",
       "      <td>2015-05-28</td>\n",
       "      <td>0.052739</td>\n",
       "      <td>0.033277</td>\n",
       "      <td>0.041433</td>\n",
       "      <td>4.143313</td>\n",
       "      <td>3.327725</td>\n",
       "      <td>5.273897</td>\n",
       "    </tr>\n",
       "    <tr>\n",
       "      <th>1330</th>\n",
       "      <td>2015-05-29</td>\n",
       "      <td>0.052739</td>\n",
       "      <td>0.033217</td>\n",
       "      <td>0.041416</td>\n",
       "      <td>4.141561</td>\n",
       "      <td>3.321728</td>\n",
       "      <td>5.273930</td>\n",
       "    </tr>\n",
       "    <tr>\n",
       "      <th>1331</th>\n",
       "      <td>2015-05-30</td>\n",
       "      <td>0.052762</td>\n",
       "      <td>0.033240</td>\n",
       "      <td>0.040886</td>\n",
       "      <td>4.088589</td>\n",
       "      <td>3.323996</td>\n",
       "      <td>5.276187</td>\n",
       "    </tr>\n",
       "    <tr>\n",
       "      <th>1332</th>\n",
       "      <td>2015-05-31</td>\n",
       "      <td>0.053101</td>\n",
       "      <td>0.035141</td>\n",
       "      <td>0.044088</td>\n",
       "      <td>4.408845</td>\n",
       "      <td>3.514143</td>\n",
       "      <td>5.310103</td>\n",
       "    </tr>\n",
       "  </tbody>\n",
       "</table>\n",
       "</div>"
      ],
      "text/plain": [
       "           date  VtyDayRet180d  VtyDayRet60d  VtyDayRet30d  volatility_30  \\\n",
       "1328 2015-05-27       0.052739      0.033501      0.041445       4.144487   \n",
       "1329 2015-05-28       0.052739      0.033277      0.041433       4.143313   \n",
       "1330 2015-05-29       0.052739      0.033217      0.041416       4.141561   \n",
       "1331 2015-05-30       0.052762      0.033240      0.040886       4.088589   \n",
       "1332 2015-05-31       0.053101      0.035141      0.044088       4.408845   \n",
       "\n",
       "      volatility_60  volatility_180  \n",
       "1328       3.350054        5.273937  \n",
       "1329       3.327725        5.273897  \n",
       "1330       3.321728        5.273930  \n",
       "1331       3.323996        5.276187  \n",
       "1332       3.514143        5.310103  "
      ]
     },
     "execution_count": 102,
     "metadata": {},
     "output_type": "execute_result"
    }
   ],
   "source": [
    "#90 days prior and 90 days post 1st halving \n",
    "\n",
    "first_halv_prior_post.head()"
   ]
  },
  {
   "cell_type": "code",
   "execution_count": 103,
   "metadata": {},
   "outputs": [
    {
     "data": {
      "text/plain": [
       "0.15086537391228755"
      ]
     },
     "execution_count": 103,
     "metadata": {},
     "output_type": "execute_result"
    }
   ],
   "source": [
    "max_vol = max(first_halv_prior_post['VtyDayRet30d'])\n",
    "max_vol"
   ]
  },
  {
   "cell_type": "code",
   "execution_count": 104,
   "metadata": {},
   "outputs": [
    {
     "data": {
      "text/html": [
       "<div>\n",
       "<style scoped>\n",
       "    .dataframe tbody tr th:only-of-type {\n",
       "        vertical-align: middle;\n",
       "    }\n",
       "\n",
       "    .dataframe tbody tr th {\n",
       "        vertical-align: top;\n",
       "    }\n",
       "\n",
       "    .dataframe thead th {\n",
       "        text-align: right;\n",
       "    }\n",
       "</style>\n",
       "<table border=\"1\" class=\"dataframe\">\n",
       "  <thead>\n",
       "    <tr style=\"text-align: right;\">\n",
       "      <th></th>\n",
       "      <th>VtyDayRet30d</th>\n",
       "    </tr>\n",
       "  </thead>\n",
       "  <tbody>\n",
       "    <tr>\n",
       "      <th>1377</th>\n",
       "      <td>0.150865</td>\n",
       "    </tr>\n",
       "  </tbody>\n",
       "</table>\n",
       "</div>"
      ],
      "text/plain": [
       "      VtyDayRet30d\n",
       "1377      0.150865"
      ]
     },
     "execution_count": 104,
     "metadata": {},
     "output_type": "execute_result"
    }
   ],
   "source": [
    "#creating mask in order to map index to date of max volatility \n",
    "\n",
    "max_v = first_halv_prior_post[['VtyDayRet30d']][first_halv_prior_post[['VtyDayRet30d']] == max_vol]\n",
    "max_v = max_v.dropna()\n",
    "max_v"
   ]
  },
  {
   "cell_type": "code",
   "execution_count": 105,
   "metadata": {},
   "outputs": [
    {
     "data": {
      "text/plain": [
       "1377"
      ]
     },
     "execution_count": 105,
     "metadata": {},
     "output_type": "execute_result"
    }
   ],
   "source": [
    "max_val_index = max_v.index[0]\n",
    "max_val_index"
   ]
  },
  {
   "cell_type": "code",
   "execution_count": 106,
   "metadata": {},
   "outputs": [
    {
     "data": {
      "text/plain": [
       "Timestamp('2015-07-15 00:00:00')"
      ]
     },
     "execution_count": 106,
     "metadata": {},
     "output_type": "execute_result"
    }
   ],
   "source": [
    "halv1 = first_halv_prior_post[['date', 'VtyDayRet30d']].loc[max_val_index][0]\n",
    "halv1"
   ]
  },
  {
   "cell_type": "code",
   "execution_count": 107,
   "metadata": {},
   "outputs": [
    {
     "data": {
      "image/png": "[encoded data removed]",
      "text/plain": [
       "<Figure size 1008x432 with 1 Axes>"
      ]
     },
     "metadata": {
      "needs_background": "light"
     },
     "output_type": "display_data"
    }
   ],
   "source": [
    "#red line shows us max volatility for the current period \n",
    "#blue line shows exact date of halving \n",
    "\n",
    "fig, ax = plt.subplots(figsize = (14,6))    \n",
    "fig.autofmt_xdate() \n",
    "\n",
    "plt.axvline(halv1, color='r', linestyle='--', lw=2, label='Period of Max Volatility')\n",
    "plt.axvline('2015-08-25', color='b', linestyle='--', lw=2, label=\"Litecoins's 1st Halving\")\n",
    "\n",
    " \n",
    "fig = sns.lineplot(x='date', y='volatility_30', data=first_halv_prior_post)\n",
    "\n",
    "ax.set_title(\"Litecoin's 30d Volatility 3 Months Prior & 3 Months Post 1st Halving\", size=14)\n",
    "ax.set_xlabel('Date', size=12)\n",
    "ax.set_ylabel('Volatility (%)', size=12)\n",
    "\n",
    "plt.legend();"
   ]
  },
  {
   "cell_type": "code",
   "execution_count": 108,
   "metadata": {},
   "outputs": [],
   "source": [
    "############################################################################################################"
   ]
  },
  {
   "cell_type": "code",
   "execution_count": 109,
   "metadata": {},
   "outputs": [],
   "source": [
    "#let's further zoom out and analyze volatility 3 month prior and 3 month post 1st halving \n",
    "\n",
    "first_halv2_prior_post =  ltc_vol[ltc_halv_2.index[0]-90:ltc_halv_2.index[0]+91]"
   ]
  },
  {
   "cell_type": "code",
   "execution_count": 110,
   "metadata": {},
   "outputs": [
    {
     "data": {
      "text/html": [
       "<div>\n",
       "<style scoped>\n",
       "    .dataframe tbody tr th:only-of-type {\n",
       "        vertical-align: middle;\n",
       "    }\n",
       "\n",
       "    .dataframe tbody tr th {\n",
       "        vertical-align: top;\n",
       "    }\n",
       "\n",
       "    .dataframe thead th {\n",
       "        text-align: right;\n",
       "    }\n",
       "</style>\n",
       "<table border=\"1\" class=\"dataframe\">\n",
       "  <thead>\n",
       "    <tr style=\"text-align: right;\">\n",
       "      <th></th>\n",
       "      <th>date</th>\n",
       "      <th>VtyDayRet180d</th>\n",
       "      <th>VtyDayRet60d</th>\n",
       "      <th>VtyDayRet30d</th>\n",
       "      <th>volatility_30</th>\n",
       "      <th>volatility_60</th>\n",
       "      <th>volatility_180</th>\n",
       "    </tr>\n",
       "  </thead>\n",
       "  <tbody>\n",
       "    <tr>\n",
       "      <th>2769</th>\n",
       "      <td>2019-05-07</td>\n",
       "      <td>0.057643</td>\n",
       "      <td>0.047831</td>\n",
       "      <td>0.040059</td>\n",
       "      <td>4.005942</td>\n",
       "      <td>4.783059</td>\n",
       "      <td>5.764323</td>\n",
       "    </tr>\n",
       "    <tr>\n",
       "      <th>2770</th>\n",
       "      <td>2019-05-08</td>\n",
       "      <td>0.057637</td>\n",
       "      <td>0.047691</td>\n",
       "      <td>0.039876</td>\n",
       "      <td>3.987617</td>\n",
       "      <td>4.769094</td>\n",
       "      <td>5.763700</td>\n",
       "    </tr>\n",
       "    <tr>\n",
       "      <th>2771</th>\n",
       "      <td>2019-05-09</td>\n",
       "      <td>0.057637</td>\n",
       "      <td>0.047655</td>\n",
       "      <td>0.039605</td>\n",
       "      <td>3.960459</td>\n",
       "      <td>4.765471</td>\n",
       "      <td>5.763723</td>\n",
       "    </tr>\n",
       "    <tr>\n",
       "      <th>2772</th>\n",
       "      <td>2019-05-10</td>\n",
       "      <td>0.057681</td>\n",
       "      <td>0.047634</td>\n",
       "      <td>0.040285</td>\n",
       "      <td>4.028511</td>\n",
       "      <td>4.763442</td>\n",
       "      <td>5.768148</td>\n",
       "    </tr>\n",
       "    <tr>\n",
       "      <th>2773</th>\n",
       "      <td>2019-05-11</td>\n",
       "      <td>0.059279</td>\n",
       "      <td>0.052960</td>\n",
       "      <td>0.049101</td>\n",
       "      <td>4.910139</td>\n",
       "      <td>5.295955</td>\n",
       "      <td>5.927935</td>\n",
       "    </tr>\n",
       "  </tbody>\n",
       "</table>\n",
       "</div>"
      ],
      "text/plain": [
       "           date  VtyDayRet180d  VtyDayRet60d  VtyDayRet30d  volatility_30  \\\n",
       "2769 2019-05-07       0.057643      0.047831      0.040059       4.005942   \n",
       "2770 2019-05-08       0.057637      0.047691      0.039876       3.987617   \n",
       "2771 2019-05-09       0.057637      0.047655      0.039605       3.960459   \n",
       "2772 2019-05-10       0.057681      0.047634      0.040285       4.028511   \n",
       "2773 2019-05-11       0.059279      0.052960      0.049101       4.910139   \n",
       "\n",
       "      volatility_60  volatility_180  \n",
       "2769       4.783059        5.764323  \n",
       "2770       4.769094        5.763700  \n",
       "2771       4.765471        5.763723  \n",
       "2772       4.763442        5.768148  \n",
       "2773       5.295955        5.927935  "
      ]
     },
     "execution_count": 110,
     "metadata": {},
     "output_type": "execute_result"
    }
   ],
   "source": [
    "#90 days prior and 90 days post 1st halving \n",
    "\n",
    "first_halv2_prior_post.head()"
   ]
  },
  {
   "cell_type": "code",
   "execution_count": 111,
   "metadata": {},
   "outputs": [
    {
     "data": {
      "text/plain": [
       "0.06725602497783836"
      ]
     },
     "execution_count": 111,
     "metadata": {},
     "output_type": "execute_result"
    }
   ],
   "source": [
    "max_vol = max(first_halv2_prior_post['VtyDayRet30d'])\n",
    "max_vol"
   ]
  },
  {
   "cell_type": "code",
   "execution_count": 112,
   "metadata": {},
   "outputs": [
    {
     "data": {
      "text/html": [
       "<div>\n",
       "<style scoped>\n",
       "    .dataframe tbody tr th:only-of-type {\n",
       "        vertical-align: middle;\n",
       "    }\n",
       "\n",
       "    .dataframe tbody tr th {\n",
       "        vertical-align: top;\n",
       "    }\n",
       "\n",
       "    .dataframe thead th {\n",
       "        text-align: right;\n",
       "    }\n",
       "</style>\n",
       "<table border=\"1\" class=\"dataframe\">\n",
       "  <thead>\n",
       "    <tr style=\"text-align: right;\">\n",
       "      <th></th>\n",
       "      <th>VtyDayRet30d</th>\n",
       "    </tr>\n",
       "  </thead>\n",
       "  <tbody>\n",
       "    <tr>\n",
       "      <th>2802</th>\n",
       "      <td>0.067256</td>\n",
       "    </tr>\n",
       "  </tbody>\n",
       "</table>\n",
       "</div>"
      ],
      "text/plain": [
       "      VtyDayRet30d\n",
       "2802      0.067256"
      ]
     },
     "execution_count": 112,
     "metadata": {},
     "output_type": "execute_result"
    }
   ],
   "source": [
    "#creating mask in order to map index to date of max volatility \n",
    "\n",
    "max_v = first_halv2_prior_post[['VtyDayRet30d']][first_halv2_prior_post[['VtyDayRet30d']] == max_vol]\n",
    "max_v = max_v.dropna()\n",
    "max_v"
   ]
  },
  {
   "cell_type": "code",
   "execution_count": 113,
   "metadata": {},
   "outputs": [
    {
     "data": {
      "text/plain": [
       "2802"
      ]
     },
     "execution_count": 113,
     "metadata": {},
     "output_type": "execute_result"
    }
   ],
   "source": [
    "max_val_index = max_v.index[0]\n",
    "max_val_index"
   ]
  },
  {
   "cell_type": "code",
   "execution_count": 114,
   "metadata": {},
   "outputs": [
    {
     "data": {
      "text/plain": [
       "Timestamp('2019-06-09 00:00:00')"
      ]
     },
     "execution_count": 114,
     "metadata": {},
     "output_type": "execute_result"
    }
   ],
   "source": [
    "halv2 = first_halv2_prior_post[['date', 'VtyDayRet30d']].loc[max_val_index][0]\n",
    "halv2"
   ]
  },
  {
   "cell_type": "code",
   "execution_count": 115,
   "metadata": {},
   "outputs": [
    {
     "data": {
      "image/png": "[encoded data removed]",
      "text/plain": [
       "<Figure size 1008x432 with 1 Axes>"
      ]
     },
     "metadata": {
      "needs_background": "light"
     },
     "output_type": "display_data"
    }
   ],
   "source": [
    "#red line shows us max volatility for the current period \n",
    "#blue line shows exact date of halving \n",
    "\n",
    "fig, ax = plt.subplots(figsize = (14,6))    \n",
    "fig.autofmt_xdate() \n",
    "\n",
    "plt.axvline(halv2, color='r', linestyle='--', lw=2, label='Period of Max Volatility')\n",
    "plt.axvline('2019-08-05', color='b', linestyle='--', lw=2, label=\"Litecoins's 2nd Halving\")\n",
    "\n",
    " \n",
    "fig = sns.lineplot(x='date', y='volatility_30', data=first_halv2_prior_post)\n",
    "\n",
    "ax.set_title(\"Litecoin's 30d Volatility 3 Months Prior & 3 Months Post 2nd Halving\", size=14)\n",
    "ax.set_xlabel('Date', size=12)\n",
    "ax.set_ylabel('Volatility (%)', size=12)\n",
    "\n",
    "plt.legend();"
   ]
  },
  {
   "cell_type": "code",
   "execution_count": 116,
   "metadata": {},
   "outputs": [],
   "source": [
    "########################################################################################################################\n",
    "########################################################################################################################"
   ]
  },
  {
   "cell_type": "code",
   "execution_count": 117,
   "metadata": {},
   "outputs": [],
   "source": [
    "bch = pd.read_csv('bch_april.csv')"
   ]
  },
  {
   "cell_type": "code",
   "execution_count": 118,
   "metadata": {},
   "outputs": [
    {
     "data": {
      "text/html": [
       "<div>\n",
       "<style scoped>\n",
       "    .dataframe tbody tr th:only-of-type {\n",
       "        vertical-align: middle;\n",
       "    }\n",
       "\n",
       "    .dataframe tbody tr th {\n",
       "        vertical-align: top;\n",
       "    }\n",
       "\n",
       "    .dataframe thead th {\n",
       "        text-align: right;\n",
       "    }\n",
       "</style>\n",
       "<table border=\"1\" class=\"dataframe\">\n",
       "  <thead>\n",
       "    <tr style=\"text-align: right;\">\n",
       "      <th></th>\n",
       "      <th>time</th>\n",
       "      <th>AdrActCnt</th>\n",
       "      <th>BlkCnt</th>\n",
       "      <th>BlkSizeByte</th>\n",
       "      <th>BlkSizeMeanByte</th>\n",
       "      <th>CapMVRVCur</th>\n",
       "      <th>CapMrktCurUSD</th>\n",
       "      <th>CapRealUSD</th>\n",
       "      <th>DiffMean</th>\n",
       "      <th>FeeMeanNtv</th>\n",
       "      <th>FeeMeanUSD</th>\n",
       "      <th>FeeMedNtv</th>\n",
       "      <th>FeeMedUSD</th>\n",
       "      <th>FeeTotNtv</th>\n",
       "      <th>FeeTotUSD</th>\n",
       "      <th>HashRate</th>\n",
       "      <th>IssContNtv</th>\n",
       "      <th>IssContPctAnn</th>\n",
       "      <th>IssContUSD</th>\n",
       "      <th>IssTotNtv</th>\n",
       "      <th>IssTotUSD</th>\n",
       "      <th>NVTAdj</th>\n",
       "      <th>NVTAdj90</th>\n",
       "      <th>PriceBTC</th>\n",
       "      <th>PriceUSD</th>\n",
       "      <th>ROI1yr</th>\n",
       "      <th>ROI30d</th>\n",
       "      <th>SplyCur</th>\n",
       "      <th>TxCnt</th>\n",
       "      <th>TxTfrCnt</th>\n",
       "      <th>TxTfrValAdjNtv</th>\n",
       "      <th>TxTfrValAdjUSD</th>\n",
       "      <th>TxTfrValMeanNtv</th>\n",
       "      <th>TxTfrValMeanUSD</th>\n",
       "      <th>TxTfrValMedNtv</th>\n",
       "      <th>TxTfrValMedUSD</th>\n",
       "      <th>TxTfrValNtv</th>\n",
       "      <th>TxTfrValUSD</th>\n",
       "      <th>VtyDayRet180d</th>\n",
       "      <th>VtyDayRet30d</th>\n",
       "      <th>VtyDayRet60d</th>\n",
       "    </tr>\n",
       "  </thead>\n",
       "  <tbody>\n",
       "    <tr>\n",
       "      <th>0</th>\n",
       "      <td>2017-08-01T00:00:00.000Z</td>\n",
       "      <td>308149.0</td>\n",
       "      <td>89.0</td>\n",
       "      <td>68606659.0</td>\n",
       "      <td>770861.337079</td>\n",
       "      <td>25.851468</td>\n",
       "      <td>5.411500e+09</td>\n",
       "      <td>2.093305e+08</td>\n",
       "      <td>8.602220e+11</td>\n",
       "      <td>0.000676</td>\n",
       "      <td>0.221887</td>\n",
       "      <td>0.000306</td>\n",
       "      <td>0.10034</td>\n",
       "      <td>52.044031</td>\n",
       "      <td>17087.507407</td>\n",
       "      <td>3.805806e+06</td>\n",
       "      <td>1112.5</td>\n",
       "      <td>2.463673</td>\n",
       "      <td>365264.78948</td>\n",
       "      <td>1112.5</td>\n",
       "      <td>365264.78948</td>\n",
       "      <td>21.169225</td>\n",
       "      <td>NaN</td>\n",
       "      <td>0.120382</td>\n",
       "      <td>328.327901</td>\n",
       "      <td>NaN</td>\n",
       "      <td>NaN</td>\n",
       "      <td>1.648200e+07</td>\n",
       "      <td>77010.0</td>\n",
       "      <td>207932.0</td>\n",
       "      <td>778582.982385</td>\n",
       "      <td>2.556305e+08</td>\n",
       "      <td>7.186771</td>\n",
       "      <td>2359.617548</td>\n",
       "      <td>0.01359</td>\n",
       "      <td>4.461976</td>\n",
       "      <td>1.494360e+06</td>\n",
       "      <td>4.906400e+08</td>\n",
       "      <td>NaN</td>\n",
       "      <td>NaN</td>\n",
       "      <td>NaN</td>\n",
       "    </tr>\n",
       "  </tbody>\n",
       "</table>\n",
       "</div>"
      ],
      "text/plain": [
       "                       time  AdrActCnt  BlkCnt  BlkSizeByte  BlkSizeMeanByte  \\\n",
       "0  2017-08-01T00:00:00.000Z   308149.0    89.0   68606659.0    770861.337079   \n",
       "\n",
       "   CapMVRVCur  CapMrktCurUSD    CapRealUSD      DiffMean  FeeMeanNtv  \\\n",
       "0   25.851468   5.411500e+09  2.093305e+08  8.602220e+11    0.000676   \n",
       "\n",
       "   FeeMeanUSD  FeeMedNtv  FeeMedUSD  FeeTotNtv     FeeTotUSD      HashRate  \\\n",
       "0    0.221887   0.000306    0.10034  52.044031  17087.507407  3.805806e+06   \n",
       "\n",
       "   IssContNtv  IssContPctAnn    IssContUSD  IssTotNtv     IssTotUSD  \\\n",
       "0      1112.5       2.463673  365264.78948     1112.5  365264.78948   \n",
       "\n",
       "      NVTAdj  NVTAdj90  PriceBTC    PriceUSD  ROI1yr  ROI30d       SplyCur  \\\n",
       "0  21.169225       NaN  0.120382  328.327901     NaN     NaN  1.648200e+07   \n",
       "\n",
       "     TxCnt  TxTfrCnt  TxTfrValAdjNtv  TxTfrValAdjUSD  TxTfrValMeanNtv  \\\n",
       "0  77010.0  207932.0   778582.982385    2.556305e+08         7.186771   \n",
       "\n",
       "   TxTfrValMeanUSD  TxTfrValMedNtv  TxTfrValMedUSD   TxTfrValNtv  \\\n",
       "0      2359.617548         0.01359        4.461976  1.494360e+06   \n",
       "\n",
       "    TxTfrValUSD  VtyDayRet180d  VtyDayRet30d  VtyDayRet60d  \n",
       "0  4.906400e+08            NaN           NaN           NaN  "
      ]
     },
     "execution_count": 118,
     "metadata": {},
     "output_type": "execute_result"
    }
   ],
   "source": [
    "bch.head(1)"
   ]
  },
  {
   "cell_type": "code",
   "execution_count": 119,
   "metadata": {},
   "outputs": [],
   "source": [
    "bch = bch.rename(columns={'time': 'date'})"
   ]
  },
  {
   "cell_type": "code",
   "execution_count": 120,
   "metadata": {},
   "outputs": [],
   "source": [
    "bch['date'] = [i[0:10] for i in bch['date']]"
   ]
  },
  {
   "cell_type": "code",
   "execution_count": 121,
   "metadata": {},
   "outputs": [],
   "source": [
    "bch['date'] = pd.to_datetime(bch['date'])"
   ]
  },
  {
   "cell_type": "code",
   "execution_count": 122,
   "metadata": {},
   "outputs": [
    {
     "data": {
      "text/html": [
       "<div>\n",
       "<style scoped>\n",
       "    .dataframe tbody tr th:only-of-type {\n",
       "        vertical-align: middle;\n",
       "    }\n",
       "\n",
       "    .dataframe tbody tr th {\n",
       "        vertical-align: top;\n",
       "    }\n",
       "\n",
       "    .dataframe thead th {\n",
       "        text-align: right;\n",
       "    }\n",
       "</style>\n",
       "<table border=\"1\" class=\"dataframe\">\n",
       "  <thead>\n",
       "    <tr style=\"text-align: right;\">\n",
       "      <th></th>\n",
       "      <th>date</th>\n",
       "      <th>AdrActCnt</th>\n",
       "      <th>BlkCnt</th>\n",
       "      <th>BlkSizeByte</th>\n",
       "      <th>BlkSizeMeanByte</th>\n",
       "      <th>CapMVRVCur</th>\n",
       "      <th>CapMrktCurUSD</th>\n",
       "      <th>CapRealUSD</th>\n",
       "      <th>DiffMean</th>\n",
       "      <th>FeeMeanNtv</th>\n",
       "      <th>FeeMeanUSD</th>\n",
       "      <th>FeeMedNtv</th>\n",
       "      <th>FeeMedUSD</th>\n",
       "      <th>FeeTotNtv</th>\n",
       "      <th>FeeTotUSD</th>\n",
       "      <th>HashRate</th>\n",
       "      <th>IssContNtv</th>\n",
       "      <th>IssContPctAnn</th>\n",
       "      <th>IssContUSD</th>\n",
       "      <th>IssTotNtv</th>\n",
       "      <th>IssTotUSD</th>\n",
       "      <th>NVTAdj</th>\n",
       "      <th>NVTAdj90</th>\n",
       "      <th>PriceBTC</th>\n",
       "      <th>PriceUSD</th>\n",
       "      <th>ROI1yr</th>\n",
       "      <th>ROI30d</th>\n",
       "      <th>SplyCur</th>\n",
       "      <th>TxCnt</th>\n",
       "      <th>TxTfrCnt</th>\n",
       "      <th>TxTfrValAdjNtv</th>\n",
       "      <th>TxTfrValAdjUSD</th>\n",
       "      <th>TxTfrValMeanNtv</th>\n",
       "      <th>TxTfrValMeanUSD</th>\n",
       "      <th>TxTfrValMedNtv</th>\n",
       "      <th>TxTfrValMedUSD</th>\n",
       "      <th>TxTfrValNtv</th>\n",
       "      <th>TxTfrValUSD</th>\n",
       "      <th>VtyDayRet180d</th>\n",
       "      <th>VtyDayRet30d</th>\n",
       "      <th>VtyDayRet60d</th>\n",
       "    </tr>\n",
       "  </thead>\n",
       "  <tbody>\n",
       "    <tr>\n",
       "      <th>0</th>\n",
       "      <td>2017-08-01</td>\n",
       "      <td>308149.0</td>\n",
       "      <td>89.0</td>\n",
       "      <td>68606659.0</td>\n",
       "      <td>770861.337079</td>\n",
       "      <td>25.851468</td>\n",
       "      <td>5.411500e+09</td>\n",
       "      <td>2.093305e+08</td>\n",
       "      <td>8.602220e+11</td>\n",
       "      <td>0.000676</td>\n",
       "      <td>0.221887</td>\n",
       "      <td>0.000306</td>\n",
       "      <td>0.10034</td>\n",
       "      <td>52.044031</td>\n",
       "      <td>17087.507407</td>\n",
       "      <td>3.805806e+06</td>\n",
       "      <td>1112.5</td>\n",
       "      <td>2.463673</td>\n",
       "      <td>365264.78948</td>\n",
       "      <td>1112.5</td>\n",
       "      <td>365264.78948</td>\n",
       "      <td>21.169225</td>\n",
       "      <td>NaN</td>\n",
       "      <td>0.120382</td>\n",
       "      <td>328.327901</td>\n",
       "      <td>NaN</td>\n",
       "      <td>NaN</td>\n",
       "      <td>1.648200e+07</td>\n",
       "      <td>77010.0</td>\n",
       "      <td>207932.0</td>\n",
       "      <td>778582.982385</td>\n",
       "      <td>2.556305e+08</td>\n",
       "      <td>7.186771</td>\n",
       "      <td>2359.617548</td>\n",
       "      <td>0.01359</td>\n",
       "      <td>4.461976</td>\n",
       "      <td>1.494360e+06</td>\n",
       "      <td>4.906400e+08</td>\n",
       "      <td>NaN</td>\n",
       "      <td>NaN</td>\n",
       "      <td>NaN</td>\n",
       "    </tr>\n",
       "  </tbody>\n",
       "</table>\n",
       "</div>"
      ],
      "text/plain": [
       "        date  AdrActCnt  BlkCnt  BlkSizeByte  BlkSizeMeanByte  CapMVRVCur  \\\n",
       "0 2017-08-01   308149.0    89.0   68606659.0    770861.337079   25.851468   \n",
       "\n",
       "   CapMrktCurUSD    CapRealUSD      DiffMean  FeeMeanNtv  FeeMeanUSD  \\\n",
       "0   5.411500e+09  2.093305e+08  8.602220e+11    0.000676    0.221887   \n",
       "\n",
       "   FeeMedNtv  FeeMedUSD  FeeTotNtv     FeeTotUSD      HashRate  IssContNtv  \\\n",
       "0   0.000306    0.10034  52.044031  17087.507407  3.805806e+06      1112.5   \n",
       "\n",
       "   IssContPctAnn    IssContUSD  IssTotNtv     IssTotUSD     NVTAdj  NVTAdj90  \\\n",
       "0       2.463673  365264.78948     1112.5  365264.78948  21.169225       NaN   \n",
       "\n",
       "   PriceBTC    PriceUSD  ROI1yr  ROI30d       SplyCur    TxCnt  TxTfrCnt  \\\n",
       "0  0.120382  328.327901     NaN     NaN  1.648200e+07  77010.0  207932.0   \n",
       "\n",
       "   TxTfrValAdjNtv  TxTfrValAdjUSD  TxTfrValMeanNtv  TxTfrValMeanUSD  \\\n",
       "0   778582.982385    2.556305e+08         7.186771      2359.617548   \n",
       "\n",
       "   TxTfrValMedNtv  TxTfrValMedUSD   TxTfrValNtv   TxTfrValUSD  VtyDayRet180d  \\\n",
       "0         0.01359        4.461976  1.494360e+06  4.906400e+08            NaN   \n",
       "\n",
       "   VtyDayRet30d  VtyDayRet60d  \n",
       "0           NaN           NaN  "
      ]
     },
     "execution_count": 122,
     "metadata": {},
     "output_type": "execute_result"
    }
   ],
   "source": [
    "bch.head(1)"
   ]
  },
  {
   "cell_type": "code",
   "execution_count": 123,
   "metadata": {},
   "outputs": [
    {
     "data": {
      "text/html": [
       "<div>\n",
       "<style scoped>\n",
       "    .dataframe tbody tr th:only-of-type {\n",
       "        vertical-align: middle;\n",
       "    }\n",
       "\n",
       "    .dataframe tbody tr th {\n",
       "        vertical-align: top;\n",
       "    }\n",
       "\n",
       "    .dataframe thead th {\n",
       "        text-align: right;\n",
       "    }\n",
       "</style>\n",
       "<table border=\"1\" class=\"dataframe\">\n",
       "  <thead>\n",
       "    <tr style=\"text-align: right;\">\n",
       "      <th></th>\n",
       "      <th>date</th>\n",
       "      <th>BlkCnt</th>\n",
       "      <th>IssContNtv</th>\n",
       "    </tr>\n",
       "  </thead>\n",
       "  <tbody>\n",
       "    <tr>\n",
       "      <th>0</th>\n",
       "      <td>2017-08-01</td>\n",
       "      <td>89.0</td>\n",
       "      <td>1112.5</td>\n",
       "    </tr>\n",
       "  </tbody>\n",
       "</table>\n",
       "</div>"
      ],
      "text/plain": [
       "        date  BlkCnt  IssContNtv\n",
       "0 2017-08-01    89.0      1112.5"
      ]
     },
     "execution_count": 123,
     "metadata": {},
     "output_type": "execute_result"
    }
   ],
   "source": [
    "#confirm halving dates \n",
    "#08-04-2020\n",
    "bch[['date', 'BlkCnt', 'IssContNtv']].head(1)"
   ]
  },
  {
   "cell_type": "code",
   "execution_count": 124,
   "metadata": {},
   "outputs": [],
   "source": [
    "#we are only interested in btc volatility \n",
    "\n",
    "bch_vol = bch[['date', 'VtyDayRet180d', 'VtyDayRet60d', 'VtyDayRet30d']]"
   ]
  },
  {
   "cell_type": "code",
   "execution_count": 125,
   "metadata": {},
   "outputs": [
    {
     "data": {
      "text/plain": [
       "date             0\n",
       "VtyDayRet180d    0\n",
       "VtyDayRet60d     0\n",
       "VtyDayRet30d     0\n",
       "dtype: int64"
      ]
     },
     "execution_count": 125,
     "metadata": {},
     "output_type": "execute_result"
    }
   ],
   "source": [
    "#checking for NaNs \n",
    "bch_vol = bch_vol.fillna(0)\n",
    "bch_vol.isna().sum()"
   ]
  },
  {
   "cell_type": "code",
   "execution_count": 126,
   "metadata": {},
   "outputs": [],
   "source": [
    "#For readability let's represent volatility as a % \n",
    "bch_vol['volatility_30'] = bch_vol['VtyDayRet30d']*100\n",
    "bch_vol['volatility_60'] = bch_vol['VtyDayRet60d']*100\n",
    "bch_vol['volatility_180'] = bch_vol['VtyDayRet180d']*100"
   ]
  },
  {
   "cell_type": "code",
   "execution_count": 127,
   "metadata": {},
   "outputs": [
    {
     "data": {
      "text/plain": [
       "pandas._libs.tslibs.timestamps.Timestamp"
      ]
     },
     "execution_count": 127,
     "metadata": {},
     "output_type": "execute_result"
    }
   ],
   "source": [
    "type(bch_vol['date'][0])"
   ]
  },
  {
   "cell_type": "code",
   "execution_count": 128,
   "metadata": {},
   "outputs": [],
   "source": [
    "#might be more useful to zoom in \n",
    "\n",
    "#divide df for period between inception and 1st halving \n",
    "#and from 1st halving to 2nd halving \n",
    "#and finally from 2nd halving to preent \n",
    "\n",
    "#creating masks \n",
    "bch_halv_1 = bch_vol[bch_vol['date'] == '2020-04-08']"
   ]
  },
  {
   "cell_type": "code",
   "execution_count": 129,
   "metadata": {},
   "outputs": [],
   "source": [
    "vol_1st_halv = bch_vol[0:bch_halv_1.index[0]+1]\n",
    "vol_pre = bch_vol[bch_halv_1.index[0]:-1]"
   ]
  },
  {
   "cell_type": "code",
   "execution_count": 130,
   "metadata": {},
   "outputs": [],
   "source": [
    "#let's further zoom in and analyze volatility 3 month prior and 3 month post 1st halving \n",
    "\n",
    "first_halv_prior_post =  bch_vol[bch_halv_1.index[0]-90:bch_halv_1.index[0]+91]"
   ]
  },
  {
   "cell_type": "code",
   "execution_count": 131,
   "metadata": {},
   "outputs": [
    {
     "data": {
      "text/html": [
       "<div>\n",
       "<style scoped>\n",
       "    .dataframe tbody tr th:only-of-type {\n",
       "        vertical-align: middle;\n",
       "    }\n",
       "\n",
       "    .dataframe tbody tr th {\n",
       "        vertical-align: top;\n",
       "    }\n",
       "\n",
       "    .dataframe thead th {\n",
       "        text-align: right;\n",
       "    }\n",
       "</style>\n",
       "<table border=\"1\" class=\"dataframe\">\n",
       "  <thead>\n",
       "    <tr style=\"text-align: right;\">\n",
       "      <th></th>\n",
       "      <th>date</th>\n",
       "      <th>VtyDayRet180d</th>\n",
       "      <th>VtyDayRet60d</th>\n",
       "      <th>VtyDayRet30d</th>\n",
       "      <th>volatility_30</th>\n",
       "      <th>volatility_60</th>\n",
       "      <th>volatility_180</th>\n",
       "    </tr>\n",
       "  </thead>\n",
       "  <tbody>\n",
       "    <tr>\n",
       "      <th>891</th>\n",
       "      <td>2020-01-09</td>\n",
       "      <td>0.045906</td>\n",
       "      <td>0.039273</td>\n",
       "      <td>0.045583</td>\n",
       "      <td>4.558349</td>\n",
       "      <td>3.927251</td>\n",
       "      <td>4.590563</td>\n",
       "    </tr>\n",
       "    <tr>\n",
       "      <th>892</th>\n",
       "      <td>2020-01-10</td>\n",
       "      <td>0.045425</td>\n",
       "      <td>0.042605</td>\n",
       "      <td>0.050710</td>\n",
       "      <td>5.070951</td>\n",
       "      <td>4.260545</td>\n",
       "      <td>4.542487</td>\n",
       "    </tr>\n",
       "    <tr>\n",
       "      <th>893</th>\n",
       "      <td>2020-01-11</td>\n",
       "      <td>0.045113</td>\n",
       "      <td>0.042699</td>\n",
       "      <td>0.051077</td>\n",
       "      <td>5.107656</td>\n",
       "      <td>4.269867</td>\n",
       "      <td>4.511336</td>\n",
       "    </tr>\n",
       "    <tr>\n",
       "      <th>894</th>\n",
       "      <td>2020-01-12</td>\n",
       "      <td>0.044301</td>\n",
       "      <td>0.042781</td>\n",
       "      <td>0.051049</td>\n",
       "      <td>5.104928</td>\n",
       "      <td>4.278076</td>\n",
       "      <td>4.430105</td>\n",
       "    </tr>\n",
       "    <tr>\n",
       "      <th>895</th>\n",
       "      <td>2020-01-13</td>\n",
       "      <td>0.044229</td>\n",
       "      <td>0.042656</td>\n",
       "      <td>0.050732</td>\n",
       "      <td>5.073172</td>\n",
       "      <td>4.265554</td>\n",
       "      <td>4.422917</td>\n",
       "    </tr>\n",
       "  </tbody>\n",
       "</table>\n",
       "</div>"
      ],
      "text/plain": [
       "          date  VtyDayRet180d  VtyDayRet60d  VtyDayRet30d  volatility_30  \\\n",
       "891 2020-01-09       0.045906      0.039273      0.045583       4.558349   \n",
       "892 2020-01-10       0.045425      0.042605      0.050710       5.070951   \n",
       "893 2020-01-11       0.045113      0.042699      0.051077       5.107656   \n",
       "894 2020-01-12       0.044301      0.042781      0.051049       5.104928   \n",
       "895 2020-01-13       0.044229      0.042656      0.050732       5.073172   \n",
       "\n",
       "     volatility_60  volatility_180  \n",
       "891       3.927251        4.590563  \n",
       "892       4.260545        4.542487  \n",
       "893       4.269867        4.511336  \n",
       "894       4.278076        4.430105  \n",
       "895       4.265554        4.422917  "
      ]
     },
     "execution_count": 131,
     "metadata": {},
     "output_type": "execute_result"
    }
   ],
   "source": [
    "#90 days prior and 90 days post 1st halving \n",
    "\n",
    "first_halv_prior_post.head()"
   ]
  },
  {
   "cell_type": "code",
   "execution_count": 132,
   "metadata": {},
   "outputs": [
    {
     "data": {
      "text/plain": [
       "0.12960934512164374"
      ]
     },
     "execution_count": 132,
     "metadata": {},
     "output_type": "execute_result"
    }
   ],
   "source": [
    "max_vol = max(first_halv_prior_post['VtyDayRet30d'])\n",
    "max_vol"
   ]
  },
  {
   "cell_type": "code",
   "execution_count": 133,
   "metadata": {},
   "outputs": [
    {
     "data": {
      "text/html": [
       "<div>\n",
       "<style scoped>\n",
       "    .dataframe tbody tr th:only-of-type {\n",
       "        vertical-align: middle;\n",
       "    }\n",
       "\n",
       "    .dataframe tbody tr th {\n",
       "        vertical-align: top;\n",
       "    }\n",
       "\n",
       "    .dataframe thead th {\n",
       "        text-align: right;\n",
       "    }\n",
       "</style>\n",
       "<table border=\"1\" class=\"dataframe\">\n",
       "  <thead>\n",
       "    <tr style=\"text-align: right;\">\n",
       "      <th></th>\n",
       "      <th>VtyDayRet30d</th>\n",
       "    </tr>\n",
       "  </thead>\n",
       "  <tbody>\n",
       "    <tr>\n",
       "      <th>965</th>\n",
       "      <td>0.129609</td>\n",
       "    </tr>\n",
       "  </tbody>\n",
       "</table>\n",
       "</div>"
      ],
      "text/plain": [
       "     VtyDayRet30d\n",
       "965      0.129609"
      ]
     },
     "execution_count": 133,
     "metadata": {},
     "output_type": "execute_result"
    }
   ],
   "source": [
    "#creating mask in order to map index to date of max volatility \n",
    "\n",
    "max_v = first_halv_prior_post[['VtyDayRet30d']][first_halv_prior_post[['VtyDayRet30d']] == max_vol]\n",
    "max_v = max_v.dropna()\n",
    "max_v"
   ]
  },
  {
   "cell_type": "code",
   "execution_count": 134,
   "metadata": {},
   "outputs": [
    {
     "data": {
      "text/plain": [
       "965"
      ]
     },
     "execution_count": 134,
     "metadata": {},
     "output_type": "execute_result"
    }
   ],
   "source": [
    "max_val_index = max_v.index[0]\n",
    "max_val_index"
   ]
  },
  {
   "cell_type": "code",
   "execution_count": 135,
   "metadata": {},
   "outputs": [
    {
     "data": {
      "text/plain": [
       "Timestamp('2020-03-23 00:00:00')"
      ]
     },
     "execution_count": 135,
     "metadata": {},
     "output_type": "execute_result"
    }
   ],
   "source": [
    "halv1 = first_halv_prior_post[['date', 'VtyDayRet30d']].loc[max_val_index][0]\n",
    "halv1"
   ]
  },
  {
   "cell_type": "code",
   "execution_count": 136,
   "metadata": {},
   "outputs": [
    {
     "data": {
      "image/png": "[encoded data removed]",
      "text/plain": [
       "<Figure size 1008x432 with 1 Axes>"
      ]
     },
     "metadata": {
      "needs_background": "light"
     },
     "output_type": "display_data"
    }
   ],
   "source": [
    "#red line shows us max volatility for the current period \n",
    "#blue line shows exact date of halving \n",
    "\n",
    "fig, ax = plt.subplots(figsize = (14,6))    \n",
    "fig.autofmt_xdate() \n",
    "\n",
    "plt.axvline(halv1, color='r', linestyle='--', lw=2, label='Period of Max Volatility')\n",
    "plt.axvline('2020-04-08', color='b', linestyle='--', lw=2, label=\"BCH's Halving\")\n",
    "\n",
    " \n",
    "fig = sns.lineplot(x='date', y='volatility_30', data=first_halv_prior_post)\n",
    "\n",
    "ax.set_title(\"BCH's 30d Volatility in the Last 3 Months\", size=14)\n",
    "ax.set_xlabel('Date', size=12)\n",
    "ax.set_ylabel('Volatility (%)', size=12)\n",
    "\n",
    "plt.legend();"
   ]
  },
  {
   "cell_type": "code",
   "execution_count": 137,
   "metadata": {},
   "outputs": [],
   "source": [
    "bsv = pd.read_csv('bsv_april.csv')"
   ]
  },
  {
   "cell_type": "code",
   "execution_count": 138,
   "metadata": {},
   "outputs": [
    {
     "data": {
      "text/html": [
       "<div>\n",
       "<style scoped>\n",
       "    .dataframe tbody tr th:only-of-type {\n",
       "        vertical-align: middle;\n",
       "    }\n",
       "\n",
       "    .dataframe tbody tr th {\n",
       "        vertical-align: top;\n",
       "    }\n",
       "\n",
       "    .dataframe thead th {\n",
       "        text-align: right;\n",
       "    }\n",
       "</style>\n",
       "<table border=\"1\" class=\"dataframe\">\n",
       "  <thead>\n",
       "    <tr style=\"text-align: right;\">\n",
       "      <th></th>\n",
       "      <th>time</th>\n",
       "      <th>AdrActCnt</th>\n",
       "      <th>BlkCnt</th>\n",
       "      <th>BlkSizeByte</th>\n",
       "      <th>BlkSizeMeanByte</th>\n",
       "      <th>CapMVRVCur</th>\n",
       "      <th>CapMrktCurUSD</th>\n",
       "      <th>CapRealUSD</th>\n",
       "      <th>DiffMean</th>\n",
       "      <th>FeeMeanNtv</th>\n",
       "      <th>FeeMeanUSD</th>\n",
       "      <th>FeeMedNtv</th>\n",
       "      <th>FeeMedUSD</th>\n",
       "      <th>FeeTotNtv</th>\n",
       "      <th>FeeTotUSD</th>\n",
       "      <th>HashRate</th>\n",
       "      <th>IssContNtv</th>\n",
       "      <th>IssContPctAnn</th>\n",
       "      <th>IssContUSD</th>\n",
       "      <th>IssTotNtv</th>\n",
       "      <th>IssTotUSD</th>\n",
       "      <th>NVTAdj</th>\n",
       "      <th>NVTAdj90</th>\n",
       "      <th>PriceBTC</th>\n",
       "      <th>PriceUSD</th>\n",
       "      <th>ROI1yr</th>\n",
       "      <th>ROI30d</th>\n",
       "      <th>SplyCur</th>\n",
       "      <th>TxCnt</th>\n",
       "      <th>TxTfrCnt</th>\n",
       "      <th>TxTfrValAdjNtv</th>\n",
       "      <th>TxTfrValAdjUSD</th>\n",
       "      <th>TxTfrValMeanNtv</th>\n",
       "      <th>TxTfrValMeanUSD</th>\n",
       "      <th>TxTfrValMedNtv</th>\n",
       "      <th>TxTfrValMedUSD</th>\n",
       "      <th>TxTfrValNtv</th>\n",
       "      <th>TxTfrValUSD</th>\n",
       "      <th>VtyDayRet180d</th>\n",
       "      <th>VtyDayRet30d</th>\n",
       "      <th>VtyDayRet60d</th>\n",
       "    </tr>\n",
       "  </thead>\n",
       "  <tbody>\n",
       "    <tr>\n",
       "      <th>0</th>\n",
       "      <td>2018-11-15T00:00:00.000Z</td>\n",
       "      <td>42773.0</td>\n",
       "      <td>136.0</td>\n",
       "      <td>430611512.0</td>\n",
       "      <td>3.166261e+06</td>\n",
       "      <td>16.253474</td>\n",
       "      <td>1.618020e+09</td>\n",
       "      <td>9.954918e+07</td>\n",
       "      <td>5.470550e+11</td>\n",
       "      <td>0.000005</td>\n",
       "      <td>0.000441</td>\n",
       "      <td>0.000005</td>\n",
       "      <td>0.000463</td>\n",
       "      <td>5.757</td>\n",
       "      <td>533.503777</td>\n",
       "      <td>3.698418e+06</td>\n",
       "      <td>1700.0</td>\n",
       "      <td>3.55385</td>\n",
       "      <td>157539.751262</td>\n",
       "      <td>1700.0</td>\n",
       "      <td>157539.751262</td>\n",
       "      <td>17.485591</td>\n",
       "      <td>NaN</td>\n",
       "      <td>0.016732</td>\n",
       "      <td>92.670442</td>\n",
       "      <td>NaN</td>\n",
       "      <td>NaN</td>\n",
       "      <td>1.745994e+07</td>\n",
       "      <td>1210546.0</td>\n",
       "      <td>400458.0</td>\n",
       "      <td>998532.795405</td>\n",
       "      <td>9.253448e+07</td>\n",
       "      <td>5.543577</td>\n",
       "      <td>513.725743</td>\n",
       "      <td>0.000239</td>\n",
       "      <td>0.022161</td>\n",
       "      <td>2.219970e+06</td>\n",
       "      <td>2.057256e+08</td>\n",
       "      <td>NaN</td>\n",
       "      <td>NaN</td>\n",
       "      <td>NaN</td>\n",
       "    </tr>\n",
       "  </tbody>\n",
       "</table>\n",
       "</div>"
      ],
      "text/plain": [
       "                       time  AdrActCnt  BlkCnt  BlkSizeByte  BlkSizeMeanByte  \\\n",
       "0  2018-11-15T00:00:00.000Z    42773.0   136.0  430611512.0     3.166261e+06   \n",
       "\n",
       "   CapMVRVCur  CapMrktCurUSD    CapRealUSD      DiffMean  FeeMeanNtv  \\\n",
       "0   16.253474   1.618020e+09  9.954918e+07  5.470550e+11    0.000005   \n",
       "\n",
       "   FeeMeanUSD  FeeMedNtv  FeeMedUSD  FeeTotNtv   FeeTotUSD      HashRate  \\\n",
       "0    0.000441   0.000005   0.000463      5.757  533.503777  3.698418e+06   \n",
       "\n",
       "   IssContNtv  IssContPctAnn     IssContUSD  IssTotNtv      IssTotUSD  \\\n",
       "0      1700.0        3.55385  157539.751262     1700.0  157539.751262   \n",
       "\n",
       "      NVTAdj  NVTAdj90  PriceBTC   PriceUSD  ROI1yr  ROI30d       SplyCur  \\\n",
       "0  17.485591       NaN  0.016732  92.670442     NaN     NaN  1.745994e+07   \n",
       "\n",
       "       TxCnt  TxTfrCnt  TxTfrValAdjNtv  TxTfrValAdjUSD  TxTfrValMeanNtv  \\\n",
       "0  1210546.0  400458.0   998532.795405    9.253448e+07         5.543577   \n",
       "\n",
       "   TxTfrValMeanUSD  TxTfrValMedNtv  TxTfrValMedUSD   TxTfrValNtv  \\\n",
       "0       513.725743        0.000239        0.022161  2.219970e+06   \n",
       "\n",
       "    TxTfrValUSD  VtyDayRet180d  VtyDayRet30d  VtyDayRet60d  \n",
       "0  2.057256e+08            NaN           NaN           NaN  "
      ]
     },
     "execution_count": 138,
     "metadata": {},
     "output_type": "execute_result"
    }
   ],
   "source": [
    "bsv.head(1)"
   ]
  },
  {
   "cell_type": "code",
   "execution_count": 139,
   "metadata": {},
   "outputs": [],
   "source": [
    "bsv = bsv.rename(columns={'time': 'date'})"
   ]
  },
  {
   "cell_type": "code",
   "execution_count": 140,
   "metadata": {},
   "outputs": [],
   "source": [
    "bsv['date'] = [i[0:10] for i in bsv['date']]"
   ]
  },
  {
   "cell_type": "code",
   "execution_count": 141,
   "metadata": {},
   "outputs": [],
   "source": [
    "bsv['date'] = pd.to_datetime(bsv['date'])"
   ]
  },
  {
   "cell_type": "code",
   "execution_count": 142,
   "metadata": {},
   "outputs": [
    {
     "data": {
      "text/html": [
       "<div>\n",
       "<style scoped>\n",
       "    .dataframe tbody tr th:only-of-type {\n",
       "        vertical-align: middle;\n",
       "    }\n",
       "\n",
       "    .dataframe tbody tr th {\n",
       "        vertical-align: top;\n",
       "    }\n",
       "\n",
       "    .dataframe thead th {\n",
       "        text-align: right;\n",
       "    }\n",
       "</style>\n",
       "<table border=\"1\" class=\"dataframe\">\n",
       "  <thead>\n",
       "    <tr style=\"text-align: right;\">\n",
       "      <th></th>\n",
       "      <th>date</th>\n",
       "      <th>AdrActCnt</th>\n",
       "      <th>BlkCnt</th>\n",
       "      <th>BlkSizeByte</th>\n",
       "      <th>BlkSizeMeanByte</th>\n",
       "      <th>CapMVRVCur</th>\n",
       "      <th>CapMrktCurUSD</th>\n",
       "      <th>CapRealUSD</th>\n",
       "      <th>DiffMean</th>\n",
       "      <th>FeeMeanNtv</th>\n",
       "      <th>FeeMeanUSD</th>\n",
       "      <th>FeeMedNtv</th>\n",
       "      <th>FeeMedUSD</th>\n",
       "      <th>FeeTotNtv</th>\n",
       "      <th>FeeTotUSD</th>\n",
       "      <th>HashRate</th>\n",
       "      <th>IssContNtv</th>\n",
       "      <th>IssContPctAnn</th>\n",
       "      <th>IssContUSD</th>\n",
       "      <th>IssTotNtv</th>\n",
       "      <th>IssTotUSD</th>\n",
       "      <th>NVTAdj</th>\n",
       "      <th>NVTAdj90</th>\n",
       "      <th>PriceBTC</th>\n",
       "      <th>PriceUSD</th>\n",
       "      <th>ROI1yr</th>\n",
       "      <th>ROI30d</th>\n",
       "      <th>SplyCur</th>\n",
       "      <th>TxCnt</th>\n",
       "      <th>TxTfrCnt</th>\n",
       "      <th>TxTfrValAdjNtv</th>\n",
       "      <th>TxTfrValAdjUSD</th>\n",
       "      <th>TxTfrValMeanNtv</th>\n",
       "      <th>TxTfrValMeanUSD</th>\n",
       "      <th>TxTfrValMedNtv</th>\n",
       "      <th>TxTfrValMedUSD</th>\n",
       "      <th>TxTfrValNtv</th>\n",
       "      <th>TxTfrValUSD</th>\n",
       "      <th>VtyDayRet180d</th>\n",
       "      <th>VtyDayRet30d</th>\n",
       "      <th>VtyDayRet60d</th>\n",
       "    </tr>\n",
       "  </thead>\n",
       "  <tbody>\n",
       "    <tr>\n",
       "      <th>0</th>\n",
       "      <td>2018-11-15</td>\n",
       "      <td>42773.0</td>\n",
       "      <td>136.0</td>\n",
       "      <td>430611512.0</td>\n",
       "      <td>3.166261e+06</td>\n",
       "      <td>16.253474</td>\n",
       "      <td>1.618020e+09</td>\n",
       "      <td>9.954918e+07</td>\n",
       "      <td>5.470550e+11</td>\n",
       "      <td>0.000005</td>\n",
       "      <td>0.000441</td>\n",
       "      <td>0.000005</td>\n",
       "      <td>0.000463</td>\n",
       "      <td>5.757</td>\n",
       "      <td>533.503777</td>\n",
       "      <td>3.698418e+06</td>\n",
       "      <td>1700.0</td>\n",
       "      <td>3.55385</td>\n",
       "      <td>157539.751262</td>\n",
       "      <td>1700.0</td>\n",
       "      <td>157539.751262</td>\n",
       "      <td>17.485591</td>\n",
       "      <td>NaN</td>\n",
       "      <td>0.016732</td>\n",
       "      <td>92.670442</td>\n",
       "      <td>NaN</td>\n",
       "      <td>NaN</td>\n",
       "      <td>1.745994e+07</td>\n",
       "      <td>1210546.0</td>\n",
       "      <td>400458.0</td>\n",
       "      <td>998532.795405</td>\n",
       "      <td>9.253448e+07</td>\n",
       "      <td>5.543577</td>\n",
       "      <td>513.725743</td>\n",
       "      <td>0.000239</td>\n",
       "      <td>0.022161</td>\n",
       "      <td>2.219970e+06</td>\n",
       "      <td>2.057256e+08</td>\n",
       "      <td>NaN</td>\n",
       "      <td>NaN</td>\n",
       "      <td>NaN</td>\n",
       "    </tr>\n",
       "  </tbody>\n",
       "</table>\n",
       "</div>"
      ],
      "text/plain": [
       "        date  AdrActCnt  BlkCnt  BlkSizeByte  BlkSizeMeanByte  CapMVRVCur  \\\n",
       "0 2018-11-15    42773.0   136.0  430611512.0     3.166261e+06   16.253474   \n",
       "\n",
       "   CapMrktCurUSD    CapRealUSD      DiffMean  FeeMeanNtv  FeeMeanUSD  \\\n",
       "0   1.618020e+09  9.954918e+07  5.470550e+11    0.000005    0.000441   \n",
       "\n",
       "   FeeMedNtv  FeeMedUSD  FeeTotNtv   FeeTotUSD      HashRate  IssContNtv  \\\n",
       "0   0.000005   0.000463      5.757  533.503777  3.698418e+06      1700.0   \n",
       "\n",
       "   IssContPctAnn     IssContUSD  IssTotNtv      IssTotUSD     NVTAdj  \\\n",
       "0        3.55385  157539.751262     1700.0  157539.751262  17.485591   \n",
       "\n",
       "   NVTAdj90  PriceBTC   PriceUSD  ROI1yr  ROI30d       SplyCur      TxCnt  \\\n",
       "0       NaN  0.016732  92.670442     NaN     NaN  1.745994e+07  1210546.0   \n",
       "\n",
       "   TxTfrCnt  TxTfrValAdjNtv  TxTfrValAdjUSD  TxTfrValMeanNtv  TxTfrValMeanUSD  \\\n",
       "0  400458.0   998532.795405    9.253448e+07         5.543577       513.725743   \n",
       "\n",
       "   TxTfrValMedNtv  TxTfrValMedUSD   TxTfrValNtv   TxTfrValUSD  VtyDayRet180d  \\\n",
       "0        0.000239        0.022161  2.219970e+06  2.057256e+08            NaN   \n",
       "\n",
       "   VtyDayRet30d  VtyDayRet60d  \n",
       "0           NaN           NaN  "
      ]
     },
     "execution_count": 142,
     "metadata": {},
     "output_type": "execute_result"
    }
   ],
   "source": [
    "bsv.head(1)"
   ]
  },
  {
   "cell_type": "code",
   "execution_count": 143,
   "metadata": {},
   "outputs": [
    {
     "data": {
      "text/html": [
       "<div>\n",
       "<style scoped>\n",
       "    .dataframe tbody tr th:only-of-type {\n",
       "        vertical-align: middle;\n",
       "    }\n",
       "\n",
       "    .dataframe tbody tr th {\n",
       "        vertical-align: top;\n",
       "    }\n",
       "\n",
       "    .dataframe thead th {\n",
       "        text-align: right;\n",
       "    }\n",
       "</style>\n",
       "<table border=\"1\" class=\"dataframe\">\n",
       "  <thead>\n",
       "    <tr style=\"text-align: right;\">\n",
       "      <th></th>\n",
       "      <th>date</th>\n",
       "      <th>BlkCnt</th>\n",
       "      <th>IssContNtv</th>\n",
       "    </tr>\n",
       "  </thead>\n",
       "  <tbody>\n",
       "    <tr>\n",
       "      <th>0</th>\n",
       "      <td>2018-11-15</td>\n",
       "      <td>136.0</td>\n",
       "      <td>1700.0</td>\n",
       "    </tr>\n",
       "  </tbody>\n",
       "</table>\n",
       "</div>"
      ],
      "text/plain": [
       "        date  BlkCnt  IssContNtv\n",
       "0 2018-11-15   136.0      1700.0"
      ]
     },
     "execution_count": 143,
     "metadata": {},
     "output_type": "execute_result"
    }
   ],
   "source": [
    "#confirm halving dates \n",
    "#10-04-2020\n",
    "bsv[['date', 'BlkCnt', 'IssContNtv']].head(1)"
   ]
  },
  {
   "cell_type": "code",
   "execution_count": 144,
   "metadata": {},
   "outputs": [],
   "source": [
    "#we are only interested in btc volatility \n",
    "\n",
    "bsv_vol = bsv[['date', 'VtyDayRet180d', 'VtyDayRet60d', 'VtyDayRet30d']]"
   ]
  },
  {
   "cell_type": "code",
   "execution_count": 145,
   "metadata": {},
   "outputs": [
    {
     "data": {
      "text/plain": [
       "date             0\n",
       "VtyDayRet180d    0\n",
       "VtyDayRet60d     0\n",
       "VtyDayRet30d     0\n",
       "dtype: int64"
      ]
     },
     "execution_count": 145,
     "metadata": {},
     "output_type": "execute_result"
    }
   ],
   "source": [
    "#checking for NaNs \n",
    "bsv_vol = bsv_vol.fillna(0)\n",
    "bsv_vol.isna().sum()"
   ]
  },
  {
   "cell_type": "code",
   "execution_count": 146,
   "metadata": {},
   "outputs": [],
   "source": [
    "#For readability let's represent volatility as a % \n",
    "bsv_vol['volatility_30'] = bsv_vol['VtyDayRet30d']*100\n",
    "bsv_vol['volatility_60'] = bsv_vol['VtyDayRet60d']*100\n",
    "bsv_vol['volatility_180'] = bsv_vol['VtyDayRet180d']*100"
   ]
  },
  {
   "cell_type": "code",
   "execution_count": 147,
   "metadata": {},
   "outputs": [
    {
     "data": {
      "text/plain": [
       "pandas._libs.tslibs.timestamps.Timestamp"
      ]
     },
     "execution_count": 147,
     "metadata": {},
     "output_type": "execute_result"
    }
   ],
   "source": [
    "type(bsv_vol['date'][0])"
   ]
  },
  {
   "cell_type": "code",
   "execution_count": 148,
   "metadata": {},
   "outputs": [],
   "source": [
    "#might be more useful to zoom in \n",
    "\n",
    "#divide df for period between inception and 1st halving \n",
    "#and from 1st halving to 2nd halving \n",
    "#and finally from 2nd halving to preent \n",
    "\n",
    "#creating masks \n",
    "bsv_halv_1 = bsv_vol[bsv_vol['date'] == '2020-04-10']"
   ]
  },
  {
   "cell_type": "code",
   "execution_count": 149,
   "metadata": {},
   "outputs": [],
   "source": [
    "vol_1st_halv = bsv_vol[0:bsv_halv_1.index[0]+1]\n",
    "vol_pre = bsv_vol[bsv_halv_1.index[0]:-1]"
   ]
  },
  {
   "cell_type": "code",
   "execution_count": 150,
   "metadata": {},
   "outputs": [],
   "source": [
    "#let's further zoom in and analyze volatility 3 month prior and 3 month post 1st halving \n",
    "\n",
    "first_halv_prior_post =  bsv_vol[bsv_halv_1.index[0]-90:bsv_halv_1.index[0]+91]"
   ]
  },
  {
   "cell_type": "code",
   "execution_count": 151,
   "metadata": {},
   "outputs": [
    {
     "data": {
      "text/html": [
       "<div>\n",
       "<style scoped>\n",
       "    .dataframe tbody tr th:only-of-type {\n",
       "        vertical-align: middle;\n",
       "    }\n",
       "\n",
       "    .dataframe tbody tr th {\n",
       "        vertical-align: top;\n",
       "    }\n",
       "\n",
       "    .dataframe thead th {\n",
       "        text-align: right;\n",
       "    }\n",
       "</style>\n",
       "<table border=\"1\" class=\"dataframe\">\n",
       "  <thead>\n",
       "    <tr style=\"text-align: right;\">\n",
       "      <th></th>\n",
       "      <th>date</th>\n",
       "      <th>VtyDayRet180d</th>\n",
       "      <th>VtyDayRet60d</th>\n",
       "      <th>VtyDayRet30d</th>\n",
       "      <th>volatility_30</th>\n",
       "      <th>volatility_60</th>\n",
       "      <th>volatility_180</th>\n",
       "    </tr>\n",
       "  </thead>\n",
       "  <tbody>\n",
       "    <tr>\n",
       "      <th>422</th>\n",
       "      <td>2020-01-11</td>\n",
       "      <td>0.057128</td>\n",
       "      <td>0.064454</td>\n",
       "      <td>0.081952</td>\n",
       "      <td>8.195230</td>\n",
       "      <td>6.445385</td>\n",
       "      <td>5.712775</td>\n",
       "    </tr>\n",
       "    <tr>\n",
       "      <th>423</th>\n",
       "      <td>2020-01-12</td>\n",
       "      <td>0.056486</td>\n",
       "      <td>0.065351</td>\n",
       "      <td>0.082964</td>\n",
       "      <td>8.296415</td>\n",
       "      <td>6.535112</td>\n",
       "      <td>5.648625</td>\n",
       "    </tr>\n",
       "    <tr>\n",
       "      <th>424</th>\n",
       "      <td>2020-01-13</td>\n",
       "      <td>0.056370</td>\n",
       "      <td>0.065514</td>\n",
       "      <td>0.083027</td>\n",
       "      <td>8.302742</td>\n",
       "      <td>6.551361</td>\n",
       "      <td>5.637024</td>\n",
       "    </tr>\n",
       "    <tr>\n",
       "      <th>425</th>\n",
       "      <td>2020-01-14</td>\n",
       "      <td>0.086664</td>\n",
       "      <td>0.131847</td>\n",
       "      <td>0.179363</td>\n",
       "      <td>17.936303</td>\n",
       "      <td>13.184743</td>\n",
       "      <td>8.666358</td>\n",
       "    </tr>\n",
       "    <tr>\n",
       "      <th>426</th>\n",
       "      <td>2020-01-15</td>\n",
       "      <td>0.089469</td>\n",
       "      <td>0.138187</td>\n",
       "      <td>0.189770</td>\n",
       "      <td>18.977007</td>\n",
       "      <td>13.818724</td>\n",
       "      <td>8.946881</td>\n",
       "    </tr>\n",
       "  </tbody>\n",
       "</table>\n",
       "</div>"
      ],
      "text/plain": [
       "          date  VtyDayRet180d  VtyDayRet60d  VtyDayRet30d  volatility_30  \\\n",
       "422 2020-01-11       0.057128      0.064454      0.081952       8.195230   \n",
       "423 2020-01-12       0.056486      0.065351      0.082964       8.296415   \n",
       "424 2020-01-13       0.056370      0.065514      0.083027       8.302742   \n",
       "425 2020-01-14       0.086664      0.131847      0.179363      17.936303   \n",
       "426 2020-01-15       0.089469      0.138187      0.189770      18.977007   \n",
       "\n",
       "     volatility_60  volatility_180  \n",
       "422       6.445385        5.712775  \n",
       "423       6.535112        5.648625  \n",
       "424       6.551361        5.637024  \n",
       "425      13.184743        8.666358  \n",
       "426      13.818724        8.946881  "
      ]
     },
     "execution_count": 151,
     "metadata": {},
     "output_type": "execute_result"
    }
   ],
   "source": [
    "#90 days prior and 90 days post 1st halving \n",
    "\n",
    "first_halv_prior_post.head()"
   ]
  },
  {
   "cell_type": "code",
   "execution_count": 152,
   "metadata": {},
   "outputs": [
    {
     "data": {
      "text/plain": [
       "0.198051449616428"
      ]
     },
     "execution_count": 152,
     "metadata": {},
     "output_type": "execute_result"
    }
   ],
   "source": [
    "max_vol = max(first_halv_prior_post['VtyDayRet30d'])\n",
    "max_vol"
   ]
  },
  {
   "cell_type": "code",
   "execution_count": 153,
   "metadata": {},
   "outputs": [
    {
     "data": {
      "text/html": [
       "<div>\n",
       "<style scoped>\n",
       "    .dataframe tbody tr th:only-of-type {\n",
       "        vertical-align: middle;\n",
       "    }\n",
       "\n",
       "    .dataframe tbody tr th {\n",
       "        vertical-align: top;\n",
       "    }\n",
       "\n",
       "    .dataframe thead th {\n",
       "        text-align: right;\n",
       "    }\n",
       "</style>\n",
       "<table border=\"1\" class=\"dataframe\">\n",
       "  <thead>\n",
       "    <tr style=\"text-align: right;\">\n",
       "      <th></th>\n",
       "      <th>VtyDayRet30d</th>\n",
       "    </tr>\n",
       "  </thead>\n",
       "  <tbody>\n",
       "    <tr>\n",
       "      <th>450</th>\n",
       "      <td>0.198051</td>\n",
       "    </tr>\n",
       "  </tbody>\n",
       "</table>\n",
       "</div>"
      ],
      "text/plain": [
       "     VtyDayRet30d\n",
       "450      0.198051"
      ]
     },
     "execution_count": 153,
     "metadata": {},
     "output_type": "execute_result"
    }
   ],
   "source": [
    "#creating mask in order to map index to date of max volatility \n",
    "\n",
    "max_v = first_halv_prior_post[['VtyDayRet30d']][first_halv_prior_post[['VtyDayRet30d']] == max_vol]\n",
    "max_v = max_v.dropna()\n",
    "max_v"
   ]
  },
  {
   "cell_type": "code",
   "execution_count": 154,
   "metadata": {},
   "outputs": [
    {
     "data": {
      "text/plain": [
       "450"
      ]
     },
     "execution_count": 154,
     "metadata": {},
     "output_type": "execute_result"
    }
   ],
   "source": [
    "max_val_index = max_v.index[0]\n",
    "max_val_index"
   ]
  },
  {
   "cell_type": "code",
   "execution_count": 155,
   "metadata": {},
   "outputs": [
    {
     "data": {
      "text/plain": [
       "Timestamp('2020-02-08 00:00:00')"
      ]
     },
     "execution_count": 155,
     "metadata": {},
     "output_type": "execute_result"
    }
   ],
   "source": [
    "halv1 = first_halv_prior_post[['date', 'VtyDayRet30d']].loc[max_val_index][0]\n",
    "halv1"
   ]
  },
  {
   "cell_type": "code",
   "execution_count": 156,
   "metadata": {},
   "outputs": [
    {
     "data": {
      "image/png": "[encoded data removed]",
      "text/plain": [
       "<Figure size 1008x432 with 1 Axes>"
      ]
     },
     "metadata": {
      "needs_background": "light"
     },
     "output_type": "display_data"
    }
   ],
   "source": [
    "#red line shows us max volatility for the current period \n",
    "#blue line shows exact date of halving \n",
    "\n",
    "fig, ax = plt.subplots(figsize = (14,6))    \n",
    "fig.autofmt_xdate() \n",
    "\n",
    "plt.axvline(halv1, color='r', linestyle='--', lw=2, label='Period of Max Volatility')\n",
    "plt.axvline('2020-04-10', color='b', linestyle='--', lw=2, label=\"BSV's Halving\")\n",
    "\n",
    " \n",
    "fig = sns.lineplot(x='date', y='volatility_30', data=first_halv_prior_post)\n",
    "\n",
    "ax.set_title(\"BSV's 30d Volatility in the Last 3 Months\", size=14)\n",
    "ax.set_xlabel('Date', size=12)\n",
    "ax.set_ylabel('Volatility (%)', size=12)\n",
    "\n",
    "plt.legend();"
   ]
  },
  {
   "cell_type": "code",
   "execution_count": null,
   "metadata": {},
   "outputs": [],
   "source": []
  }
 ],
 "metadata": {
  "kernelspec": {
   "display_name": "Python 3",
   "language": "python",
   "name": "python3"
  },
  "language_info": {
   "codemirror_mode": {
    "name": "ipython",
    "version": 3
   },
   "file_extension": ".py",
   "mimetype": "text/x-python",
   "name": "python",
   "nbconvert_exporter": "python",
   "pygments_lexer": "ipython3",
   "version": "3.7.3"
  }
 },
 "nbformat": 4,
 "nbformat_minor": 2
}
